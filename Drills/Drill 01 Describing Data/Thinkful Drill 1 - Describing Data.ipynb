{
 "cells": [
  {
   "cell_type": "markdown",
   "metadata": {},
   "source": [
    "# Thinkful Drill #1: Describing Data"
   ]
  },
  {
   "cell_type": "markdown",
   "metadata": {},
   "source": [
    "1. Greg was 14, Marcia was 12, Peter was 11, Jan was 10, Bobby was 8, and Cindy was 6 when they started playing the Brady kids on The Brady Bunch. Cousin Oliver was 8 years old when he joined the show. What are the mean, median, and mode of the kids' ages when they first appeared on the show? What are the variance, standard deviation, and standard error?\n",
    "\n",
    "2. Using these estimates, if you had to choose only one estimate of central tendency and one estimate of variance to describe the data, which would you pick and why?\n",
    "\n",
    "3. Next, Cindy has a birthday. Update your estimates- what changed, and what didn't?\n",
    "\n",
    "4. Nobody likes Cousin Oliver. Maybe the network should have used an even younger actor. Replace Cousin Oliver with 1-year-old Jessica, then recalculate again. Does this change your choice of central tendency or variance estimation methods?\n",
    "\n",
    "5. On the 50th anniversary of The Brady Bunch, four different magazines asked their readers whether they were fans of the show. The answers were: TV Guide 20% fans Entertainment Weekly 23% fans Pop Culture Today 17% fans SciPhi Phanatic 5% fans. Based on these numbers, what percentage of adult Americans would you estimate were Brady Bunch fans on the 50th anniversary of the show?"
   ]
  },
  {
   "cell_type": "code",
   "execution_count": 41,
   "metadata": {},
   "outputs": [
    {
     "data": {
      "text/html": [
       "<div>\n",
       "<style>\n",
       "    .dataframe thead tr:only-child th {\n",
       "        text-align: right;\n",
       "    }\n",
       "\n",
       "    .dataframe thead th {\n",
       "        text-align: left;\n",
       "    }\n",
       "\n",
       "    .dataframe tbody tr th {\n",
       "        vertical-align: top;\n",
       "    }\n",
       "</style>\n",
       "<table border=\"1\" class=\"dataframe\">\n",
       "  <thead>\n",
       "    <tr style=\"text-align: right;\">\n",
       "      <th></th>\n",
       "      <th>Name</th>\n",
       "      <th>Age</th>\n",
       "      <th>Magazine Title</th>\n",
       "      <th>% readers</th>\n",
       "    </tr>\n",
       "  </thead>\n",
       "  <tbody>\n",
       "    <tr>\n",
       "      <th>0</th>\n",
       "      <td>Greg</td>\n",
       "      <td>14</td>\n",
       "      <td>TV Guide</td>\n",
       "      <td>20.0</td>\n",
       "    </tr>\n",
       "    <tr>\n",
       "      <th>1</th>\n",
       "      <td>Marcia</td>\n",
       "      <td>12</td>\n",
       "      <td>Entertainment Weekly</td>\n",
       "      <td>23.0</td>\n",
       "    </tr>\n",
       "    <tr>\n",
       "      <th>2</th>\n",
       "      <td>Peter</td>\n",
       "      <td>11</td>\n",
       "      <td>Pop Culture Today</td>\n",
       "      <td>17.0</td>\n",
       "    </tr>\n",
       "    <tr>\n",
       "      <th>3</th>\n",
       "      <td>Jan</td>\n",
       "      <td>10</td>\n",
       "      <td>SciPhi Phanatics</td>\n",
       "      <td>5.0</td>\n",
       "    </tr>\n",
       "    <tr>\n",
       "      <th>4</th>\n",
       "      <td>Bobby</td>\n",
       "      <td>8</td>\n",
       "      <td>Other</td>\n",
       "      <td>35.0</td>\n",
       "    </tr>\n",
       "  </tbody>\n",
       "</table>\n",
       "</div>"
      ],
      "text/plain": [
       "     Name  Age        Magazine Title  % readers\n",
       "0    Greg   14              TV Guide       20.0\n",
       "1  Marcia   12  Entertainment Weekly       23.0\n",
       "2   Peter   11     Pop Culture Today       17.0\n",
       "3     Jan   10      SciPhi Phanatics        5.0\n",
       "4   Bobby    8                 Other       35.0"
      ]
     },
     "execution_count": 41,
     "metadata": {},
     "output_type": "execute_result"
    }
   ],
   "source": [
    "import pandas as pd\n",
    "import numpy as np\n",
    "\n",
    "brady_bunch = pd.read_csv(\"Drill 1 Data.csv\")\n",
    "brady_bunch.head()"
   ]
  },
  {
   "cell_type": "code",
   "execution_count": 42,
   "metadata": {},
   "outputs": [
    {
     "data": {
      "text/html": [
       "<div>\n",
       "<style>\n",
       "    .dataframe thead tr:only-child th {\n",
       "        text-align: right;\n",
       "    }\n",
       "\n",
       "    .dataframe thead th {\n",
       "        text-align: left;\n",
       "    }\n",
       "\n",
       "    .dataframe tbody tr th {\n",
       "        vertical-align: top;\n",
       "    }\n",
       "</style>\n",
       "<table border=\"1\" class=\"dataframe\">\n",
       "  <thead>\n",
       "    <tr style=\"text-align: right;\">\n",
       "      <th></th>\n",
       "      <th>Age</th>\n",
       "      <th>% readers</th>\n",
       "    </tr>\n",
       "  </thead>\n",
       "  <tbody>\n",
       "    <tr>\n",
       "      <th>count</th>\n",
       "      <td>7.000000</td>\n",
       "      <td>5.000000</td>\n",
       "    </tr>\n",
       "    <tr>\n",
       "      <th>mean</th>\n",
       "      <td>9.857143</td>\n",
       "      <td>20.000000</td>\n",
       "    </tr>\n",
       "    <tr>\n",
       "      <th>std</th>\n",
       "      <td>2.734262</td>\n",
       "      <td>10.816654</td>\n",
       "    </tr>\n",
       "    <tr>\n",
       "      <th>min</th>\n",
       "      <td>6.000000</td>\n",
       "      <td>5.000000</td>\n",
       "    </tr>\n",
       "    <tr>\n",
       "      <th>25%</th>\n",
       "      <td>8.000000</td>\n",
       "      <td>17.000000</td>\n",
       "    </tr>\n",
       "    <tr>\n",
       "      <th>50%</th>\n",
       "      <td>10.000000</td>\n",
       "      <td>20.000000</td>\n",
       "    </tr>\n",
       "    <tr>\n",
       "      <th>75%</th>\n",
       "      <td>11.500000</td>\n",
       "      <td>23.000000</td>\n",
       "    </tr>\n",
       "    <tr>\n",
       "      <th>max</th>\n",
       "      <td>14.000000</td>\n",
       "      <td>35.000000</td>\n",
       "    </tr>\n",
       "  </tbody>\n",
       "</table>\n",
       "</div>"
      ],
      "text/plain": [
       "             Age  % readers\n",
       "count   7.000000   5.000000\n",
       "mean    9.857143  20.000000\n",
       "std     2.734262  10.816654\n",
       "min     6.000000   5.000000\n",
       "25%     8.000000  17.000000\n",
       "50%    10.000000  20.000000\n",
       "75%    11.500000  23.000000\n",
       "max    14.000000  35.000000"
      ]
     },
     "execution_count": 42,
     "metadata": {},
     "output_type": "execute_result"
    }
   ],
   "source": [
    "brady_bunch.describe()"
   ]
  },
  {
   "cell_type": "markdown",
   "metadata": {},
   "source": [
    "#### 1) Greg was 14, Marcia was 12, Peter was 11, Jan was 10, Bobby was 8, and Cindy was 6 when they started playing the Brady kids on The Brady Bunch. Cousin Oliver was 8 years old when he joined the show. What are the mean, median, and mode of the kids' ages when they first appeared on the show? What are the variance, standard deviation, and standard error?"
   ]
  },
  {
   "cell_type": "code",
   "execution_count": 43,
   "metadata": {},
   "outputs": [
    {
     "name": "stdout",
     "output_type": "stream",
     "text": [
      "The mean value for brady bunch kids' ages is: 9.857142857142858\n",
      "The median value for brady bunch kids' ages is: 10.0\n",
      "The mode value for brady bunch kids' ages is: 8\n",
      "The standard deviation value for brady bunch kids' ages is: 2.734262327610589\n",
      "The standard error value for brady bunch kids' ages is: 1.03345401972\n",
      "The variance value for brady bunch kids' ages is: 6.408163265306122\n"
     ]
    }
   ],
   "source": [
    "import statistics\n",
    "bb_mean = np.mean(brady_bunch[\"Age\"])\n",
    "bb_median = np.median(brady_bunch[\"Age\"])\n",
    "bb_mode = statistics.mode(brady_bunch[\"Age\"])\n",
    "bb_std = np.std(brady_bunch[\"Age\"],ddof=1)\n",
    "bb_stderr = bb_std / np.sqrt(len(brady_bunch[\"Age\"]))\n",
    "bb_variance = np.var(brady_bunch[\"Age\"])\n",
    "\n",
    "string_list = [\"mean\",\"median\",\"mode\",\"standard deviation\",\"standard error\",\"variance\"]\n",
    "values_list = [bb_mean,bb_median,bb_mode,bb_std,bb_stderr,bb_variance]\n",
    "count = 0\n",
    "\n",
    "for value in values_list:\n",
    "        print(\"The \" + string_list[count] + \" value for brady bunch kids' ages is: \" + str(value))\n",
    "        count+=1"
   ]
  },
  {
   "cell_type": "markdown",
   "metadata": {},
   "source": [
    "#### 2) Using these estimates, if you had to choose only one estimate of central tendency and one estimate of variance to describe the data, which would you pick and why?"
   ]
  },
  {
   "cell_type": "markdown",
   "metadata": {},
   "source": [
    "Choose mean for estimating central tendency because there are no major outliers in the data set to fluctuate the average. \n",
    "Choose standard deviation for estimating variance because it helps to visualize the difference between the data and central tendency (more so than standard error value and variance value)."
   ]
  },
  {
   "cell_type": "markdown",
   "metadata": {},
   "source": [
    "#### 3) Next, Cindy has a birthday. Update your estimates- what changed, and what didn't?"
   ]
  },
  {
   "cell_type": "code",
   "execution_count": 44,
   "metadata": {},
   "outputs": [
    {
     "name": "stdout",
     "output_type": "stream",
     "text": [
      "Cindy's age before birthday: 5    6\n",
      "Name: Age, dtype: int64\n",
      "Cindy's age after birthday: 5    7\n",
      "Name: Age, dtype: int64\n",
      "The mean value for brady bunch kids' ages is: 10.0\n",
      "The median value for brady bunch kids' ages is: 10.0\n",
      "The mode value for brady bunch kids' ages is: 8\n",
      "The standard deviation value for brady bunch kids' ages is: 2.516611478423583\n",
      "The standard error value for brady bunch kids' ages is: 0.951189731211\n",
      "The variance value for brady bunch kids' ages is: 5.428571428571429\n"
     ]
    }
   ],
   "source": [
    "print(\"Cindy's age before birthday: \" + str(brady_bunch.loc[brady_bunch[\"Name\"]==\"Cindy\",\"Age\"]))\n",
    "brady_bunch.loc[brady_bunch[\"Name\"]==\"Cindy\",\"Age\"] += 1\n",
    "print(\"Cindy's age after birthday: \" + str(brady_bunch.loc[brady_bunch[\"Name\"]==\"Cindy\",\"Age\"]))\n",
    "bb_mean = np.mean(brady_bunch[\"Age\"])\n",
    "bb_median = np.median(brady_bunch[\"Age\"])\n",
    "bb_mode = statistics.mode(brady_bunch[\"Age\"])\n",
    "bb_std = np.std(brady_bunch[\"Age\"],ddof=1)\n",
    "bb_stderr = bb_std / np.sqrt(len(brady_bunch[\"Age\"]))\n",
    "bb_variance = np.var(brady_bunch[\"Age\"])\n",
    "\n",
    "string_list = [\"mean\",\"median\",\"mode\",\"standard deviation\",\"standard error\",\"variance\"]\n",
    "values_list = [bb_mean,bb_median,bb_mode,bb_std,bb_stderr,bb_variance]\n",
    "count = 0\n",
    "\n",
    "for value in values_list:\n",
    "        print(\"The \" + string_list[count] + \" value for brady bunch kids' ages is: \" + str(value))\n",
    "        count+=1"
   ]
  },
  {
   "cell_type": "markdown",
   "metadata": {},
   "source": [
    "Estimates that changed: mean, standard deviation, standard error, variance value\n",
    "\n",
    "Estimates that did not change: median, mode"
   ]
  },
  {
   "cell_type": "markdown",
   "metadata": {},
   "source": [
    "#### 4) Nobody likes Cousin Oliver. Maybe the network should have used an even younger actor. Replace Cousin Oliver with 1-year-old Jessica, then recalculate again. Does this change your choice of central tendency or variance estimation methods?"
   ]
  },
  {
   "cell_type": "code",
   "execution_count": 47,
   "metadata": {},
   "outputs": [
    {
     "name": "stdout",
     "output_type": "stream",
     "text": [
      "      Name  Age\n",
      "0     Greg   14\n",
      "1   Marcia   12\n",
      "2    Peter   11\n",
      "3      Jan   10\n",
      "4    Bobby    8\n",
      "5    Cindy    7\n",
      "6  Jessica    1\n",
      "The mean value for brady bunch kids' ages is: 9.0\n",
      "The median value for brady bunch kids' ages is: 10.0\n",
      "The mode value for brady bunch kids' ages is: 1\n",
      "The standard deviation value for brady bunch kids' ages is: 4.242640687119285\n",
      "The standard error value for brady bunch kids' ages is: 1.60356745147\n",
      "The variance value for brady bunch kids' ages is: 15.428571428571429\n"
     ]
    }
   ],
   "source": [
    "brady_bunch[\"Name\"] = brady_bunch[\"Name\"].str.replace(\"Oliver\",\"Jessica\")\n",
    "brady_bunch.loc[brady_bunch[\"Name\"] == \"Jessica\",\"Age\"] = 1\n",
    "print(brady_bunch[[\"Name\",\"Age\"]])\n",
    "bb_mean = np.mean(brady_bunch[\"Age\"])\n",
    "bb_median = np.median(brady_bunch[\"Age\"])\n",
    "#bb_mode = statistics.mode(brady_bunch[\"Age\"])\n",
    "bb_std = np.std(brady_bunch[\"Age\"],ddof=1)\n",
    "bb_stderr = bb_std / np.sqrt(len(brady_bunch[\"Age\"]))\n",
    "bb_variance = np.var(brady_bunch[\"Age\"])\n",
    "\n",
    "# Multiple modes found, returning just the first mode\n",
    "(values, counts) = np.unique(brady_bunch['Age'], return_counts=True)\n",
    "ind = np.argmax(counts)\n",
    "bb_mode = values[ind]\n",
    "\n",
    "\n",
    "string_list = [\"mean\",\"median\",\"mode\",\"standard deviation\",\"standard error\",\"variance\"]\n",
    "values_list = [bb_mean,bb_median,bb_mode,bb_std,bb_stderr,bb_variance]\n",
    "count = 0\n",
    "\n",
    "for value in values_list:\n",
    "        print(\"The \" + string_list[count] + \" value for brady bunch kids' ages is: \" + str(value))\n",
    "        count+=1"
   ]
  },
  {
   "cell_type": "markdown",
   "metadata": {
    "collapsed": true
   },
   "source": [
    "Based on the data, I would switch to median for central tendency because Jessica fluctuates the dataset values (outlier), and median is a bit more accurate measure than mode due to not having 1 specific mode for the dataset. I would switch to variance value for checking variance because it shows a larger variance between datasets which is expected after replacing Oliver(8) with Jessica(1). Could also stick with standard deviation (4.24 > 2.52, Jessica vs. Oliver).  "
   ]
  },
  {
   "cell_type": "markdown",
   "metadata": {},
   "source": [
    "#### 5) On the 50th anniversary of The Brady Bunch, four different magazines asked their readers whether they were fans of the show. The answers were: TV Guide 20% fans Entertainment Weekly 23% fans Pop Culture Today 17% fans SciPhi Phanatic 5% fans. Based on these numbers, what percentage of adult Americans would you estimate were Brady Bunch fans on the 50th anniversary of the show?"
   ]
  },
  {
   "cell_type": "code",
   "execution_count": 1,
   "metadata": {},
   "outputs": [
    {
     "data": {
      "text/plain": [
       "20.0"
      ]
     },
     "execution_count": 1,
     "metadata": {},
     "output_type": "execute_result"
    }
   ],
   "source": [
    "(20 + 23 + 17) / 3"
   ]
  },
  {
   "cell_type": "markdown",
   "metadata": {},
   "source": [
    "Roughly 20% of adult Americans were Brady Bunch fans on the 50th anniversary of the show. Did not use SciPhi Phanatics data because it's specifically for scifi shows, not necessarily a good representation for fans of the Brady Bunch (non sci-fi film). Plus it's an outlier, so it would fluctuate the data, making the average a poor measurement for central tendency. "
   ]
  }
 ],
 "metadata": {
  "kernelspec": {
   "display_name": "Python 3",
   "language": "python",
   "name": "python3"
  },
  "language_info": {
   "codemirror_mode": {
    "name": "ipython",
    "version": 3
   },
   "file_extension": ".py",
   "mimetype": "text/x-python",
   "name": "python",
   "nbconvert_exporter": "python",
   "pygments_lexer": "ipython3",
   "version": "3.6.3"
  }
 },
 "nbformat": 4,
 "nbformat_minor": 2
}
