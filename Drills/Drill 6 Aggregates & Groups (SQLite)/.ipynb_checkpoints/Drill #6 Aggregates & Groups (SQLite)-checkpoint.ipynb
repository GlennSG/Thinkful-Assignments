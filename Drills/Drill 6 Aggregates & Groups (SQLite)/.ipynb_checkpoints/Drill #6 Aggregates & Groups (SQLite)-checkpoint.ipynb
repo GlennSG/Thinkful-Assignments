{
 "cells": [
  {
   "cell_type": "markdown",
   "metadata": {},
   "source": [
    "## Command Line SQLite"
   ]
  },
  {
   "cell_type": "markdown",
   "metadata": {},
   "source": [
    "sqlite3\n",
    "\n",
    ".open bikeshare.db\n",
    "\n",
    ".mode columns\n",
    "\n",
    ".schema"
   ]
  },
  {
   "cell_type": "markdown",
   "metadata": {},
   "source": [
    "### 1. What was the hottest day in our data set? Where was that?"
   ]
  },
  {
   "cell_type": "markdown",
   "metadata": {},
   "source": [
    "select max(MaxTemperatureF),Date,ZIP\n",
    "\n",
    "from weather;"
   ]
  },
  {
   "cell_type": "markdown",
   "metadata": {},
   "source": [
    "The hottest day was November 17,2015 @ area zip code 94063 (134F)"
   ]
  },
  {
   "cell_type": "markdown",
   "metadata": {},
   "source": [
    "### 2. How many trips started at each station?"
   ]
  },
  {
   "cell_type": "markdown",
   "metadata": {},
   "source": [
    "select start_station, count(*) start_station_count\n",
    "\n",
    "from trips\n",
    "\n",
    "group by start_station;"
   ]
  },
  {
   "cell_type": "code",
   "execution_count": null,
   "metadata": {},
   "outputs": [],
   "source": [
    "start_station  start_station_count\n",
    "-------------  -------------------\n",
    "2nd at Folsom  7464\n",
    "2nd at South   7722\n",
    "2nd at Townse  14099\n",
    "5th S at E. S  19\n",
    "5th St at E.   1\n",
    "5th St at Fol  173\n",
    "5th at Howard  5436\n",
    "Adobe on Alma  789\n",
    "Arena Green /  547\n",
    "Beale at Mark  7373\n",
    "Broadway St a  5695\n",
    "California Av  392\n",
    "Castro Street  1014\n",
    "Charleston Pa  343\n",
    "Civic Center   5043\n",
    "Clay at Batte  4357\n",
    "Commercial at  4969\n",
    "Cowper at Uni  788\n",
    "Cyril Magnin   69\n",
    "Davis at Jack  5240\n",
    "Embarcadero a  7714\n",
    "Embarcadero a  7820\n",
    "Embarcadero a  13424\n",
    "Embarcadero a  4710\n",
    "Evelyn Park a  71\n",
    "Franklin at M  2\n",
    "Golden Gate a  3309\n",
    "Grant Avenue   6735\n",
    "Harry Bridges  16128\n",
    "Howard at 2nd  7583\n",
    "Japantown      945\n",
    "Kaiser Hospit  147\n",
    "MLK Library    630\n",
    "Market at 10t  9937\n",
    "Market at 4th  7337\n",
    "Market at San  10970\n",
    "Mechanics Pla  5613\n",
    "Mezes          119\n",
    "Mezes Park     7\n",
    "Middlefield L  66\n",
    "Mountain View  2515\n",
    "Mountain View  1291\n",
    "Palo Alto Cal  1170\n",
    "Park at Olive  276\n",
    "Paseo de San   833\n",
    "Post at Kearn  4348\n",
    "Powell Street  6826\n",
    "Powell at Pos  4488\n",
    "Redwood City   695\n",
    "Redwood City   5\n",
    "Redwood City   59\n",
    "Rengstorff Av  42\n",
    "Ryland Park    879\n",
    "S. Market St   84\n",
    "SJSU - San Sa  481\n",
    "SJSU 4th at S  363\n",
    "San Antonio C  611\n",
    "San Antonio S  559\n",
    "San Francisco  23591\n",
    "San Francisco  22358\n",
    "San Francisco  2195\n",
    "San Jose City  518\n",
    "San Jose Civi  543\n",
    "San Jose Diri  4035\n",
    "San Mateo Cou  86\n",
    "San Pedro Squ  1215\n",
    "San Salvador   540\n",
    "Santa Clara C  420\n",
    "Santa Clara a  1447\n",
    "Sequoia Hospi  15\n",
    "South Van Nes  5398\n",
    "Spear at Fols  5113\n",
    "St James Park  694\n",
    "Stanford in R  428\n",
    "Steuart at Ma  13693\n",
    "Temporary Tra  13111\n",
    "Townsend at 7  11170\n",
    "University an  490\n",
    "Washington at  2844\n",
    "Yerba Buena C  3460"
   ]
  },
  {
   "cell_type": "markdown",
   "metadata": {},
   "source": [
    "### 3. What's the shortest trip that happened?"
   ]
  },
  {
   "cell_type": "markdown",
   "metadata": {},
   "source": [
    "select min(duration),trip_id\n",
    "\n",
    "from trips;"
   ]
  },
  {
   "cell_type": "markdown",
   "metadata": {},
   "source": [
    "Shortest Trip : trip_id # 1011650 (duration = 60)"
   ]
  },
  {
   "cell_type": "markdown",
   "metadata": {},
   "source": [
    "### 4. What is the average trip duration, by end station?"
   ]
  },
  {
   "cell_type": "code",
   "execution_count": null,
   "metadata": {},
   "outputs": [],
   "source": [
    "end_station    avg(duration)\n",
    "-------------  ----------------\n",
    "2nd at Folsom  557.050760233918\n",
    "2nd at South   531.589903573454\n",
    "2nd at Townse  633.257044057377\n",
    "5th S at E. S  1767.0\n",
    "5th St at E.   686.0\n",
    "5th St at Fol  527.298013245033\n",
    "5th at Howard  583.572311104071\n",
    "Adobe on Alma  828.990789473684\n",
    "Arena Green /  1426.47592592593\n",
    "Beale at Mark  699.791838134431\n",
    "Broadway St a  756.494616846105\n",
    "California Av  1825.5910543131\n",
    "Castro Street  802.502173913044\n",
    "Charleston Pa  2370.22615803815\n",
    "Civic Center   1033.10343347639\n",
    "Clay at Batte  856.799765258216\n",
    "Commercial at  564.716529250098\n",
    "Cowper at Uni  1210.07079646018\n",
    "Cyril Magnin   2926.22058823529\n",
    "Davis at Jack  735.510463121784\n",
    "Embarcadero a  697.743581616482\n",
    "Embarcadero a  613.881648422408\n",
    "Embarcadero a  1400.38250762937\n",
    "Embarcadero a  1372.67024684379\n",
    "Evelyn Park a  739.013157894737\n",
    "Franklin at M  2068.6\n",
    "Golden Gate a  1277.80007601672\n",
    "Grant Avenue   1478.68141836174\n",
    "Harry Bridges  918.877354048964\n",
    "Howard at 2nd  592.663818038391\n",
    "Japantown      969.828918322296\n",
    "Kaiser Hospit  670.296296296296\n",
    "MLK Library    1012.9728\n",
    "Market at 10t  1044.92866020383\n",
    "Market at 4th  1022.00102234555\n",
    "Market at San  612.926951946143\n",
    "Mechanics Pla  731.368790591539\n",
    "Mezes          644.850877192982\n",
    "Mezes Park     257.0\n",
    "Middlefield L  1199.87096774194\n",
    "Mountain View  996.88296178344\n",
    "Mountain View  651.160204828091\n",
    "Palo Alto Cal  1927.44844357977\n",
    "Park at Olive  1405.99264705882\n",
    "Paseo de San   724.440170940171\n",
    "Post at Kearn  744.221122112211\n",
    "Powell Street  991.009053738318\n",
    "Powell at Pos  1631.98155673648\n",
    "Redwood City   1147.66666666667\n",
    "Redwood City   359.083333333333\n",
    "Redwood City   1186.70149253731\n",
    "Rengstorff Av  1658.5\n",
    "Ryland Park    1223.40402969247\n",
    "S. Market St   1585.74757281553\n",
    "SJSU - San Sa  1227.61968680089\n",
    "SJSU 4th at S  967.132432432432\n",
    "San Antonio C  1083.68190127971\n",
    "San Antonio S  724.399671052632\n",
    "San Francisco  723.110629443385\n",
    "San Francisco  609.492032547889\n",
    "San Francisco  1361.31942215088\n",
    "San Jose City  1147.76053215078\n",
    "San Jose Civi  2372.58423493045\n",
    "San Jose Diri  599.522307692308\n",
    "San Mateo Cou  1008.02884615385\n",
    "San Pedro Squ  816.377488514548\n",
    "San Salvador   1084.99333333333\n",
    "Santa Clara C  1604.77399380805\n",
    "Santa Clara a  726.675843083276\n",
    "Sequoia Hospi  1633.5\n",
    "South Van Nes  1366.03096774194\n",
    "Spear at Fols  608.985535197686\n",
    "St James Park  578.417298937785\n",
    "Stanford in R  1071.65904365904\n",
    "Steuart at Ma  668.527482330337\n",
    "Temporary Tra  582.835282729693\n",
    "Townsend at 7  666.20582801478\n",
    "University an  4710.89772727273\n",
    "Washington at  1061.88506107109\n",
    "Yerba Buena C  757.095514112903"
   ]
  }
 ],
 "metadata": {
  "kernelspec": {
   "display_name": "Python 3",
   "language": "python",
   "name": "python3"
  },
  "language_info": {
   "codemirror_mode": {
    "name": "ipython",
    "version": 3
   },
   "file_extension": ".py",
   "mimetype": "text/x-python",
   "name": "python",
   "nbconvert_exporter": "python",
   "pygments_lexer": "ipython3",
   "version": "3.6.3"
  }
 },
 "nbformat": 4,
 "nbformat_minor": 2
}
