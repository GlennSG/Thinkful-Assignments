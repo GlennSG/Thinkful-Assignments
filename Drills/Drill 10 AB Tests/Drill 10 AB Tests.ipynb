{
 "cells": [
  {
   "cell_type": "markdown",
   "metadata": {},
   "source": [
    "###  For each of the following questions, outline how you could use an A/B test to find an answer. Be sure to identify all five key components of an A/B test we outlined above."
   ]
  },
  {
   "cell_type": "markdown",
   "metadata": {},
   "source": [
    "#### 1) Does a new supplement help people sleep better?"
   ]
  },
  {
   "cell_type": "markdown",
   "metadata": {},
   "source": [
    "a) Two versions: version A will have a placebo supplement and version B will have the experimental supplement\n",
    "\n",
    "b) Sample: send out applications for trial experiments to diverse groups of people (schools, workplaces, library, etc.). Split group in half randomly. Aim for large group of volunteers. Consider season timing as well (Summer vs Fall vs Spring).\n",
    "\n",
    "c) Hypothesis: The experimental drug will help people sleep better than those who do not take the drug. \n",
    "\n",
    "d) Outcome of Interest: key metric of change will be the duration of REM sleep (most important part of sleep cycle). \n",
    "\n",
    "e) Other measured variables: make sure results are similar amongst different age groups and genders. Measure stress-levels (job/school), time it takes to fall asleep, and number of wake periods in the night for secondary outcomes that might change as a result of using the experimental drug. "
   ]
  },
  {
   "cell_type": "markdown",
   "metadata": {},
   "source": [
    "#### 2) Will new uniforms help a gym's business?"
   ]
  },
  {
   "cell_type": "markdown",
   "metadata": {},
   "source": [
    "a) Two versions: version A will be the evals of employees with new uniforms, version B will be older evaluation forms with old/no uniforms.\n",
    "\n",
    "b) Sample: give out evaluation forms to gym members (via email) and/or create/check online reviews for gym (google review or yelp). Collect and organize information into a spreadsheet and collect randomly (no bias towards age group or gym members only). Evaluation Forms and Online Ratings should closely relate to each other according to ratings metrics (similar questions, similar format).  \n",
    "\n",
    "c) Hypothesis: The new uniforms will increase gym evaluation ratings more than old/no uniforms. High ratings have been proven to have a strong correlation with attracting potential customers which is a positive impact on gym's business.\n",
    "\n",
    "d) Outcome of Interest: key metric is the professionalism ratings, with emphasis on uniforms, to measure difference between uniform and non-uniform ratings.\n",
    "\n",
    "e) Other measured variables: make sure ratings results are similar amongst age group, genders, members/non-members. Other variables of interest are employee performance, and number of new gym memberships that may change as a result of using new uniforms. "
   ]
  },
  {
   "cell_type": "markdown",
   "metadata": {},
   "source": [
    "#### 3) Will a new homepage improve my online exotic pet rental business?"
   ]
  },
  {
   "cell_type": "markdown",
   "metadata": {},
   "source": [
    "a) Two versions: version A is the number of visits to new homepage and version B is the number of visits to old homepage (past data).\n",
    "\n",
    "b) Sample: send out emails to old/current customers about new homepage. Post advertisements online or elsewhere (depending on budget) to attract potential new customers. Make sure the emails are sent out to all customers to ensure random sample. \n",
    "\n",
    "c) Hypothesis: the new homepage will increase website traffic. More website traffic will most likely have a positive impact on the online exotic pet rental business.\n",
    "\n",
    "d) Outcome of Interest: the key metric will be the website traffic measured by Google Analytics. This will help to measure the difference in website traffic between old homepage and new homepage.\n",
    "\n",
    "e) Other measured variables: make sure website traffic is similar amongst age groups and genders. Other variables of interest are website ratings (user comments, emails, customer support), and number of pets rented through website that may change as a result of the new homepage."
   ]
  },
  {
   "cell_type": "markdown",
   "metadata": {},
   "source": [
    "#### 4) If I put 'please read' in the email subject will more people read my emails?"
   ]
  },
  {
   "cell_type": "markdown",
   "metadata": {},
   "source": [
    "a) Two versions: version A are the emails with the 'please read. in the email subject line and version B are the emails without the 'please read' in the email subject line. \n",
    "\n",
    "b) Sample: randomly send one of the two versions of the email with a \"read receipt\" to a subset of subscribers to our email. \n",
    "\n",
    "c) Hypothesis: there will be an increase in the number of people who click the \"read receipt\" in the 'please read' subject line email. \n",
    "\n",
    "d) Outcome of Interest: the key metric will be the number of \"read receipt\" clicks per email. Measure the difference in clicks between version A and version B emails. However, the \"read receipt\" doesn't necessarily indicate the person has read the email. \n",
    "\n",
    "e) Other measured variables: make sure the emails are sent amongst a wide variety of age groups and genders (preferrably all email subscribers will be diverse). Other variables of interest are the number of email replies which may increase as a result of the 'please read' subject line. "
   ]
  }
 ],
 "metadata": {
  "kernelspec": {
   "display_name": "Python 3",
   "language": "python",
   "name": "python3"
  },
  "language_info": {
   "codemirror_mode": {
    "name": "ipython",
    "version": 3
   },
   "file_extension": ".py",
   "mimetype": "text/x-python",
   "name": "python",
   "nbconvert_exporter": "python",
   "pygments_lexer": "ipython3",
   "version": "3.6.3"
  }
 },
 "nbformat": 4,
 "nbformat_minor": 2
}
