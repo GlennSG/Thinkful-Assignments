{
 "cells": [
  {
   "cell_type": "markdown",
   "metadata": {},
   "source": [
    "### Look back to the potential experiments in the previous assignment. For one of those experiments, write up the essential points of a research proposal for an improved version of that experiment."
   ]
  },
  {
   "cell_type": "markdown",
   "metadata": {},
   "source": [
    "The Sith Lords are concerned that their recruiting slogan, \"Give In to Your Anger,\" isn't very effective. Darth Vader develops an alternative slogan, \"Together We Can Rule the Galaxy.\" They compare the slogans on two groups of 50 captured droids each. In one group, Emperor Palpatine delivers the \"Anger\" slogan. In the other, Darth Vader presents the \"Together\" slogan. 20 droids convert to the Dark Side after hearing Palpatine's slogan, while only 5 droids convert after hearing Vader's. The Sith's data scientist concludes that \"Anger\" is a more effective slogan and should continue to be used."
   ]
  },
  {
   "cell_type": "markdown",
   "metadata": {},
   "source": [
    "#### 1) The problem"
   ]
  },
  {
   "cell_type": "markdown",
   "metadata": {},
   "source": [
    "We need more people on the Dark Side (it's getting kinda lonely). Slogans have been pretty effective at converting newbies to the Dark Side, but our current slogan, \"Give In To Your Anger\", is getting old."
   ]
  },
  {
   "cell_type": "markdown",
   "metadata": {},
   "source": [
    "#### 2) The potential solution"
   ]
  },
  {
   "cell_type": "markdown",
   "metadata": {},
   "source": [
    "We change the current slogan to \"Together We Can Rule the Galaxy. If we see an increase in the number of Dark Side followers, then the new slogan will be adopted."
   ]
  },
  {
   "cell_type": "markdown",
   "metadata": {},
   "source": [
    "#### 3) Method of testing the solution"
   ]
  },
  {
   "cell_type": "markdown",
   "metadata": {},
   "source": [
    "Command all prison wardens across the Galactic Empire to conduct an experiment using two voice recordings of Emperor Palpatine saying the old and new slogan. \n",
    "\n",
    "The experiment will involve two groups (groups assigned randomly), group A and group B. Each group will contain an equal number of species currently residing in the prison (droids, ewoks, rebel scum, etc.). Make sure the age groups and genders are as evenly distributed between groups as possible. \n",
    "\n",
    "Group A will be the control group and will be given the old slogan voice recording in prison room 1. On the other hand, group B will be the experiment group and will be given the new slogan voice recording in prison room 2. \n",
    "\n",
    "At the conclusion of the slogan presentation, each member of the group will have the opportunity to pledge their allegiance by checking a \"yes\" box on a sheet in an isolated voting booth located at the exit (ensures that there is no collusion with other group members). \n",
    "\n",
    "Will then count up the sheets in each prison to measure the number of inmates who have pledged themselves to the Dark Side.\n",
    "We may need to focus on each prisons' conversion rate instead of averaging them to rule out simpson paradox errors. \n",
    "\n",
    "If the number of recruits is larger in Group B than Group A, then we adopt the new slogan. If the number of recruits is less, than we keep the old slogan. "
   ]
  }
 ],
 "metadata": {
  "kernelspec": {
   "display_name": "Python 3",
   "language": "python",
   "name": "python3"
  },
  "language_info": {
   "codemirror_mode": {
    "name": "ipython",
    "version": 3
   },
   "file_extension": ".py",
   "mimetype": "text/x-python",
   "name": "python",
   "nbconvert_exporter": "python",
   "pygments_lexer": "ipython3",
   "version": "3.6.3"
  }
 },
 "nbformat": 4,
 "nbformat_minor": 2
}
