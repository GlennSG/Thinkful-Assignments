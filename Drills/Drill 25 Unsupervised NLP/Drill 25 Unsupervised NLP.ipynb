{
 "cells": [
  {
   "cell_type": "markdown",
   "metadata": {},
   "source": [
    "Semantics: meaning of words & sentences\n",
    "\n",
    "Use unsupervised neural network on a corpus of texts to learn the rules of a language by identifying recurring patterns within the corpus. Can then use the trained unsupervised model to understand new sentences. \n",
    "\n",
    "Document frequency: counts how many sentences a word appears in\n",
    "\n",
    "Collection frequency: counts how often a word appears, total, over all sentences"
   ]
  },
  {
   "cell_type": "markdown",
   "metadata": {},
   "source": [
    "Latent Semantic Analysis\n",
    "\n",
    "Reduce tf-idf-weighted term-document matrix (term frequency (how frequently a term appears within a sentence) - inverse document frequency (weight the document frequency, words that occur less often are more influential than words that occur a lot) into a lower-dimensional space\n",
    "\n",
    "Principal Component Analysis (PCA)"
   ]
  },
  {
   "cell_type": "code",
   "execution_count": 5,
   "metadata": {},
   "outputs": [],
   "source": [
    "import numpy as np\n",
    "import pandas as pd\n",
    "import nltk\n",
    "from nltk.corpus import gutenberg\n",
    "import re\n",
    "from sklearn.model_selection import train_test_split"
   ]
  },
  {
   "cell_type": "code",
   "execution_count": 6,
   "metadata": {},
   "outputs": [],
   "source": [
    "# read in data in the form of paragraphs\n",
    "emma = gutenberg.paras('austen-emma.txt')"
   ]
  },
  {
   "cell_type": "code",
   "execution_count": 9,
   "metadata": {},
   "outputs": [
    {
     "data": {
      "text/plain": [
       "[[['[', 'Emma', 'by', 'Jane', 'Austen', '1816', ']']], [['VOLUME', 'I']], ...]"
      ]
     },
     "metadata": {},
     "output_type": "display_data"
    }
   ],
   "source": [
    "display(emma)"
   ]
  },
  {
   "cell_type": "code",
   "execution_count": 10,
   "metadata": {},
   "outputs": [
    {
     "name": "stdout",
     "output_type": "stream",
     "text": [
      "['[ Emma by Jane Austen 1816 ]', 'VOLUME I', 'CHAPTER I', 'Emma Woodhouse , handsome , clever , and rich , with a comfortable home and happy disposition , seemed to unite some of the best blessings of existence ; and had lived nearly twenty - one years in the world with very little to distress or vex her .']\n"
     ]
    }
   ],
   "source": [
    "emma_paras = []\n",
    "for paragraph in emma:\n",
    "    para = paragraph[0]\n",
    "    # removing the double-dash from all words\n",
    "    para = [re.sub(r'--','',word) for word in para]\n",
    "    # forming each paragraph into a string and adding it to the list of strings\n",
    "    emma_paras.append(' '.join(para))\n",
    "\n",
    "print(emma_paras[0:4])"
   ]
  },
  {
   "cell_type": "code",
   "execution_count": 11,
   "metadata": {},
   "outputs": [],
   "source": [
    "# use sklearn TfidfVectorizer to create matrix\n",
    "from sklearn.feature_extraction.text import TfidfVectorizer\n",
    "\n",
    "X_train, X_test = train_test_split(emma_paras,test_size=0.4,random_state=0)"
   ]
  },
  {
   "cell_type": "code",
   "execution_count": 12,
   "metadata": {},
   "outputs": [],
   "source": [
    "vectorizer = TfidfVectorizer(max_df=0.5, #drop words that occure in more than half the paragraphs\n",
    "                             min_df=2, #only use words that appear at least twice\n",
    "                             stop_words='english',\n",
    "                             lowercase=True, #convert everything to lowercase\n",
    "                             use_idf=True, #we definitely want to use inverse document frequencies in weighting\n",
    "                             norm=u'l2', #applies a correction factor so that longer paragraphs and shorter paragraphs get treated equally\n",
    "                             smooth_idf=True #adds 1 to all document frequencies, as if an extra document existed that used every word once. Prevents divide-by-zero errors\n",
    "                            )"
   ]
  },
  {
   "cell_type": "code",
   "execution_count": 13,
   "metadata": {},
   "outputs": [
    {
     "name": "stdout",
     "output_type": "stream",
     "text": [
      "Number of features: 1948\n"
     ]
    }
   ],
   "source": [
    "# applying the vectorizer\n",
    "emma_paras_tfidf = vectorizer.fit_transform(emma_paras)\n",
    "print(\"Number of features: %d\" % emma_paras_tfidf.get_shape()[1])"
   ]
  },
  {
   "cell_type": "code",
   "execution_count": 14,
   "metadata": {},
   "outputs": [],
   "source": [
    "# splitting into training and test sets\n",
    "X_train_tfidf,X_test_tfidf = train_test_split(emma_paras_tfidf,test_size=0.4,random_state=0)"
   ]
  },
  {
   "cell_type": "code",
   "execution_count": 15,
   "metadata": {},
   "outputs": [],
   "source": [
    "# reshape vecortizer output into readable format\n",
    "X_train_tfidf_csr = X_train_tfidf.tocsr()"
   ]
  },
  {
   "cell_type": "code",
   "execution_count": 16,
   "metadata": {},
   "outputs": [],
   "source": [
    "# number of paragraphs\n",
    "n = X_train_tfidf_csr.shape[0]"
   ]
  },
  {
   "cell_type": "code",
   "execution_count": 17,
   "metadata": {},
   "outputs": [],
   "source": [
    "# a list of dictionaries, one per paragraph\n",
    "tfidf_bypara = [{} for _ in range(0,n)]"
   ]
  },
  {
   "cell_type": "code",
   "execution_count": 18,
   "metadata": {},
   "outputs": [],
   "source": [
    "# a list of features\n",
    "terms = vectorizer.get_feature_names()"
   ]
  },
  {
   "cell_type": "code",
   "execution_count": 19,
   "metadata": {},
   "outputs": [],
   "source": [
    "# for each paragraph, lists the feature words and their tf-idf scores\n",
    "for i,j in zip(*X_train_tfidf_csr.nonzero()):\n",
    "    tfidf_bypara[i][terms[j]] = X_train_tfidf_csr[i,j]"
   ]
  },
  {
   "cell_type": "code",
   "execution_count": 20,
   "metadata": {},
   "outputs": [
    {
     "name": "stdout",
     "output_type": "stream",
     "text": [
      "Original sentence:  A very few minutes more , however , completed the present trial .\n",
      "Tf_idf vector:  {'minutes': 0.7127450310382584, 'present': 0.701423210857947}\n"
     ]
    }
   ],
   "source": [
    "# tf-idf score of 0 indicates that the word is present once in that sentence (log base 2 of 1 is 0)\n",
    "print('Original sentence: ',X_train[5])\n",
    "print('Tf_idf vector: ',tfidf_bypara[5])"
   ]
  },
  {
   "cell_type": "markdown",
   "metadata": {},
   "source": [
    "## Dimension Reduction"
   ]
  },
  {
   "cell_type": "code",
   "execution_count": 21,
   "metadata": {},
   "outputs": [],
   "source": [
    "# use singular value decomposition (SVD) b/c we don't want to mean-center variables (lose sparsity)\n",
    "from sklearn.decomposition import TruncatedSVD\n",
    "from sklearn.pipeline import make_pipeline\n",
    "from sklearn.preprocessing import Normalizer\n",
    "\n",
    "# SVD data reducer (reduce feature space from 1379 to 130)\n",
    "svd = TruncatedSVD(130)\n",
    "lsa = make_pipeline(svd,Normalizer(copy=False))"
   ]
  },
  {
   "cell_type": "code",
   "execution_count": 23,
   "metadata": {},
   "outputs": [
    {
     "name": "stdout",
     "output_type": "stream",
     "text": [
      "Percent variance captured by all components:  45.19123972886386\n"
     ]
    }
   ],
   "source": [
    "# run SVD on the training data, then project the training data\n",
    "X_train_lsa = lsa.fit_transform(X_train_tfidf)\n",
    "\n",
    "variance_explained = svd.explained_variance_ratio_\n",
    "total_variance = variance_explained.sum()\n",
    "print(\"Percent variance captured by all components: \",total_variance*100)"
   ]
  },
  {
   "cell_type": "code",
   "execution_count": 25,
   "metadata": {},
   "outputs": [
    {
     "name": "stdout",
     "output_type": "stream",
     "text": [
      "Component 0:\n",
      "\" Oh !     0.999291\n",
      "\" Oh !     0.999291\n",
      "\" Oh !\"    0.999291\n",
      "\" Oh !     0.999291\n",
      "\" Oh !     0.999291\n",
      "\" Oh !     0.999291\n",
      "\" Oh !     0.999291\n",
      "\" Oh !     0.999291\n",
      "\" Oh !     0.999291\n",
      "\" Oh !     0.999291\n",
      "Name: 0, dtype: float64\n",
      "Component 1:\n",
      "\" You have made her too tall , Emma ,\" said Mr . Knightley .                                                                                                                0.633942\n",
      "\" You get upon delicate subjects , Emma ,\" said Mrs . Weston smiling ; \" remember that I am here . Mr .                                                                     0.589437\n",
      "\" You are right , Mrs . Weston ,\" said Mr . Knightley warmly , \" Miss Fairfax is as capable as any of us of forming a just opinion of Mrs . Elton .                         0.564911\n",
      "\" I do not know what your opinion may be , Mrs . Weston ,\" said Mr . Knightley , \" of this great intimacy between Emma and Harriet Smith , but I think it a bad thing .\"    0.564108\n",
      "\" There were misunderstandings between them , Emma ; he said so expressly .                                                                                                 0.528528\n",
      "Mr . Knightley might quarrel with her , but Emma could not quarrel with herself .                                                                                           0.523827\n",
      "\" Now ,\" said Emma , when they were fairly beyond the sweep gates , \" now Mr . Weston , do let me know what has happened .\"                                                 0.511250\n",
      "\" In one respect , perhaps , Mr . Elton ' s manners are superior to Mr . Knightley ' s or Mr . Weston ' s .                                                                 0.506854\n",
      "Emma found that it was not Mr . Weston ' s fault that the number of privy councillors was not yet larger .                                                                  0.505600\n",
      "\" I do not admire it ,\" said Mr . Knightley .                                                                                                                               0.499092\n",
      "Name: 1, dtype: float64\n",
      "Component 2:\n",
      "CHAPTER X      0.998796\n",
      "CHAPTER X      0.998796\n",
      "CHAPTER V      0.998796\n",
      "CHAPTER I      0.998796\n",
      "CHAPTER V      0.998796\n",
      "CHAPTER I      0.998796\n",
      "CHAPTER V      0.998796\n",
      "CHAPTER X      0.998796\n",
      "CHAPTER I      0.998796\n",
      "CHAPTER XII    0.997814\n",
      "Name: 2, dtype: float64\n",
      "Component 3:\n",
      "But ah !    0.992916\n",
      "\" Ah !      0.992916\n",
      "\" Ah !      0.992916\n",
      "\" Ah !\"     0.992916\n",
      "\" Ah !      0.992916\n",
      "But ah !    0.992916\n",
      "\" Ah !      0.992916\n",
      "\" Ah !      0.992916\n",
      "\" Ah !      0.992916\n",
      "\" Ah !      0.992916\n",
      "Name: 3, dtype: float64\n",
      "Component 4:\n",
      "\" There were misunderstandings between them , Emma ; he said so expressly .    0.650807\n",
      "\" Are you well , my Emma ?\"                                                    0.598727\n",
      "Emma demurred .                                                                0.598727\n",
      "Emma was silenced .                                                            0.587551\n",
      "At first it was downright dulness to Emma .                                    0.587006\n",
      "\" Emma , my dear Emma \"                                                        0.576968\n",
      "\" It is not now worth a regret ,\" said Emma .                                  0.570128\n",
      "Emma could not resist .                                                        0.566814\n",
      "\" For shame , Emma !                                                           0.544194\n",
      "\" I am ready ,\" said Emma , \" whenever I am wanted .\"                          0.505017\n",
      "Name: 4, dtype: float64\n"
     ]
    }
   ],
   "source": [
    "# Looking at which paragraphs our solution consider similar for the first five identified topics\n",
    "paras_by_component=pd.DataFrame(X_train_lsa,index=X_train)\n",
    "for i in range(5):\n",
    "    print(\"Component {}:\".format(i))\n",
    "    print(paras_by_component.loc[:,i].sort_values(ascending=False)[0:10])"
   ]
  },
  {
   "cell_type": "markdown",
   "metadata": {},
   "source": [
    "## Sentence similarity"
   ]
  },
  {
   "cell_type": "code",
   "execution_count": 26,
   "metadata": {},
   "outputs": [],
   "source": [
    "# compute document similarity using LSA components\n",
    "similarity = np.asarray(np.asmatrix(X_train_lsa)*np.asmatrix(X_train_lsa).T)"
   ]
  },
  {
   "cell_type": "code",
   "execution_count": 27,
   "metadata": {},
   "outputs": [],
   "source": [
    "# only take first 10 sentences\n",
    "sim_matrix = pd.DataFrame(similarity,index=X_train).iloc[0:10,0:10]"
   ]
  },
  {
   "cell_type": "code",
   "execution_count": 28,
   "metadata": {},
   "outputs": [],
   "source": [
    "# make a plot\n",
    "import matplotlib.pyplot as plt\n",
    "import seaborn as sns\n",
    "%matplotlib inline"
   ]
  },
  {
   "cell_type": "code",
   "execution_count": 29,
   "metadata": {},
   "outputs": [
    {
     "data": {
      "image/png": "[encoded data removed]",
      "text/plain": [
       "<Figure size 432x288 with 2 Axes>"
      ]
     },
     "metadata": {},
     "output_type": "display_data"
    }
   ],
   "source": [
    "ax = sns.heatmap(sim_matrix,yticklabels=range(10))\n",
    "plt.show()"
   ]
  },
  {
   "cell_type": "code",
   "execution_count": 30,
   "metadata": {},
   "outputs": [
    {
     "name": "stdout",
     "output_type": "stream",
     "text": [
      "Key: \n",
      "0 That is _court_ .\n",
      "1 \" Yes , sir , I did indeed ; and I am very much obliged by your kind solicitude about me .\"\n",
      "2 \" How much his business engrosses him already is very plain from the circumstance of his forgetting to inquire for the book you recommended .\n",
      "3 To restrain him as much as might be , by her own manners , she was immediately preparing to speak with exquisite calmness and gravity of the weather and the night ; but scarcely had she begun , scarcely had they passed the sweep - gate and joined the other carriage , than she found her subject cut up  her hand seized  her attention demanded , and Mr . Elton actually making violent love to her : availing himself of the precious opportunity , declaring sentiments which must be already well known , hoping  fearing  adoring  ready to die if she refused him ; but flattering himself that his ardent attachment and unequalled love and unexampled passion could not fail of having some effect , and in short , very much resolved on being seriously accepted as soon as possible .\n",
      "4 Emma smiled and answered \" My visit was of use to the nervous part of her complaint , I hope ; but not even I can charm away a sore throat ; it is a most severe cold indeed .\n",
      "5 A very few minutes more , however , completed the present trial .\n",
      "6 \" I am delighted to hear you speak so stoutly on the subject ,\" replied Emma , smiling ; \" but you do not mean to deny that there was a time  and not very distant either  when you gave me reason to understand that you did care about him ?\"\n",
      "7 \" Very well ; and if he had intended to give her one , he would have told her so .\"\n",
      "8 Some laughed , and answered good - humouredly .\n",
      "9 \" There appeared such a perfectly good understanding among them all \" he began rather quickly , but checking himself , added , \" however , it is impossible for me to say on what terms they really were  how it might all be behind the scenes .\n"
     ]
    }
   ],
   "source": [
    "# generating a key for the plot\n",
    "print(\"Key: \")\n",
    "for i in range(10):\n",
    "    print(i,sim_matrix.index[i])"
   ]
  },
  {
   "cell_type": "markdown",
   "metadata": {},
   "source": [
    "Not much similarity between the first 10 sentences..."
   ]
  },
  {
   "cell_type": "markdown",
   "metadata": {},
   "source": [
    "## Drill 0 (Test set)\n",
    "Apply LSA model to the test set (does it identify similar sentences for components 0 through 4?)"
   ]
  },
  {
   "cell_type": "code",
   "execution_count": 31,
   "metadata": {},
   "outputs": [],
   "source": [
    "X_test_tfidf_csr = X_test_tfidf.tocsr()"
   ]
  },
  {
   "cell_type": "code",
   "execution_count": 32,
   "metadata": {},
   "outputs": [],
   "source": [
    "n = X_test_tfidf_csr.shape[0]"
   ]
  },
  {
   "cell_type": "code",
   "execution_count": 33,
   "metadata": {},
   "outputs": [],
   "source": [
    "tfidf_bypara_test = [{} for _ in range(0,n)]"
   ]
  },
  {
   "cell_type": "code",
   "execution_count": 35,
   "metadata": {},
   "outputs": [],
   "source": [
    "for i,j in zip(*X_test_tfidf_csr.nonzero()):\n",
    "    tfidf_bypara_test[i][terms[j]] = X_test_tfidf_csr[i,j]"
   ]
  },
  {
   "cell_type": "code",
   "execution_count": 36,
   "metadata": {},
   "outputs": [
    {
     "name": "stdout",
     "output_type": "stream",
     "text": [
      "Original sentence:  \" And I am quite serious too , I assure you ,\" replied Mrs . Elton gaily , \" in resolving to be always on the watch , and employing my friends to watch also , that nothing really unexceptionable may pass us .\"\n",
      "Tf_idf vector:  {'resolving': 0.3424390305045805, 'unexceptionable': 0.3196409792117937, 'assure': 0.267729777836069, 'friends': 0.2515333740641343, 'quite': 0.1916471918420347, 'replied': 0.20315405638674577, 'watch': 0.62300800500314, 'elton': 0.16874782424809767, 'pass': 0.28445227585106625, 'really': 0.21963852817625326, 'mrs': 0.14780961753993585}\n"
     ]
    }
   ],
   "source": [
    "print('Original sentence: ',X_test[5])\n",
    "print('Tf_idf vector: ',tfidf_bypara_test[5])"
   ]
  },
  {
   "cell_type": "code",
   "execution_count": 38,
   "metadata": {},
   "outputs": [],
   "source": [
    "X_test_lsa = lsa.transform(X_test_tfidf)"
   ]
  },
  {
   "cell_type": "code",
   "execution_count": 39,
   "metadata": {},
   "outputs": [
    {
     "name": "stdout",
     "output_type": "stream",
     "text": [
      "Component 0:\n",
      "\" Oh !     0.999291\n",
      "\" Oh !     0.999291\n",
      "\" Oh !\"    0.999291\n",
      "\" Oh !     0.999291\n",
      "\" Oh !     0.999291\n",
      "\" Oh !     0.999291\n",
      "\" Oh !     0.999291\n",
      "\" Oh !     0.999291\n",
      "\" Oh !     0.999291\n",
      "\" Oh !     0.999291\n",
      "Name: 0, dtype: float64\n",
      "Component 1:\n",
      "\" Well , Mrs . Weston ,\" said Emma triumphantly when he left them , \" what do you say now to Mr . Knightley ' s marrying Jane Fairfax ?\"                                                                                                                                                                                                                                                                                                                                                                          0.675741\n",
      "Frank turned instantly to Emma , to claim her former promise ; and boasted himself an engaged man , which his father looked his most perfect approbation of  and it then appeared that Mrs . Weston was wanting _him_ to dance with Mrs . Elton himself , and that their business was to help to persuade him into it , which was done pretty soon . Mr . Weston and Mrs . Elton led the way , Mr . Frank Churchill and Miss Woodhouse followed .                                                                 0.601194\n",
      "After tea , Mr . and Mrs . Weston , and Mr . Elton sat down with Mr . Woodhouse to cards .                                                                                                                                                                                                                                                                                                                                                                                                                        0.567135\n",
      "In this walk Emma and Mr . Weston found all the others assembled ; and towards this view she immediately perceived Mr . Knightley and Harriet distinct from the rest , quietly leading the way .                                                                                                                                                                                                                                                                                                                  0.560522\n",
      "\" He is a person I never think of from one month ' s end to another ,\" said Mr . Knightley , with a degree of vexation , which made Emma immediately talk of something else , though she could not comprehend why he should be angry .                                                                                                                                                                                                                                                                            0.559699\n",
      "The result of this distress was , that , with a much more voluntary , cheerful consent than his daughter had ever presumed to hope for at the moment , she was able to fix her wedding - day  and Mr . Elton was called on , within a month from the marriage of Mr . and Mrs . Robert Martin , to join the hands of Mr . Knightley and Miss Woodhouse .                                                                                                                                                          0.555796\n",
      "\" Mrs . Weston ' s manners ,\" said Emma , \" were always particularly good .                                                                                                                                                                                                                                                                                                                                                                                                                                       0.550774\n",
      "Emma was more than half in hopes of Mr . Elton ' s having dropt a hint .                                                                                                                                                                                                                                                                                                                                                                                                                                          0.535034\n",
      "He had frightened her a little about Mr . Elton ; but when she considered that Mr . Knightley could not have observed him as she had done , neither with the interest , nor ( she must be allowed to tell herself , in spite of Mr . Knightley ' s pretensions ) with the skill of such an observer on such a question as herself , that he had spoken it hastily and in anger , she was able to believe , that he had rather said what he wished resentfully to be true , than what he knew any thing about .    0.534178\n",
      "\" Well ,\" said Emma , \" there is no disputing about taste . At least you admire her except her complexion .\"                                                                                                                                                                                                                                                                                                                                                                                                      0.533347\n",
      "Name: 1, dtype: float64\n",
      "Component 2:\n",
      "CHAPTER XIX      0.998796\n",
      "CHAPTER XV       0.998796\n",
      "CHAPTER XVIII    0.998796\n",
      "CHAPTER XV       0.998796\n",
      "CHAPTER XVIII    0.998796\n",
      "CHAPTER XVIII    0.998796\n",
      "CHAPTER XV       0.998796\n",
      "CHAPTER XII      0.997814\n",
      "CHAPTER XII      0.997814\n",
      "CHAPTER XVII     0.997813\n",
      "Name: 2, dtype: float64\n",
      "Component 3:\n",
      "\" Ah !     0.992916\n",
      "\" Ah !     0.992916\n",
      "\" Ah !\"    0.992916\n",
      "\" Ah !     0.992916\n",
      "\" Ah !     0.992916\n",
      "\" Ah !\"    0.992916\n",
      "\" Ah !     0.992916\n",
      "\" Ah !     0.992916\n",
      "\" Ah !     0.992916\n",
      "\" Ah !     0.992916\n",
      "Name: 3, dtype: float64\n",
      "Component 4:\n",
      "Nobody had any information to give ; and , after a few more wonderings , Emma said ,                            0.630612\n",
      "\" No , no ,\" said Emma , \" it will not reckon low .                                                             0.627821\n",
      "\" Well ,\" said Emma , \" there is no disputing about taste . At least you admire her except her complexion .\"    0.621672\n",
      "Emma had done .                                                                                                 0.598727\n",
      "\" Emma !\"                                                                                                       0.598727\n",
      "\" My Emma !\"                                                                                                    0.598727\n",
      "Emma wondered on what , of all the medley , she would fix .                                                     0.594364\n",
      "\" And I do envy him , Emma .                                                                                    0.592886\n",
      "\" Emma ,\" said she , \" this paper is worse than I expected .                                                    0.590282\n",
      "\" No ,\" said Emma , laughing ; \" but perhaps there might be some made to his coming back again .                0.556702\n",
      "Name: 4, dtype: float64\n"
     ]
    }
   ],
   "source": [
    "paras_by_component=pd.DataFrame(X_test_lsa,index=X_test)\n",
    "for i in range(5):\n",
    "    print(\"Component {}:\".format(i))\n",
    "    print(paras_by_component.loc[:,i].sort_values(ascending=False)[0:10])"
   ]
  },
  {
   "cell_type": "markdown",
   "metadata": {},
   "source": [
    "## Drill 1 Tweaking tf-idf"
   ]
  },
  {
   "cell_type": "code",
   "execution_count": 40,
   "metadata": {},
   "outputs": [],
   "source": [
    "vectorizer = TfidfVectorizer(max_df=0.3, #drop words that occur in more than half the paragraphs\n",
    "                             min_df=3, #only use words that appear at least twice\n",
    "                             stop_words='english',\n",
    "                             lowercase=True, #convert everything to lowercase\n",
    "                             use_idf=True, #we definitely want to use inverse document frequencies in weighting\n",
    "                             norm=u'l2', #applies a correction factor so that longer paragraphs and shorter paragraphs get treated equally\n",
    "                             smooth_idf=True #adds 1 to all document frequencies, as if an extra document existed that used every word once. Prevents divide-by-zero errors\n",
    "                            )"
   ]
  },
  {
   "cell_type": "code",
   "execution_count": 42,
   "metadata": {},
   "outputs": [
    {
     "name": "stdout",
     "output_type": "stream",
     "text": [
      "Number of features: 1358\n"
     ]
    }
   ],
   "source": [
    "emma_paras_tfidf2 = vectorizer.fit_transform(emma_paras)\n",
    "print(\"Number of features: %d\" % emma_paras_tfidf.get_shape()[1])"
   ]
  },
  {
   "cell_type": "code",
   "execution_count": 41,
   "metadata": {},
   "outputs": [],
   "source": [
    "svd = TruncatedSVD(130)\n",
    "lsa = make_pipeline(svd,Normalizer(copy=False))"
   ]
  },
  {
   "cell_type": "code",
   "execution_count": 43,
   "metadata": {},
   "outputs": [],
   "source": [
    "X_train_tfidf,X_test_tfidf = train_test_split(emma_paras_tfidf2,test_size=0.4,random_state=0)"
   ]
  },
  {
   "cell_type": "code",
   "execution_count": 44,
   "metadata": {},
   "outputs": [],
   "source": [
    "X_train_tfidf_csr = X_train_tfidf.tocsr()"
   ]
  },
  {
   "cell_type": "code",
   "execution_count": 45,
   "metadata": {},
   "outputs": [],
   "source": [
    "n = X_train_tfidf_csr.shape[0]"
   ]
  },
  {
   "cell_type": "code",
   "execution_count": 46,
   "metadata": {},
   "outputs": [],
   "source": [
    "tfidf_bypara = [{} for _ in range(0,n)]"
   ]
  },
  {
   "cell_type": "code",
   "execution_count": 47,
   "metadata": {},
   "outputs": [],
   "source": [
    "terms = vectorizer.get_feature_names()"
   ]
  },
  {
   "cell_type": "code",
   "execution_count": 48,
   "metadata": {},
   "outputs": [],
   "source": [
    "for i,j in zip(*X_train_tfidf_csr.nonzero()):\n",
    "    tfidf_bypara[i][terms[j]] = X_train_tfidf_csr[i,j]"
   ]
  },
  {
   "cell_type": "code",
   "execution_count": 49,
   "metadata": {},
   "outputs": [
    {
     "name": "stdout",
     "output_type": "stream",
     "text": [
      "Original sentence:  A very few minutes more , however , completed the present trial .\n",
      "Tf_idf vector:  {'minutes': 0.7127450310382584, 'present': 0.701423210857947}\n"
     ]
    }
   ],
   "source": [
    "print('Original sentence: ',X_train[5])\n",
    "print('Tf_idf vector: ',tfidf_bypara[5])"
   ]
  },
  {
   "cell_type": "code",
   "execution_count": 50,
   "metadata": {},
   "outputs": [
    {
     "name": "stdout",
     "output_type": "stream",
     "text": [
      "Percent variance captured by all components:  48.42094388088548\n"
     ]
    }
   ],
   "source": [
    "X_train_lsa = lsa.fit_transform(X_train_tfidf)\n",
    "\n",
    "variance_explained = svd.explained_variance_ratio_\n",
    "total_variance = variance_explained.sum()\n",
    "print(\"Percent variance captured by all components: \",total_variance*100)"
   ]
  },
  {
   "cell_type": "code",
   "execution_count": 51,
   "metadata": {},
   "outputs": [
    {
     "name": "stdout",
     "output_type": "stream",
     "text": [
      "Component 0:\n",
      "\" Oh !    0.999237\n",
      "\" Oh !    0.999237\n",
      "\" Oh !    0.999237\n",
      "Oh !      0.999237\n",
      "\" Oh !    0.999237\n",
      "\" Oh !    0.999237\n",
      "\" Oh !    0.999237\n",
      "\" Oh !    0.999237\n",
      "\" Oh !    0.999237\n",
      "\" Oh !    0.999237\n",
      "Name: 0, dtype: float64\n",
      "Component 1:\n",
      "\" You have made her too tall , Emma ,\" said Mr . Knightley .                                                                                                                0.676696\n",
      "\" You get upon delicate subjects , Emma ,\" said Mrs . Weston smiling ; \" remember that I am here . Mr .                                                                     0.597394\n",
      "\" There were misunderstandings between them , Emma ; he said so expressly .                                                                                                 0.595017\n",
      "\" I do not know what your opinion may be , Mrs . Weston ,\" said Mr . Knightley , \" of this great intimacy between Emma and Harriet Smith , but I think it a bad thing .\"    0.573618\n",
      "\" I do not admire it ,\" said Mr . Knightley .                                                                                                                               0.544239\n",
      "Mr . Knightley might quarrel with her , but Emma could not quarrel with herself .                                                                                           0.544022\n",
      "\" Mr . Weston will be almost as much relieved as myself ,\" said she .                                                                                                       0.541990\n",
      "\" You are right , Mrs . Weston ,\" said Mr . Knightley warmly , \" Miss Fairfax is as capable as any of us of forming a just opinion of Mrs . Elton .                         0.531080\n",
      "\" Now ,\" said Emma , when they were fairly beyond the sweep gates , \" now Mr . Weston , do let me know what has happened .\"                                                 0.530276\n",
      "\" Emma ,\" said Mr . Knightley presently , \" I have a piece of news for you .                                                                                                0.529314\n",
      "Name: 1, dtype: float64\n",
      "Component 2:\n",
      "CHAPTER X       0.999027\n",
      "CHAPTER X       0.999027\n",
      "CHAPTER X       0.999027\n",
      "CHAPTER V       0.999027\n",
      "CHAPTER V       0.999027\n",
      "CHAPTER V       0.999027\n",
      "CHAPTER I       0.999027\n",
      "CHAPTER I       0.999027\n",
      "CHAPTER I       0.999027\n",
      "CHAPTER XIII    0.998253\n",
      "Name: 2, dtype: float64\n",
      "Component 3:\n",
      "\" There were misunderstandings between them , Emma ; he said so expressly .    0.649671\n",
      "At first it was downright dulness to Emma .                                    0.591143\n",
      "Emma was silenced .                                                            0.591143\n",
      "\" Are you well , my Emma ?\"                                                    0.591143\n",
      "Emma demurred .                                                                0.591143\n",
      "\" It is not now worth a regret ,\" said Emma .                                  0.567931\n",
      "Emma could not resist .                                                        0.566060\n",
      "\" Emma , my dear Emma \"                                                        0.535715\n",
      "\" For shame , Emma !                                                           0.515127\n",
      "This wretched note was the finale of Emma ' s breakfast .                      0.487848\n",
      "Name: 3, dtype: float64\n",
      "Component 4:\n",
      "\" Ah !      0.979571\n",
      "\" Ah !      0.979571\n",
      "\" Ah !      0.979571\n",
      "But ah !    0.979571\n",
      "\" Ah !      0.979571\n",
      "But ah !    0.979571\n",
      "\" Ah !      0.979571\n",
      "\" Ah !      0.979571\n",
      "\" Ah !      0.979571\n",
      "\" Ah !      0.979571\n",
      "Name: 4, dtype: float64\n"
     ]
    }
   ],
   "source": [
    "paras_by_component=pd.DataFrame(X_train_lsa,index=X_train)\n",
    "for i in range(5):\n",
    "    print(\"Component {}:\".format(i))\n",
    "    print(paras_by_component.loc[:,i].sort_values(ascending=False)[0:10])"
   ]
  },
  {
   "cell_type": "markdown",
   "metadata": {},
   "source": [
    "By decreasing the range of values in the vector we were able to increase the variance explained by the model by a slight percentage (45.19 --> 48.42). "
   ]
  }
 ],
 "metadata": {
  "kernelspec": {
   "display_name": "Python 3",
   "language": "python",
   "name": "python3"
  },
  "language_info": {
   "codemirror_mode": {
    "name": "ipython",
    "version": 3
   },
   "file_extension": ".py",
   "mimetype": "text/x-python",
   "name": "python",
   "nbconvert_exporter": "python",
   "pygments_lexer": "ipython3",
   "version": "3.6.5"
  }
 },
 "nbformat": 4,
 "nbformat_minor": 2
}
