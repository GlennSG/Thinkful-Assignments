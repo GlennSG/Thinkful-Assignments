{
 "cells": [
  {
   "cell_type": "markdown",
   "metadata": {},
   "source": [
    "## Command Prompt SQLite Commands:"
   ]
  },
  {
   "cell_type": "markdown",
   "metadata": {},
   "source": [
    "sqlite3\n",
    "\n",
    ".open bikeshare.db\n",
    "\n",
    ".mode column\n",
    "\n",
    ".headers on\n",
    "\n",
    ".schema"
   ]
  },
  {
   "cell_type": "markdown",
   "metadata": {},
   "source": [
    "### 1. The ID's and durations for all trips of duration greater than 500, ordered by duration."
   ]
  },
  {
   "cell_type": "markdown",
   "metadata": {},
   "source": [
    "select trip_id,duration\n",
    "\n",
    "from trips\n",
    "\n",
    "where duration > 500\n",
    "\n",
    "order by duration;"
   ]
  },
  {
   "cell_type": "markdown",
   "metadata": {},
   "source": [
    "### 2. Every column of the stations table for station id 84."
   ]
  },
  {
   "cell_type": "markdown",
   "metadata": {},
   "source": [
    "select *\n",
    "\n",
    "from stations\n",
    "\n",
    "where station_id = 84;"
   ]
  },
  {
   "cell_type": "markdown",
   "metadata": {},
   "source": [
    "### 3. The min temperatures of all the occurrences of rain in zip 94301."
   ]
  },
  {
   "cell_type": "markdown",
   "metadata": {},
   "source": [
    "select MinTemperatureF\n",
    "\n",
    "from weather\n",
    "\n",
    "where ZIP = 94301 and Events = \"Rain\";"
   ]
  }
 ],
 "metadata": {
  "kernelspec": {
   "display_name": "Python 3",
   "language": "python",
   "name": "python3"
  },
  "language_info": {
   "codemirror_mode": {
    "name": "ipython",
    "version": 3
   },
   "file_extension": ".py",
   "mimetype": "text/x-python",
   "name": "python",
   "nbconvert_exporter": "python",
   "pygments_lexer": "ipython3",
   "version": "3.6.5"
  }
 },
 "nbformat": 4,
 "nbformat_minor": 2
}
