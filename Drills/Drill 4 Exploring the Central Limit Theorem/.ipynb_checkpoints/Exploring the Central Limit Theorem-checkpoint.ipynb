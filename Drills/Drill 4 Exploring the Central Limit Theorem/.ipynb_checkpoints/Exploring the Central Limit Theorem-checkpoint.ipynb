{
 "cells": [
  {
   "cell_type": "markdown",
   "metadata": {},
   "source": [
    "# Thinkful Drill #4: Exploring the Central Limit Theorem\n",
    "Now that you have some code to create your own populations, sample them, and compare the samples to the populations, it's time to experiment. Using your own Jupyter notebook, or a copy of the notebook from the previous assignment, reproduce the pop1 and pop2 populations and samples, using numpy's binomial function. Specifically, create two binomially distributed populations with n equal to 10 and size equal to 10000. The p-value of pop1 should be 0.2 and the p-value of pop2 should be 0.5. Using a sample size of 100, calculate the means and standard deviations of your samples.\n",
    "\n",
    "For each of the following tasks, first write what you expect will happen, then code the changes and observe what does happen. Discuss the results with your mentor.\n",
    "\n",
    "1) Increase the size of your samples from 100 to 1000, then calculate the means and standard deviations for your new samples and create histograms for each. Repeat this again, decreasing the size of your samples to 20. What values change, and what remain the same?\n",
    "\n",
    "2) Change the probability value (p in the NumPy documentation) for pop1 to 0.3, then take new samples and compute the t-statistic and p-value. Then change the probability value p for group 1 to 0.4, and do it again. What changes, and why?\n",
    "\n",
    "3) Change the distribution of your populations from binomial to a distribution of your choice. Do the sample mean values still accurately represent the population values?"
   ]
  },
  {
   "cell_type": "code",
   "execution_count": 2,
   "metadata": {
    "collapsed": true
   },
   "outputs": [],
   "source": [
    "import numpy as np\n",
    "import pandas as pd\n",
    "import scipy\n",
    "import matplotlib.pyplot as plt\n",
    "%matplotlib inline"
   ]
  },
  {
   "cell_type": "code",
   "execution_count": 4,
   "metadata": {},
   "outputs": [
    {
     "name": "stdout",
     "output_type": "stream",
     "text": [
      "Sample 1 mean is: 1.97\n",
      "Sample 2 mean is: 5.05\n",
      "Sample 1 standard deviation is: 1.3073255141700557\n",
      "Sample 2 standard deviation is: 1.6209565077447328\n"
     ]
    }
   ],
   "source": [
    "pop1 = np.random.binomial(10,0.2,10000)\n",
    "pop2 = np.random.binomial(10,0.5,10000)\n",
    "\n",
    "sample1 = np.random.choice(pop1,100,replace=True)\n",
    "sample2 = np.random.choice(pop2,100,replace=True)\n",
    "\n",
    "print(\"Sample 1 mean is: {}\".format(sample1.mean()))\n",
    "print(\"Sample 2 mean is: {}\".format(sample2.mean()))\n",
    "print(\"Sample 1 standard deviation is: {}\".format(sample1.std()))\n",
    "print(\"Sample 2 standard deviation is: {}\".format(sample2.std()))"
   ]
  },
  {
   "cell_type": "markdown",
   "metadata": {},
   "source": [
    "#### Increase sample size from 100 to 1000"
   ]
  },
  {
   "cell_type": "code",
   "execution_count": 8,
   "metadata": {
    "scrolled": true
   },
   "outputs": [
    {
     "name": "stdout",
     "output_type": "stream",
     "text": [
      "Sample 1 mean is: 2.032\n",
      "Sample 2 mean is: 5.047\n",
      "Sample 1 standard deviation is: 1.2763134411264343\n",
      "Sample 2 standard deviation is: 1.5436291653114098\n"
     ]
    },
    {
     "data": {
      "image/png": "[encoded data removed]",
      "text/plain": [
       "<matplotlib.figure.Figure at 0x1f42155bfd0>"
      ]
     },
     "metadata": {},
     "output_type": "display_data"
    }
   ],
   "source": [
    "sample1 = np.random.choice(pop1,1000,replace=True)\n",
    "sample2 = np.random.choice(pop2,1000,replace=True)\n",
    "\n",
    "print(\"Sample 1 mean is: {}\".format(sample1.mean()))\n",
    "print(\"Sample 2 mean is: {}\".format(sample2.mean()))\n",
    "print(\"Sample 1 standard deviation is: {}\".format(sample1.std()))\n",
    "print(\"Sample 2 standard deviation is: {}\".format(sample2.std()))\n",
    "\n",
    "plt.hist(sample1,alpha=0.5,label=\"sample 1\")\n",
    "plt.hist(sample2,alpha=0.5,label=\"sample 2\")\n",
    "plt.legend(loc=\"upper right\")\n",
    "plt.show()"
   ]
  },
  {
   "cell_type": "markdown",
   "metadata": {},
   "source": [
    "#### Decrease sample size from 1000 to 20"
   ]
  },
  {
   "cell_type": "code",
   "execution_count": 9,
   "metadata": {},
   "outputs": [
    {
     "name": "stdout",
     "output_type": "stream",
     "text": [
      "Sample 1 mean is: 2.35\n",
      "Sample 2 mean is: 4.8\n",
      "Sample 1 standard deviation is: 1.4585952145814822\n",
      "Sample 2 standard deviation is: 1.208304597359457\n"
     ]
    },
    {
     "data": {
      "image/png": "[encoded data removed]",
      "text/plain": [
       "<matplotlib.figure.Figure at 0x1f4214ded30>"
      ]
     },
     "metadata": {},
     "output_type": "display_data"
    }
   ],
   "source": [
    "sample1 = np.random.choice(pop1,20,replace=True)\n",
    "sample2 = np.random.choice(pop2,20,replace=True)\n",
    "\n",
    "print(\"Sample 1 mean is: {}\".format(sample1.mean()))\n",
    "print(\"Sample 2 mean is: {}\".format(sample2.mean()))\n",
    "print(\"Sample 1 standard deviation is: {}\".format(sample1.std()))\n",
    "print(\"Sample 2 standard deviation is: {}\".format(sample2.std()))\n",
    "\n",
    "plt.hist(sample1,alpha=0.5,label=\"sample 1\")\n",
    "plt.hist(sample2,alpha=0.5,label=\"sample 2\")\n",
    "plt.legend(loc=\"upper right\")\n",
    "plt.show()"
   ]
  },
  {
   "cell_type": "markdown",
   "metadata": {},
   "source": [
    "Both mean and standard deviation changed when sample sizes were changed. The histograms also change in shape."
   ]
  },
  {
   "cell_type": "markdown",
   "metadata": {},
   "source": [
    "#### Change probabiliy value for pop1 to 0.3"
   ]
  },
  {
   "cell_type": "code",
   "execution_count": 10,
   "metadata": {},
   "outputs": [
    {
     "name": "stdout",
     "output_type": "stream",
     "text": [
      "The t-value is: 10.765893556950362\n"
     ]
    }
   ],
   "source": [
    "pop1 = np.random.binomial(10,0.3,10000)\n",
    "\n",
    "sample1 = np.random.choice(pop1,100,replace=True)\n",
    "sample2 = np.random.choice(pop2,100,replace=True)\n",
    "\n",
    "diff = sample2.mean() - sample1.mean()\n",
    "size = np.array([len(sample1),len(sample2)])\n",
    "sd = np.array([sample1.std(),sample2.std()])\n",
    "\n",
    "# Calculate the standard error of the sampling distribution of the difference of the means\n",
    "diff_se = (sum(sd**2/size))**0.5\n",
    "\n",
    "print(\"The t-value is: {}\".format(diff/diff_se))"
   ]
  },
  {
   "cell_type": "code",
   "execution_count": 11,
   "metadata": {},
   "outputs": [
    {
     "name": "stdout",
     "output_type": "stream",
     "text": [
      "Ttest_indResult(statistic=10.711928838392712, pvalue=2.1325511504555283e-21)\n"
     ]
    }
   ],
   "source": [
    "# use scipy to calculate t-value (statistic) and pvalue\n",
    "from scipy.stats import ttest_ind\n",
    "print(ttest_ind(sample2,sample1,equal_var=False))"
   ]
  },
  {
   "cell_type": "code",
   "execution_count": 13,
   "metadata": {},
   "outputs": [
    {
     "name": "stdout",
     "output_type": "stream",
     "text": [
      "Ttest_indResult(statistic=3.9264967320426827, pvalue=0.00011968661053200443)\n"
     ]
    }
   ],
   "source": [
    "pop1 = np.random.binomial(10,0.4,10000)\n",
    "\n",
    "sample1 = np.random.choice(pop1,100,replace=True)\n",
    "sample2 = np.random.choice(pop2,100,replace=True)\n",
    "\n",
    "print(ttest_ind(sample2,sample1,equal_var=False))"
   ]
  },
  {
   "cell_type": "markdown",
   "metadata": {},
   "source": [
    "Both t-value and p-value changed. "
   ]
  },
  {
   "cell_type": "markdown",
   "metadata": {},
   "source": [
    "#### Change to different probability distribution"
   ]
  },
  {
   "cell_type": "code",
   "execution_count": 14,
   "metadata": {},
   "outputs": [
    {
     "data": {
      "image/png": "[encoded data removed]",
      "text/plain": [
       "<matplotlib.figure.Figure at 0x1f42155be48>"
      ]
     },
     "metadata": {},
     "output_type": "display_data"
    },
    {
     "name": "stdout",
     "output_type": "stream",
     "text": [
      "Ttest_indResult(statistic=0.21638202228943704, pvalue=0.82899276042688474)\n"
     ]
    }
   ],
   "source": [
    "pop1 = np.random.normal(5,10,10000)\n",
    "pop2 = np.random.normal(5,20,10000)\n",
    "\n",
    "pop1.sort()\n",
    "pop2.sort()\n",
    "\n",
    "sample1 = np.random.choice(pop1,100,replace=True)\n",
    "sample2 = np.random.choice(pop2,100,replace=True)\n",
    "\n",
    "plt.hist(sample1,alpha=0.5,label=\"sample 1\")\n",
    "plt.hist(sample2,alpha=0.5,label=\"sample 2\")\n",
    "plt.legend(loc=\"upper right\")\n",
    "plt.show()\n",
    "\n",
    "print(ttest_ind(sample2,sample1,equal_var=False))"
   ]
  },
  {
   "cell_type": "markdown",
   "metadata": {},
   "source": [
    "The t-value and p-value indicate that the sample mean values accurately represent the population values (p-value > 0.5 and t-value < 2 suggests that the means are less than 1 standard deviation apart from each other)"
   ]
  }
 ],
 "metadata": {
  "kernelspec": {
   "display_name": "Python 3",
   "language": "python",
   "name": "python3"
  },
  "language_info": {
   "codemirror_mode": {
    "name": "ipython",
    "version": 3
   },
   "file_extension": ".py",
   "mimetype": "text/x-python",
   "name": "python",
   "nbconvert_exporter": "python",
   "pygments_lexer": "ipython3",
   "version": "3.6.3"
  }
 },
 "nbformat": 4,
 "nbformat_minor": 2
}
