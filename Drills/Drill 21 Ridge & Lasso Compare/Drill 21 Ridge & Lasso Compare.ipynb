{
 "cells": [
  {
   "cell_type": "code",
   "execution_count": 4,
   "metadata": {},
   "outputs": [],
   "source": [
    "import pandas as pd\n",
    "import matplotlib.pyplot as plt\n",
    "import numpy as np\n",
    "import seaborn as sns\n",
    "from sklearn import preprocessing"
   ]
  },
  {
   "cell_type": "code",
   "execution_count": 7,
   "metadata": {},
   "outputs": [],
   "source": [
    "df = pd.read_csv(\n",
    "    'https://vincentarelbundock.github.io/Rdatasets/csv/ISLR/Default.csv'\n",
    ").iloc[:,1:].dropna()"
   ]
  },
  {
   "cell_type": "code",
   "execution_count": 8,
   "metadata": {},
   "outputs": [],
   "source": [
    "df['default'] = np.where(df['default']=='Yes', 1, 0)\n",
    "df['student'] = np.where(df['student']=='Yes', 1, 0)\n",
    "names = df.columns\n",
    "df = pd.DataFrame(preprocessing.scale(df), columns=names)"
   ]
  },
  {
   "cell_type": "code",
   "execution_count": 18,
   "metadata": {},
   "outputs": [
    {
     "data": {
      "text/html": [
       "<div>\n",
       "<style scoped>\n",
       "    .dataframe tbody tr th:only-of-type {\n",
       "        vertical-align: middle;\n",
       "    }\n",
       "\n",
       "    .dataframe tbody tr th {\n",
       "        vertical-align: top;\n",
       "    }\n",
       "\n",
       "    .dataframe thead th {\n",
       "        text-align: right;\n",
       "    }\n",
       "</style>\n",
       "<table border=\"1\" class=\"dataframe\">\n",
       "  <thead>\n",
       "    <tr style=\"text-align: right;\">\n",
       "      <th></th>\n",
       "      <th>default</th>\n",
       "      <th>student</th>\n",
       "      <th>balance</th>\n",
       "      <th>income</th>\n",
       "    </tr>\n",
       "  </thead>\n",
       "  <tbody>\n",
       "    <tr>\n",
       "      <th>0</th>\n",
       "      <td>-0.185599</td>\n",
       "      <td>-0.645936</td>\n",
       "      <td>-0.218835</td>\n",
       "      <td>0.813187</td>\n",
       "    </tr>\n",
       "    <tr>\n",
       "      <th>1</th>\n",
       "      <td>-0.185599</td>\n",
       "      <td>1.548141</td>\n",
       "      <td>-0.037616</td>\n",
       "      <td>-1.605496</td>\n",
       "    </tr>\n",
       "    <tr>\n",
       "      <th>2</th>\n",
       "      <td>-0.185599</td>\n",
       "      <td>-0.645936</td>\n",
       "      <td>0.492410</td>\n",
       "      <td>-0.131212</td>\n",
       "    </tr>\n",
       "    <tr>\n",
       "      <th>3</th>\n",
       "      <td>-0.185599</td>\n",
       "      <td>-0.645936</td>\n",
       "      <td>-0.632893</td>\n",
       "      <td>0.164031</td>\n",
       "    </tr>\n",
       "    <tr>\n",
       "      <th>4</th>\n",
       "      <td>-0.185599</td>\n",
       "      <td>-0.645936</td>\n",
       "      <td>-0.102791</td>\n",
       "      <td>0.370915</td>\n",
       "    </tr>\n",
       "  </tbody>\n",
       "</table>\n",
       "</div>"
      ],
      "text/plain": [
       "    default   student   balance    income\n",
       "0 -0.185599 -0.645936 -0.218835  0.813187\n",
       "1 -0.185599  1.548141 -0.037616 -1.605496\n",
       "2 -0.185599 -0.645936  0.492410 -0.131212\n",
       "3 -0.185599 -0.645936 -0.632893  0.164031\n",
       "4 -0.185599 -0.645936 -0.102791  0.370915"
      ]
     },
     "execution_count": 18,
     "metadata": {},
     "output_type": "execute_result"
    }
   ],
   "source": [
    "df.head(5)"
   ]
  },
  {
   "cell_type": "code",
   "execution_count": 11,
   "metadata": {},
   "outputs": [],
   "source": [
    "from sklearn.model_selection import train_test_split\n",
    "X = df.drop(\"income\",1)\n",
    "Y = df[\"income\"]\n",
    "X_train,X_test,y_train,y_test = train_test_split(X,Y,train_size=0.5,test_size=0.5,random_state=50)"
   ]
  },
  {
   "cell_type": "code",
   "execution_count": 19,
   "metadata": {},
   "outputs": [
    {
     "name": "stdout",
     "output_type": "stream",
     "text": [
      "R2 score: 0.5642913262380984\n"
     ]
    }
   ],
   "source": [
    "from sklearn import linear_model\n",
    "\n",
    "# Ridge Regression\n",
    "ridgeregr = linear_model.Ridge(alpha=10,fit_intercept=False)\n",
    "ridgeregr.fit(X_train,y_train)\n",
    "print(\"R2 score:\",ridgeregr.score(X_test,y_test))"
   ]
  },
  {
   "cell_type": "code",
   "execution_count": 20,
   "metadata": {},
   "outputs": [
    {
     "data": {
      "image/png": "[encoded data removed]",
      "text/plain": [
       "<matplotlib.figure.Figure at 0x7f45c09c5eb8>"
      ]
     },
     "metadata": {},
     "output_type": "display_data"
    }
   ],
   "source": [
    "estimates = np.append(ridgeregr.coef_,[10])\n",
    "for lambd in range(1,50,2):\n",
    "    ridgeregr = linear_model.Ridge(alpha=lambd,fit_intercept=False)\n",
    "    ridgeregr.fit(X_train,y_train)\n",
    "    estimates = np.row_stack((estimates,np.append(ridgeregr.coef_,[lambd])))\n",
    "\n",
    "ridge_df = pd.DataFrame(estimates,columns=list(X_train.columns) + [\"lambda\"])\n",
    "ridge_df.sort_values(by='lambda',inplace=True,ascending=True)\n",
    "\n",
    "ridgeplot = list(ridge_df.columns[:9,])\n",
    "ridgeplot.remove(\"student\")\n",
    "\n",
    "labels = []\n",
    "for var in ridgeplot:\n",
    "    plt.plot(ridge_df[\"lambda\"],ridge_df[var])\n",
    "    labels.append(var)\n",
    "\n",
    "plt.xlabel('lambda')\n",
    "plt.ylabel(\"Parameter estimate size\")\n",
    "plt.legend(labels)\n",
    "plt.show()"
   ]
  },
  {
   "cell_type": "code",
   "execution_count": 21,
   "metadata": {},
   "outputs": [
    {
     "name": "stdout",
     "output_type": "stream",
     "text": [
      "R2 score:  0.450217970752628\n"
     ]
    }
   ],
   "source": [
    "# Lasso Regression\n",
    "lass = linear_model.Lasso(alpha = 0.35)\n",
    "lassfit = lass.fit(X_train,y_train)\n",
    "print(\"R2 score: \",lass.score(X_test,y_test))"
   ]
  },
  {
   "cell_type": "code",
   "execution_count": 23,
   "metadata": {},
   "outputs": [
    {
     "data": {
      "image/png": "[encoded data removed]",
      "text/plain": [
       "<matplotlib.figure.Figure at 0x7f45c090d0f0>"
      ]
     },
     "metadata": {},
     "output_type": "display_data"
    }
   ],
   "source": [
    "estimates = np.append(lass.coef_,[10])\n",
    "for lambd in range(1,50,2):\n",
    "    lass = linear_model.Lasso(alpha=lambd)\n",
    "    lass.fit(X_train,y_train)\n",
    "    estimates = np.row_stack((estimates,np.append(lass.coef_,[lambd])))\n",
    "\n",
    "lass_df = pd.DataFrame(estimates,columns=list(X_train.columns) + [\"lambda\"])\n",
    "lass_df.sort_values(by='lambda',inplace=True,ascending=True)\n",
    "\n",
    "lassplot = list(lass_df.columns[:9,])\n",
    "lassplot.remove(\"student\")\n",
    "\n",
    "labels = []\n",
    "for var in lassplot:\n",
    "    plt.plot(lass_df[\"lambda\"],lass_df[var])\n",
    "    labels.append(var)\n",
    "\n",
    "plt.xlabel('lambda')\n",
    "plt.ylabel(\"Parameter estimate size\")\n",
    "plt.legend(labels)\n",
    "plt.show()"
   ]
  }
 ],
 "metadata": {
  "kernelspec": {
   "display_name": "Python 3",
   "language": "python",
   "name": "python3"
  },
  "language_info": {
   "codemirror_mode": {
    "name": "ipython",
    "version": 3
   },
   "file_extension": ".py",
   "mimetype": "text/x-python",
   "name": "python",
   "nbconvert_exporter": "python",
   "pygments_lexer": "ipython3",
   "version": "3.6.4"
  }
 },
 "nbformat": 4,
 "nbformat_minor": 2
}
