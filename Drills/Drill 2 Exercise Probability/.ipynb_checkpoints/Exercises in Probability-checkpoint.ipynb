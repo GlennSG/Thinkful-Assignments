{
 "cells": [
  {
   "cell_type": "markdown",
   "metadata": {},
   "source": [
    "# Thinkful Drill #2: Exercises in Probability"
   ]
  },
  {
   "cell_type": "markdown",
   "metadata": {},
   "source": [
    "#### 1) Calculate the probability of flipping a balanced coin four times and getting each pattern: HTTH, HHHH and TTHH."
   ]
  },
  {
   "cell_type": "markdown",
   "metadata": {},
   "source": [
    "Possible outcomes: 2^4 or 16 possible outcomes\n",
    "\n",
    "Probability of getting HTTH or HHHH or TTHH: 1/16 + 1/16 + 1/16 or 3/16"
   ]
  },
  {
   "cell_type": "markdown",
   "metadata": {},
   "source": [
    "#### 2) If a list of people has 24 women and 21 men, then the probability of choosing a man from the list is 21/45. What is the probability of not choosing a man?"
   ]
  },
  {
   "cell_type": "markdown",
   "metadata": {},
   "source": [
    "P(not choosing a man) = 1 - P(choosing a man)\n",
    "                      = 45/45 - 21/45\n",
    "                      = 24/45 "
   ]
  },
  {
   "cell_type": "markdown",
   "metadata": {},
   "source": [
    "#### 3) The probability that Bernice will travel by plane sometime in the next year is 10%. The probability of a plane crash at any time is .005%. What is the probability that Bernice will be in a plane crash sometime in the next year?"
   ]
  },
  {
   "cell_type": "markdown",
   "metadata": {},
   "source": [
    "A = travel by plane\n",
    "\n",
    "B = plane crashes\n",
    "\n",
    "P(A and B) = P(A) * P(B|A) = 10% * 0.005% = 0.0005%"
   ]
  },
  {
   "cell_type": "markdown",
   "metadata": {},
   "source": [
    "#### 4) A data scientist wants to study the behavior of users on the company website. Each time a user clicks on a link on the website, there is a 5% chance that the user will be asked to complete a short survey about their behavior on the website. The data scientist uses the survey data to conclude that, on average, users spend 15 minutes surfing the company website before moving on to other things. What is wrong with this conclusion?"
   ]
  },
  {
   "cell_type": "markdown",
   "metadata": {},
   "source": [
    "The data gathered contains potential bias that may skew the results. The users may or may not take the survey, and even if they did, the 5% chance that they are given a survey and they complete it, could potentially be too small of a sample to make any correlations to the entire population of users who visit the site. Also, users could also be doing other things while on the company website and not necessarily be \"surfing\" through the webpage (i.e taking a break from the computer while leaving the computer on and the website open in browser). Therefore, the conclusion that users spend an average of 15 minutes surfing the company website could be an inaccurate assessment of user interaction. "
   ]
  },
  {
   "cell_type": "markdown",
   "metadata": {},
   "source": [
    "## Bayes' Rule"
   ]
  },
  {
   "cell_type": "markdown",
   "metadata": {},
   "source": [
    "A diagnostic test has a 98% probability of giving a positive result when applied to a person suffering from Thripshaw's Disease, and 10% probability of giving a (false) positive when applied to a non-sufferer. It is estimated that 0.5 % of the population are sufferers. Suppose that the test is now administered to a person whose disease status is unknown. Calculate the probability that the test will:"
   ]
  },
  {
   "cell_type": "markdown",
   "metadata": {},
   "source": [
    "#### 1) Be positive"
   ]
  },
  {
   "cell_type": "markdown",
   "metadata": {},
   "source": [
    "P(positive | disease) = .98 * 0.005 = 0.0049 or 0.49%\n",
    "\n",
    "P(positive | non-disease) = .10 * 0.995 = 0.0995 or 9.95%\n",
    "\n",
    "0.0049 + 0.0995 = 0.1044 or 10.44%"
   ]
  },
  {
   "cell_type": "markdown",
   "metadata": {},
   "source": [
    "#### 2) Correctly diagnose a sufferer of Thripshaw's"
   ]
  },
  {
   "cell_type": "markdown",
   "metadata": {},
   "source": [
    "P(positive | disease) = 0.98 or 98%"
   ]
  },
  {
   "cell_type": "markdown",
   "metadata": {},
   "source": [
    "#### 3) Correctly identify a non-sufferer of Thripshaw's"
   ]
  },
  {
   "cell_type": "markdown",
   "metadata": {},
   "source": [
    "P(negative | non-disease) = 1 - P(positive | non-disease) = 1-0.10 = 0.9 or 90%"
   ]
  },
  {
   "cell_type": "markdown",
   "metadata": {},
   "source": [
    "#### 4) Misclassify the person"
   ]
  },
  {
   "cell_type": "markdown",
   "metadata": {},
   "source": [
    "P(misidentification) = 1-P(correct diagnoses) = 1-(.98 * 0.005 + .9 * .995) = 0.0996 or 9.96%"
   ]
  },
  {
   "cell_type": "markdown",
   "metadata": {},
   "source": [
    "## Evaluating Data Sources"
   ]
  },
  {
   "cell_type": "markdown",
   "metadata": {},
   "source": [
    "#### 1) Data Source: Amsterdam availability data scraped from AirBnB on December 24th. Question: What are the popular neighborhoods in Amsterdam?"
   ]
  },
  {
   "cell_type": "markdown",
   "metadata": {},
   "source": [
    "The data is collected from a single website (AirBnB) which may lead to possible bias when deciding the most popular neighborhoods in Amsterdam. Possible way to overcome bias is to gather information from other real estate websites, focusing on volumes of homes bought in the Amsterdam area (or other criteria for determining popularity). Could also state that the conclusions derived from the data comes from a single source and focus on how AirBnB may help to draw conclusions of popularity in a single area. "
   ]
  },
  {
   "cell_type": "markdown",
   "metadata": {},
   "source": [
    "#### 2) Data Source: Mental health services use on September 12, 2001 in San Francisco, CA and New York City, NY. Question: How do patterns of mental health service use vary between cities?"
   ]
  },
  {
   "cell_type": "markdown",
   "metadata": {},
   "source": [
    "There are many cities with mental health services, so using only information from two cities may produce a biased outcome. The scientist could focus on just the variations in mental health service usage between San Francisco and New York instead of every city in existence (rephrasing the question for a more focused approach). "
   ]
  },
  {
   "cell_type": "markdown",
   "metadata": {},
   "source": [
    "#### 3) Data Source: Armenian Pub Survey. Question: What are the most common reasons Armenians visit local pubs?"
   ]
  },
  {
   "cell_type": "markdown",
   "metadata": {},
   "source": [
    "The data may be bias to Armenians who visit only Armenian local pubs. However, Armenians may have preferences for other local pubs and have unique reasons for doing so. Therefore, the data may be skewed and produce biased results. The scientist must gather data from other pub surveys or rephrase the question to focus on common reasons Armenians visit local Armenian Pubs. "
   ]
  }
 ],
 "metadata": {
  "kernelspec": {
   "display_name": "Python 3",
   "language": "python",
   "name": "python3"
  },
  "language_info": {
   "codemirror_mode": {
    "name": "ipython",
    "version": 3
   },
   "file_extension": ".py",
   "mimetype": "text/x-python",
   "name": "python",
   "nbconvert_exporter": "python",
   "pygments_lexer": "ipython3",
   "version": "3.6.3"
  }
 },
 "nbformat": 4,
 "nbformat_minor": 2
}
