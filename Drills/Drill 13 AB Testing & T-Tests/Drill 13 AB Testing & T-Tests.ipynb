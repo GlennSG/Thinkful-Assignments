{
 "cells": [
  {
   "cell_type": "markdown",
   "metadata": {},
   "source": [
    "### To help you find your bearings with regard to t-tests, calculate the t-values for the following numbers:"
   ]
  },
  {
   "cell_type": "code",
   "execution_count": 1,
   "metadata": {},
   "outputs": [
    {
     "name": "stdout",
     "output_type": "stream",
     "text": [
      "-19.78141420187361\n",
      "6.658536585365854\n",
      "3.7139067635410377\n"
     ]
    }
   ],
   "source": [
    "def t_test(y1,y2,s1,s2,n1,n2):\n",
    "    import math\n",
    "    t = (y1-y2)/math.sqrt(((s1**2)/n1)+((s2**2)/n2))\n",
    "    return t\n",
    "\n",
    "print(t_test(5,8,1,3,200,500))\n",
    "print(t_test(1090,999,400,30,900,100))\n",
    "print(t_test(45,40,45,40,2000,2000))"
   ]
  }
 ],
 "metadata": {
  "kernelspec": {
   "display_name": "Python 3",
   "language": "python",
   "name": "python3"
  },
  "language_info": {
   "codemirror_mode": {
    "name": "ipython",
    "version": 3
   },
   "file_extension": ".py",
   "mimetype": "text/x-python",
   "name": "python",
   "nbconvert_exporter": "python",
   "pygments_lexer": "ipython3",
   "version": "3.6.3"
  }
 },
 "nbformat": 4,
 "nbformat_minor": 2
}
