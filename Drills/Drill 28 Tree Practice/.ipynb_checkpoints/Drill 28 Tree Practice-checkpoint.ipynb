{
 "cells": [
  {
   "cell_type": "markdown",
   "metadata": {},
   "source": [
    "Implement a binary tree, which is filled with 15 pieces of random data. Your job is to then write a program to traverse the tree using a breadth first traversal. If you want additional practice, try other forms of traversal."
   ]
  },
  {
   "cell_type": "code",
   "execution_count": 61,
   "metadata": {},
   "outputs": [],
   "source": [
    "class Node:\n",
    "    def __init__(self, value):\n",
    "        self.left = None\n",
    "        self.right = None\n",
    "        self.data = value\n",
    "        \n",
    "class Tree:\n",
    "    def __init__(self):\n",
    "        self.root = None\n",
    "\n",
    "    def addNode(self, node, value):\n",
    "        if(node==None):\n",
    "            self.root = Node(value)\n",
    "        else:\n",
    "            if(value<node.data):\n",
    "                if(node.left==None):\n",
    "                    node.left = Node(value)\n",
    "                else:\n",
    "                    self.addNode(node.left, value)\n",
    "            else:\n",
    "                if(node.right==None):\n",
    "                    node.right = Node(value)\n",
    "                else:\n",
    "                    self.addNode(node.right, value)\n",
    "\n",
    "    def printInorder(self, node):\n",
    "        if(node!=None):\n",
    "            self.printInorder(node.left)\n",
    "            print(node.data)\n",
    "            self.printInorder(node.right)"
   ]
  },
  {
   "cell_type": "code",
   "execution_count": 62,
   "metadata": {},
   "outputs": [],
   "source": [
    "tree = Tree()"
   ]
  },
  {
   "cell_type": "code",
   "execution_count": 63,
   "metadata": {},
   "outputs": [],
   "source": [
    "import random \n",
    "\n",
    "for i in list(random.sample(range(1,100),16)):\n",
    "    tree.addNode(tree.root,i)"
   ]
  },
  {
   "cell_type": "code",
   "execution_count": 64,
   "metadata": {},
   "outputs": [
    {
     "name": "stdout",
     "output_type": "stream",
     "text": [
      "8\n",
      "27\n",
      "28\n",
      "33\n",
      "35\n",
      "36\n",
      "47\n",
      "49\n",
      "55\n",
      "61\n",
      "64\n",
      "66\n",
      "76\n",
      "89\n",
      "93\n",
      "95\n"
     ]
    }
   ],
   "source": [
    "tree.printInorder(tree.root)"
   ]
  },
  {
   "cell_type": "markdown",
   "metadata": {},
   "source": [
    "There is no hierarchical structure to the data, so intepretability will be nonexistent. We picked 16 values at random from 100 values. The objective was to make a binary tree with 16 random values and then print using a breadth first traversal method. "
   ]
  }
 ],
 "metadata": {
  "kernelspec": {
   "display_name": "Python 3",
   "language": "python",
   "name": "python3"
  },
  "language_info": {
   "codemirror_mode": {
    "name": "ipython",
    "version": 3
   },
   "file_extension": ".py",
   "mimetype": "text/x-python",
   "name": "python",
   "nbconvert_exporter": "python",
   "pygments_lexer": "ipython3",
   "version": "3.6.5"
  }
 },
 "nbformat": 4,
 "nbformat_minor": 2
}
