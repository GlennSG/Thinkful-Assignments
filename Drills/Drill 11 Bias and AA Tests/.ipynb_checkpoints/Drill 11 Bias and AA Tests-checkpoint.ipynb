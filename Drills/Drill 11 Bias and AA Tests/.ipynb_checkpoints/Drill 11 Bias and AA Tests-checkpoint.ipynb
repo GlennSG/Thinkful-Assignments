{
 "cells": [
  {
   "cell_type": "markdown",
   "metadata": {},
   "source": [
    "### For each of the following scenarios, call out the potential biases in the proposed experiment. Do your best to try to discover not only the bias, but the initial design. There is plenty of room for interpretation here, so make sure to state what assumptions you're making."
   ]
  },
  {
   "cell_type": "markdown",
   "metadata": {},
   "source": [
    "#### 1) You're testing advertising emails for a bathing suit company and you test one version of the email in February and the other in May."
   ]
  },
  {
   "cell_type": "markdown",
   "metadata": {},
   "source": [
    "Initial Design: will new email advertisement increase product revenue for bathing suit company?\n",
    "\n",
    "Potential Bias: February is a holiday month so there may be a influx of bathing suit purchases as gift options. May is the month before summer, there may be a large influx of people buying bathing suits in preparation for June/July. Both scenarios indicate that there's a potential for collecting data that is not an accurate representation of the population. "
   ]
  },
  {
   "cell_type": "markdown",
   "metadata": {},
   "source": [
    "#### 2) You open a clinic to treat anxiety and find that the people who visit show a higher rate of anxiety than the general population."
   ]
  },
  {
   "cell_type": "markdown",
   "metadata": {},
   "source": [
    "Initial Design: what is the rate of anxiety of patients admitted to clinic compared to the general population?\n",
    "\n",
    "Potential Bias: the sample is not an accurate reflection of the population. Patients in clinic are there for anxiety treatment so there will be a higher rate of people with anxiety in the clinic (study context bias)."
   ]
  },
  {
   "cell_type": "markdown",
   "metadata": {},
   "source": [
    "#### 3) You launch a new ad billboard based campaign and see an increase in website visits in the first week."
   ]
  },
  {
   "cell_type": "markdown",
   "metadata": {},
   "source": [
    "Initial Design: will new ad billboard based campaign increase website visits?\n",
    "\n",
    "Potential Bias: not enough time has passed to gather evidence required to make meaningful correlations between the new ad campaign and previous campaign strategies. The first week could be a fluke, an increase could just be for that week and could decrease the next week for a variety of reasons (holiday, sale, other ads, etc.). "
   ]
  },
  {
   "cell_type": "markdown",
   "metadata": {},
   "source": [
    "#### 4) You launch a loyalty program but see no change in visits in the first week."
   ]
  },
  {
   "cell_type": "markdown",
   "metadata": {},
   "source": [
    "Initial Design: will loyalty program increase the number of visits to company or website? \n",
    "\n",
    "Potential Bias: similar reasoning to previous problem. One week is not enough time to gather evidence to prove hypothesis correct/incorrect. The lack of visits could be due to season, holiday, people needing time to schedule visit, people seeing the loyalty offer at a later time, etc. "
   ]
  }
 ],
 "metadata": {
  "kernelspec": {
   "display_name": "Python 3",
   "language": "python",
   "name": "python3"
  },
  "language_info": {
   "codemirror_mode": {
    "name": "ipython",
    "version": 3
   },
   "file_extension": ".py",
   "mimetype": "text/x-python",
   "name": "python",
   "nbconvert_exporter": "python",
   "pygments_lexer": "ipython3",
   "version": "3.6.3"
  }
 },
 "nbformat": 4,
 "nbformat_minor": 2
}
