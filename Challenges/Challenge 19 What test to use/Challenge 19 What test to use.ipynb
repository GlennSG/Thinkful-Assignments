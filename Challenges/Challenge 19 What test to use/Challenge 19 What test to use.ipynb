{
 "cells": [
  {
   "cell_type": "markdown",
   "metadata": {},
   "source": [
    "Using selected questions from the 2012 and 2014 editions of the European Social Survey, figure out which test to use for the following questions:\n",
    "\n",
    "Data Source: https://raw.githubusercontent.com/Thinkful-Ed/data-201-resources/master/ESS_practice_data/ESSdata_Thinkful.csv\n",
    "\n",
    "Data Info: https://thinkful-ed.github.io/data-201-resources/ESS_practice_data/ESS_codebook.html"
   ]
  },
  {
   "cell_type": "code",
   "execution_count": 65,
   "metadata": {},
   "outputs": [],
   "source": [
    "import numpy as np\n",
    "import pandas as pd\n",
    "import matplotlib.pyplot as plt\n",
    "%matplotlib inline"
   ]
  },
  {
   "cell_type": "code",
   "execution_count": null,
   "metadata": {},
   "outputs": [],
   "source": [
    "def vis_hist(df):\n",
    "    plt.rcParams[\"figure.figsize\"] = (23,13)\n",
    "    fig,ax = plt.subplots(nrows=3,ncols=3)\n",
    "    i = 0\n",
    "    j = 0\n",
    "    \n",
    "    for col in df.columns"
   ]
  },
  {
   "cell_type": "code",
   "execution_count": 66,
   "metadata": {},
   "outputs": [
    {
     "data": {
      "text/html": [
       "<div>\n",
       "<style scoped>\n",
       "    .dataframe tbody tr th:only-of-type {\n",
       "        vertical-align: middle;\n",
       "    }\n",
       "\n",
       "    .dataframe tbody tr th {\n",
       "        vertical-align: top;\n",
       "    }\n",
       "\n",
       "    .dataframe thead th {\n",
       "        text-align: right;\n",
       "    }\n",
       "</style>\n",
       "<table border=\"1\" class=\"dataframe\">\n",
       "  <thead>\n",
       "    <tr style=\"text-align: right;\">\n",
       "      <th></th>\n",
       "      <th>cntry</th>\n",
       "      <th>idno</th>\n",
       "      <th>year</th>\n",
       "      <th>tvtot</th>\n",
       "      <th>ppltrst</th>\n",
       "      <th>pplfair</th>\n",
       "      <th>pplhlp</th>\n",
       "      <th>happy</th>\n",
       "      <th>sclmeet</th>\n",
       "      <th>sclact</th>\n",
       "      <th>gndr</th>\n",
       "      <th>agea</th>\n",
       "      <th>partner</th>\n",
       "    </tr>\n",
       "  </thead>\n",
       "  <tbody>\n",
       "    <tr>\n",
       "      <th>0</th>\n",
       "      <td>CH</td>\n",
       "      <td>5.0</td>\n",
       "      <td>6</td>\n",
       "      <td>3.0</td>\n",
       "      <td>3.0</td>\n",
       "      <td>10.0</td>\n",
       "      <td>5.0</td>\n",
       "      <td>8.0</td>\n",
       "      <td>5.0</td>\n",
       "      <td>4.0</td>\n",
       "      <td>2.0</td>\n",
       "      <td>60.0</td>\n",
       "      <td>1.0</td>\n",
       "    </tr>\n",
       "    <tr>\n",
       "      <th>1</th>\n",
       "      <td>CH</td>\n",
       "      <td>25.0</td>\n",
       "      <td>6</td>\n",
       "      <td>6.0</td>\n",
       "      <td>5.0</td>\n",
       "      <td>7.0</td>\n",
       "      <td>5.0</td>\n",
       "      <td>9.0</td>\n",
       "      <td>3.0</td>\n",
       "      <td>2.0</td>\n",
       "      <td>2.0</td>\n",
       "      <td>59.0</td>\n",
       "      <td>1.0</td>\n",
       "    </tr>\n",
       "    <tr>\n",
       "      <th>2</th>\n",
       "      <td>CH</td>\n",
       "      <td>26.0</td>\n",
       "      <td>6</td>\n",
       "      <td>1.0</td>\n",
       "      <td>8.0</td>\n",
       "      <td>8.0</td>\n",
       "      <td>8.0</td>\n",
       "      <td>7.0</td>\n",
       "      <td>6.0</td>\n",
       "      <td>3.0</td>\n",
       "      <td>1.0</td>\n",
       "      <td>24.0</td>\n",
       "      <td>2.0</td>\n",
       "    </tr>\n",
       "    <tr>\n",
       "      <th>3</th>\n",
       "      <td>CH</td>\n",
       "      <td>28.0</td>\n",
       "      <td>6</td>\n",
       "      <td>4.0</td>\n",
       "      <td>6.0</td>\n",
       "      <td>6.0</td>\n",
       "      <td>7.0</td>\n",
       "      <td>10.0</td>\n",
       "      <td>6.0</td>\n",
       "      <td>2.0</td>\n",
       "      <td>2.0</td>\n",
       "      <td>64.0</td>\n",
       "      <td>1.0</td>\n",
       "    </tr>\n",
       "    <tr>\n",
       "      <th>4</th>\n",
       "      <td>CH</td>\n",
       "      <td>29.0</td>\n",
       "      <td>6</td>\n",
       "      <td>5.0</td>\n",
       "      <td>6.0</td>\n",
       "      <td>7.0</td>\n",
       "      <td>5.0</td>\n",
       "      <td>8.0</td>\n",
       "      <td>7.0</td>\n",
       "      <td>2.0</td>\n",
       "      <td>2.0</td>\n",
       "      <td>55.0</td>\n",
       "      <td>1.0</td>\n",
       "    </tr>\n",
       "  </tbody>\n",
       "</table>\n",
       "</div>"
      ],
      "text/plain": [
       "  cntry  idno  year  tvtot  ppltrst  pplfair  pplhlp  happy  sclmeet  sclact  \\\n",
       "0    CH   5.0     6    3.0      3.0     10.0     5.0    8.0      5.0     4.0   \n",
       "1    CH  25.0     6    6.0      5.0      7.0     5.0    9.0      3.0     2.0   \n",
       "2    CH  26.0     6    1.0      8.0      8.0     8.0    7.0      6.0     3.0   \n",
       "3    CH  28.0     6    4.0      6.0      6.0     7.0   10.0      6.0     2.0   \n",
       "4    CH  29.0     6    5.0      6.0      7.0     5.0    8.0      7.0     2.0   \n",
       "\n",
       "   gndr  agea  partner  \n",
       "0   2.0  60.0      1.0  \n",
       "1   2.0  59.0      1.0  \n",
       "2   1.0  24.0      2.0  \n",
       "3   2.0  64.0      1.0  \n",
       "4   2.0  55.0      1.0  "
      ]
     },
     "execution_count": 66,
     "metadata": {},
     "output_type": "execute_result"
    }
   ],
   "source": [
    "data = pd.read_csv(\"https://raw.githubusercontent.com/Thinkful-Ed/data-201-resources/master/ESS_practice_data/ESSdata_Thinkful.csv\")\n",
    "data.head(5)"
   ]
  },
  {
   "cell_type": "code",
   "execution_count": 67,
   "metadata": {},
   "outputs": [
    {
     "data": {
      "text/plain": [
       "array(['CH', 'CZ', 'DE', 'ES', 'NO', 'SE'], dtype=object)"
      ]
     },
     "execution_count": 67,
     "metadata": {},
     "output_type": "execute_result"
    }
   ],
   "source": [
    "data[\"cntry\"].unique()"
   ]
  },
  {
   "cell_type": "code",
   "execution_count": 68,
   "metadata": {},
   "outputs": [
    {
     "data": {
      "text/plain": [
       "array([6, 7])"
      ]
     },
     "execution_count": 68,
     "metadata": {},
     "output_type": "execute_result"
    }
   ],
   "source": [
    "data[\"year\"].unique()"
   ]
  },
  {
   "cell_type": "code",
   "execution_count": 69,
   "metadata": {},
   "outputs": [
    {
     "data": {
      "text/plain": [
       "array([0, 1, 2, 3, 4, 5])"
      ]
     },
     "execution_count": 69,
     "metadata": {},
     "output_type": "execute_result"
    }
   ],
   "source": [
    "data[\"cntry\"] = pd.factorize(data[\"cntry\"])[0]\n",
    "data[\"cntry\"].unique()"
   ]
  },
  {
   "cell_type": "code",
   "execution_count": 70,
   "metadata": {},
   "outputs": [
    {
     "data": {
      "text/plain": [
       "(8594, 13)"
      ]
     },
     "execution_count": 70,
     "metadata": {},
     "output_type": "execute_result"
    }
   ],
   "source": [
    "data.shape"
   ]
  },
  {
   "cell_type": "code",
   "execution_count": 71,
   "metadata": {},
   "outputs": [
    {
     "data": {
      "text/plain": [
       "cntry        0\n",
       "idno         0\n",
       "year         0\n",
       "tvtot        8\n",
       "ppltrst     14\n",
       "pplfair     39\n",
       "pplhlp      25\n",
       "happy       31\n",
       "sclmeet     15\n",
       "sclact      94\n",
       "gndr        10\n",
       "agea       239\n",
       "partner     17\n",
       "dtype: int64"
      ]
     },
     "execution_count": 71,
     "metadata": {},
     "output_type": "execute_result"
    }
   ],
   "source": [
    "data.isnull().sum()"
   ]
  },
  {
   "cell_type": "code",
   "execution_count": 72,
   "metadata": {},
   "outputs": [
    {
     "data": {
      "text/plain": [
       "cntry      0\n",
       "idno       0\n",
       "year       0\n",
       "tvtot      0\n",
       "ppltrst    0\n",
       "pplfair    0\n",
       "pplhlp     0\n",
       "happy      0\n",
       "sclmeet    0\n",
       "sclact     0\n",
       "gndr       0\n",
       "agea       0\n",
       "partner    0\n",
       "dtype: int64"
      ]
     },
     "execution_count": 72,
     "metadata": {},
     "output_type": "execute_result"
    }
   ],
   "source": [
    "for col in data.columns:\n",
    "    data[col] = data[col].fillna(data[col].mean())\n",
    "\n",
    "data.isnull().sum()"
   ]
  },
  {
   "cell_type": "code",
   "execution_count": 73,
   "metadata": {},
   "outputs": [
    {
     "data": {
      "text/plain": [
       "cntry        int64\n",
       "idno       float64\n",
       "year         int64\n",
       "tvtot      float64\n",
       "ppltrst    float64\n",
       "pplfair    float64\n",
       "pplhlp     float64\n",
       "happy      float64\n",
       "sclmeet    float64\n",
       "sclact     float64\n",
       "gndr       float64\n",
       "agea       float64\n",
       "partner    float64\n",
       "dtype: object"
      ]
     },
     "execution_count": 73,
     "metadata": {},
     "output_type": "execute_result"
    }
   ],
   "source": [
    "data.dtypes"
   ]
  },
  {
   "cell_type": "markdown",
   "metadata": {},
   "source": [
    "### Did people become less trusting from 2012 to 2014? Compute results for each country in the sample."
   ]
  },
  {
   "cell_type": "code",
   "execution_count": 98,
   "metadata": {},
   "outputs": [],
   "source": [
    "CH_2012 = data[(data[\"cntry\"] == 0) & (data[\"year\"] == 6)]\n",
    "CZ_2012 = data[(data[\"cntry\"] == 1) & (data[\"year\"] == 6)]\n",
    "DE_2012 = data[(data[\"cntry\"] == 2) & (data[\"year\"] == 6)]\n",
    "ES_2012 = data[(data[\"cntry\"] == 3) & (data[\"year\"] == 6)]\n",
    "NO_2012 = data[(data[\"cntry\"] == 4) & (data[\"year\"] == 6)]\n",
    "SE_2012 = data[(data[\"cntry\"] == 5) & (data[\"year\"] == 6)]"
   ]
  },
  {
   "cell_type": "code",
   "execution_count": 100,
   "metadata": {},
   "outputs": [],
   "source": [
    "CH_2014 = data[(data[\"cntry\"] == 0) & (data[\"year\"] == 7)]\n",
    "CZ_2014 = data[(data[\"cntry\"] == 1) & (data[\"year\"] == 7)]\n",
    "DE_2014 = data[(data[\"cntry\"] == 2) & (data[\"year\"] == 7)]\n",
    "ES_2014 = data[(data[\"cntry\"] == 3) & (data[\"year\"] == 7)]\n",
    "NO_2014 = data[(data[\"cntry\"] == 4) & (data[\"year\"] == 7)]\n",
    "SE_2014 = data[(data[\"cntry\"] == 5) & (data[\"year\"] == 7)]"
   ]
  },
  {
   "cell_type": "code",
   "execution_count": 101,
   "metadata": {},
   "outputs": [],
   "source": [
    "df_list_2012 = [CH_2012,CZ_2012,DE_2012,ES_2012,NO_2012,SE_2012]\n",
    "df_list_2014 = [CH_2014,CZ_2014,DE_2014,ES_2014,NO_2014,SE_2014]"
   ]
  },
  {
   "cell_type": "code",
   "execution_count": 123,
   "metadata": {},
   "outputs": [],
   "source": [
    "def vis_hist(df_list):\n",
    "    plt.rcParams[\"figure.figsize\"] = (23,13)\n",
    "    fig,ax = plt.subplots(nrows=2,ncols=3)\n",
    "    i = 0\n",
    "    j = 0\n",
    "    cntry_list = [\"CH\",\"CZ\",\"DE\",\"ES\",\"NO\",\"SE\"]\n",
    "    for df,cntry in zip(df_list,cntry_list):\n",
    "        ax[i,j].hist(df[\"ppltrst\"],bins=10)\n",
    "        \n",
    "        if 6 in df[\"year\"].values:\n",
    "            ax[i,j].set_title(cntry + \" People's Trust 2012 Distribution\")\n",
    "        if 7 in df[\"year\"].values:\n",
    "            ax[i,j].set_title(cntry + \" People's Trust 2014 Distribution\")\n",
    "        \n",
    "        if j == 2:\n",
    "            i += 1\n",
    "            j = 0\n",
    "        else:\n",
    "            j += 1\n",
    "    fig.tight_layout()\n",
    "    plt.show()"
   ]
  },
  {
   "cell_type": "code",
   "execution_count": 124,
   "metadata": {},
   "outputs": [
    {
     "data": {
      "image/png": "[encoded data removed]",
      "text/plain": [
       "<Figure size 1656x936 with 6 Axes>"
      ]
     },
     "metadata": {},
     "output_type": "display_data"
    }
   ],
   "source": [
    "vis_hist(df_list_2012)"
   ]
  },
  {
   "cell_type": "code",
   "execution_count": 126,
   "metadata": {},
   "outputs": [
    {
     "data": {
      "image/png": "[encoded data removed]",
      "text/plain": [
       "<Figure size 1656x936 with 6 Axes>"
      ]
     },
     "metadata": {},
     "output_type": "display_data"
    }
   ],
   "source": [
    "vis_hist(df_list_2014)"
   ]
  },
  {
   "cell_type": "markdown",
   "metadata": {},
   "source": [
    "2012 - 2014\n",
    "\n",
    "CH: 773 rows,\n",
    "CZ: 658 rows,\n",
    "DE: 14 rows,\n",
    "ES: 1213 rows,\n",
    "NO: 731 rows,\n",
    "SE: 908 rows,"
   ]
  },
  {
   "cell_type": "code",
   "execution_count": 139,
   "metadata": {},
   "outputs": [
    {
     "name": "stdout",
     "output_type": "stream",
     "text": [
      "CH:  KruskalResult(statistic=0.3016359964448019, pvalue=0.5828586111442048)\n",
      "CZ:  KruskalResult(statistic=0.5340306520300221, pvalue=0.4649172016371461)\n",
      "DE:  KruskalResult(statistic=0.03493591039585809, pvalue=0.8517300191250199)\n",
      "ES:  KruskalResult(statistic=8.149961651374431, pvalue=0.004306207168095373)\n",
      "NO:  KruskalResult(statistic=0.24569560721491657, pvalue=0.620122374635789)\n",
      "SE:  KruskalResult(statistic=4.335895080514051, pvalue=0.037316790239688535)\n"
     ]
    }
   ],
   "source": [
    "# non-parametric test (A: 2012 ppltrst (control), B: 2014 ppltrst (experimental))\n",
    "import scipy.stats as stats\n",
    "\n",
    "cntry_list = [\"CH\",\"CZ\",\"DE\",\"ES\",\"NO\",\"SE\"]\n",
    "\n",
    "for cntry,df_2012,df_2014 in zip (cntry_list,df_list_2012,df_list_2014):\n",
    "    print(cntry + \": \",stats.kruskal(df_2012[\"ppltrst\"],df_2014[\"ppltrst\"]))"
   ]
  },
  {
   "cell_type": "code",
   "execution_count": 140,
   "metadata": {},
   "outputs": [
    {
     "name": "stdout",
     "output_type": "stream",
     "text": [
      "CH:  Ttest_indResult(statistic=-0.6782716584661505, pvalue=0.49770110247151234)\n",
      "CZ:  Ttest_indResult(statistic=-0.39418543261711414, pvalue=0.6935081020969057)\n",
      "DE:  Ttest_indResult(statistic=-0.18084358577434545, pvalue=0.8578926631223287)\n",
      "ES:  Ttest_indResult(statistic=2.4837720623641446, pvalue=0.013067001200379165)\n",
      "NO:  Ttest_indResult(statistic=0.5436344941028719, pvalue=0.5867760147589384)\n",
      "SE:  Ttest_indResult(statistic=-2.1029309554508333, pvalue=0.03560925311628811)\n"
     ]
    }
   ],
   "source": [
    "# close to normal distributions, lets try parametric test \n",
    "for cntry,df_2012,df_2014 in zip (cntry_list,df_list_2012,df_list_2014):\n",
    "    print(cntry + \": \",stats.ttest_ind(df_2012[\"ppltrst\"],df_2014[\"ppltrst\"]))"
   ]
  },
  {
   "cell_type": "markdown",
   "metadata": {},
   "source": [
    "It appears that for both parametric and non-parametric tests, any difference between people's trust between 2012 and 2014 in each country, besides ES & SE, will not be significant. We initially chose non-parametric because the distributions appeared to be non-normally distributed. On the other hand, we could interpret most of the histograms to being \"close\" to normal distributions and therefore justify the use of parametric tests to try and get more information about the difference between people's trust between 2012 and 2014. \n",
    "\n",
    "In most of the countries, it appears that people's trust did not significantly change between 2012 and 2014 because the t-statistic seemed to be consistently close to 0 in every case. The two countries that had the most significant change were ES and SE.\n",
    "\n",
    "Furthermore, due to the method in which we wplit the data, we decided to do an A/B test and not an A/B/C...test. This shouldn't cause any significant change in our test outcomes, but it should be stated that we did an A/B test when we could've also done an A/B/C... test."
   ]
  },
  {
   "cell_type": "code",
   "execution_count": null,
   "metadata": {},
   "outputs": [],
   "source": [
    "# calculate difference in ppltrst between 2012-2014 for ES and SE (did people become less trusting?)\n"
   ]
  }
 ],
 "metadata": {
  "kernelspec": {
   "display_name": "Python 3",
   "language": "python",
   "name": "python3"
  },
  "language_info": {
   "codemirror_mode": {
    "name": "ipython",
    "version": 3
   },
   "file_extension": ".py",
   "mimetype": "text/x-python",
   "name": "python",
   "nbconvert_exporter": "python",
   "pygments_lexer": "ipython3",
   "version": "3.6.5"
  }
 },
 "nbformat": 4,
 "nbformat_minor": 2
}
