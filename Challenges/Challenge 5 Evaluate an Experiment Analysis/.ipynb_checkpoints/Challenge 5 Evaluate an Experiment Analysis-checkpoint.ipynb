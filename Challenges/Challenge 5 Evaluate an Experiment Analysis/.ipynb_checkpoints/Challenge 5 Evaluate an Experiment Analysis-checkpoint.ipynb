{
 "cells": [
  {
   "cell_type": "markdown",
   "metadata": {},
   "source": [
    "### Read the following descriptions of an experiment and its analysis, identify the flaws in each, and describe what you would do to correct them."
   ]
  },
  {
   "cell_type": "markdown",
   "metadata": {},
   "source": [
    "#### 1) The Sith Lords are concerned that their recruiting slogan, \"Give In to Your Anger,\" isn't very effective. Darth Vader develops an alternative slogan, \"Together We Can Rule the Galaxy.\" They compare the slogans on two groups of 50 captured droids each. In one group, Emperor Palpatine delivers the \"Anger\" slogan. In the other, Darth Vader presents the \"Together\" slogan. 20 droids convert to the Dark Side after hearing Palpatine's slogan, while only 5 droids convert after hearing Vader's. The Sith's data scientist concludes that \"Anger\" is a more effective slogan and should continue to be used."
   ]
  },
  {
   "cell_type": "markdown",
   "metadata": {},
   "source": [
    "I would first change how the experiment is implemented. In this case, either Emperor Palpatine or Darth Vader should give both slogans to both groups. We could potentially do an experiment where both Darth Vader and Emperor Palpatine give both slogans to both groups. In either instance, both A/B groups should hear the slogan from one source to prevent potential bias from how the speech is delivered.\n",
    "\n",
    "The sample size is small. Using only 100 captured droids may not be an accurate representation of all droids in the galactic empire which spans multiple star systems. Using a small sample size in this case could potentially carry significant error such as defective droids (droids damaged while being captured). \n",
    "\n",
    "The sample contains potential bias. If the study was just about the slogan's effectiveness at recruiting droids, then there would be no bias. However, the study is about the general effectiveness of each slogan, and, therefore, there should be a random sampling of all potential species under the Galactic Empire's control (need to present the slogan to newly conquered systems or at least increase the variety of prisoners instead of using only captured droids).\n",
    "\n",
    "Furthermore, I would add some additional secondary outcomes of interest such as each dark lord's presence (their appearance and demeanor could also change the effectiveness of the slogan) or their mastery of the Force. "
   ]
  },
  {
   "cell_type": "markdown",
   "metadata": {},
   "source": [
    "#### 2) In the past, the Jedi have had difficulty with public relations. They send two envoys, Jar Jar Binks and Mace Windu, to four friendly and four unfriendly planets respectively, with the goal of promoting favorable feelings toward the Jedi. Upon their return, the envoys learn that Jar Jar was much more effective than Windu: Over 75% of the people surveyed said their attitudes had become more favorable after speaking with Jar Jar, while only 65% said their attitudes had become more favorable after speaking with Windu. This makes Windu angry, because he is sure that he had a better success rate than Jar Jar on every planet. The Jedi choose Jar Jar to be their representative in the future."
   ]
  },
  {
   "cell_type": "markdown",
   "metadata": {},
   "source": [
    "This could be an example of Simpson's Paradox. Windu's or Jar Jar's planets could have multiple groups with different demographics or different population sizes that can produce illogical results. \n",
    "\n",
    "There could also be a problem with contextual bias. Jar Jar is not a Jedi and therefore has an advantage when appealing to populations who are not force sensitive. Mace Windu is a Jedi and therefore may have more difficulty persuading non-force sensitive populations or planets unfriendly towards the Jedi (if we assume he cannot use his jedi-mind tricks to trick people into being more favorable to Jedi). The study needs to have either two non-Jedi envoys or two Jedi envoys to get a more accurate result (not one Jedi and one non-Jedi).\n",
    "\n",
    "Other secondary outcomes of interest would be personality reports on both envoys, measured by feedback on speech or social interactions between envoy and planet representatives. An envoy like Jar Jar could be viewed as more favorable due to pleasant demeanor, sense of humor, and political experience with Galactic Senate. On the other hand, an envoy like Mace Windu could be viewed as less favorable, due to the strict, rigid, disciplined attitude that is the culmination of Jedi practices and customs. "
   ]
  },
  {
   "cell_type": "markdown",
   "metadata": {},
   "source": [
    "#### 3) A company with work sites in five different countries has sent you data on employee satisfaction rates for workers in Human Resources and workers in Information Technology. Most HR workers are concentrated in three of the countries, while IT workers are equally distributed across worksites. The company requests a report on satisfaction for each job type. You calculate average job satisfaction for HR and for IT and present the report."
   ]
  },
  {
   "cell_type": "markdown",
   "metadata": {},
   "source": [
    "Could be contextual bias present in the study. The 3 countries where HR workers are concentrated could be more favorable or less favorable for workers compared to other countries. Would probably need to conduct a study that focuses on average job satisfaction per country per job type to limit the bias."
   ]
  },
  {
   "cell_type": "markdown",
   "metadata": {},
   "source": [
    "#### 4) When people install the Happy Days Fitness Tracker app, they are asked to \"opt in\" to a data collection scheme where their level of physical activity data is automatically sent to the company for product research purposes. During your interview with the company, they tell you that the app is very effective because after installing the app, the data show that people's activity levels rise steadily."
   ]
  },
  {
   "cell_type": "markdown",
   "metadata": {},
   "source": [
    "This could be an example of selection bias. People who \"opt in\" to data collection scheme are more likely to be people who are either already active or looking to improve their current activity level. Therefore, the app may not have any affect on activity levels of users. The experiment would probably need tomake the data collection scheme non-negotiable (i.e. in order to download you need to opt into the data scheme) to collect a random sample of users. Or the experiment could concentrate on a different aspect of the app (i.e. user experience, user ratings, app functionality during workout sessions, etc.) to determine effectiveness. "
   ]
  },
  {
   "cell_type": "markdown",
   "metadata": {},
   "source": [
    "#### 5) To prevent cheating, a teacher writes three versions of a test. She stacks the three versions together, first all copies of Version A, then all copies of Version B, then all copies of Version C. As students arrive for the exam, each student takes a test. When grading the test, the teacher finds that students who took Version B scored higher than students who took either Version A or Version C. She concludes from this that Version B is easier, and discards it."
   ]
  },
  {
   "cell_type": "markdown",
   "metadata": {},
   "source": [
    "This is another example of sampling bias because the tests are not stacked in random order and therefore are not randomly distributed when students take tests from the top of the stack. Students taking version B could have been in the high achieving class or the questions on that particular test could have been easier for that particular group of students. In order to prevent this bias, the tests should be distributed randomly with similar/equal distributions of each test (i.e. stack tests in groups of 3, ABCABCABC, making sure there is an equal number of A/B/C tests per class). "
   ]
  }
 ],
 "metadata": {
  "kernelspec": {
   "display_name": "Python 3",
   "language": "python",
   "name": "python3"
  },
  "language_info": {
   "codemirror_mode": {
    "name": "ipython",
    "version": 3
   },
   "file_extension": ".py",
   "mimetype": "text/x-python",
   "name": "python",
   "nbconvert_exporter": "python",
   "pygments_lexer": "ipython3",
   "version": "3.6.3"
  }
 },
 "nbformat": 4,
 "nbformat_minor": 2
}
