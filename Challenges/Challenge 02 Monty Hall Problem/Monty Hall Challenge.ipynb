{
 "cells": [
  {
   "cell_type": "markdown",
   "metadata": {},
   "source": [
    "# Thinkful Challenge # 2: \"Monty Hall Problem\""
   ]
  },
  {
   "cell_type": "markdown",
   "metadata": {},
   "source": [
    "You are on a game show and given the choice of whatever is behind three doors. Behind one door is a fantastic prize (some examples use a car, others use cash) while behind the other two doors is a dud (some examples say a goat, others say it's just empty). You pick a door. Then the host opens one of the other two doors to reveal a dud. But here's the wrinkle: the host now gives you the opportunity to switch your door. What should you do?"
   ]
  },
  {
   "cell_type": "markdown",
   "metadata": {},
   "source": [
    "#### You pick a door:\n",
    "\n",
    "1/3 chance of picking the prize \n",
    "\n",
    "#### Host reveals 1 door w/ dud:\n",
    "\n",
    "P(switch door) = 1 - P(not switching) = 1 - 1/3 = 2/3 \n",
    "\n",
    "P(not switching) = 1/3 \n",
    "\n",
    "You should take the opportunity to switch door because you have a 2/3 chance of picking the prize. Otherwise, you will stay with the intial 1/3 chance of picking the prize and therefore have a lower chance of winning in the long run. "
   ]
  }
 ],
 "metadata": {
  "kernelspec": {
   "display_name": "Python 3",
   "language": "python",
   "name": "python3"
  },
  "language_info": {
   "codemirror_mode": {
    "name": "ipython",
    "version": 3
   },
   "file_extension": ".py",
   "mimetype": "text/x-python",
   "name": "python",
   "nbconvert_exporter": "python",
   "pygments_lexer": "ipython3",
   "version": "3.6.3"
  }
 },
 "nbformat": 4,
 "nbformat_minor": 2
}
