{
 "cells": [
  {
   "cell_type": "markdown",
   "metadata": {},
   "source": [
    "Your goal is to achieve a regression model with a consistent R2 and only statistically significant parameters across multiple samples."
   ]
  },
  {
   "cell_type": "code",
   "execution_count": 2,
   "metadata": {},
   "outputs": [],
   "source": [
    "import numpy as np\n",
    "import pandas as pd\n",
    "import matplotlib.pyplot as plt\n",
    "import seaborn as sns\n",
    "import scipy\n",
    "from sklearn import linear_model\n",
    "from sklearn.feature_selection import f_regression\n",
    "import statsmodels.formula.api as smf\n",
    "import ny_crime2013 as ny"
   ]
  },
  {
   "cell_type": "markdown",
   "metadata": {},
   "source": []
  },
  {
   "cell_type": "markdown",
   "metadata": {},
   "source": [
    "## New York Crime Data"
   ]
  },
  {
   "cell_type": "code",
   "execution_count": 2,
   "metadata": {},
   "outputs": [
    {
     "name": "stdout",
     "output_type": "stream",
     "text": [
      "Coefficients:\n",
      " [2.39839687e-01 5.48217901e-06 1.03217668e-01 1.25644391e-01]\n",
      "\n",
      "Intercept:\n",
      " -0.9079588526233651\n",
      "\n",
      "R-squared: \n",
      "0.8150006601593579\n"
     ]
    }
   ],
   "source": [
    "Y = ny.crime_model[\"Property Crime\"]\n",
    "X = ny.crime_model[[\"Population\",\"Murder\",\"Robbery\",\"Population^2\"]]\n",
    "ny.crime_regr.fit(X,Y)\n",
    "\n",
    "print(\"Coefficients:\\n\",ny.crime_regr.coef_)\n",
    "print(\"\\nIntercept:\\n\",ny.crime_regr.intercept_)\n",
    "print(\"\\nR-squared: \")\n",
    "print(ny.crime_regr.score(X,Y))"
   ]
  },
  {
   "cell_type": "code",
   "execution_count": 3,
   "metadata": {},
   "outputs": [
    {
     "name": "stdout",
     "output_type": "stream",
     "text": [
      "F-values [1013.0186961   109.69065863  648.05620139 1034.83628683]\n",
      "p-values [1.10531723e-104 1.80059421e-022 3.31544037e-081 7.05207608e-106]\n"
     ]
    }
   ],
   "source": [
    "# test entire model for R2 significance\n",
    "f_val,p_val = f_regression(X,Y)\n",
    "print(\"F-values {}\".format(f_val))\n",
    "print(\"p-values {}\".format(p_val))"
   ]
  },
  {
   "cell_type": "markdown",
   "metadata": {},
   "source": [
    "Appears that the entire model can predict an outcome, R2 value is significant. "
   ]
  },
  {
   "cell_type": "code",
   "execution_count": 4,
   "metadata": {},
   "outputs": [],
   "source": [
    "# test individual features for performance\n",
    "ny.crime_model = ny.crime_model.rename(columns={'Property Crime':'PropertyCrime','Population^2':'Population2'})\n",
    "linear_formula = \"PropertyCrime~Population+Murder+Robbery+Population2\"\n",
    "lm = smf.ols(formula=linear_formula,data=ny.crime_model).fit()"
   ]
  },
  {
   "cell_type": "code",
   "execution_count": 5,
   "metadata": {},
   "outputs": [
    {
     "data": {
      "text/plain": [
       "Intercept     -0.907959\n",
       "Population     0.239840\n",
       "Murder         0.000005\n",
       "Robbery        0.103218\n",
       "Population2    0.125644\n",
       "dtype: float64"
      ]
     },
     "execution_count": 5,
     "metadata": {},
     "output_type": "execute_result"
    }
   ],
   "source": [
    "lm.params"
   ]
  },
  {
   "cell_type": "code",
   "execution_count": 6,
   "metadata": {},
   "outputs": [
    {
     "data": {
      "text/plain": [
       "Intercept      5.385646e-17\n",
       "Population     1.729098e-01\n",
       "Murder         1.075840e-01\n",
       "Robbery        3.479628e-21\n",
       "Population2    4.028069e-02\n",
       "dtype: float64"
      ]
     },
     "execution_count": 6,
     "metadata": {},
     "output_type": "execute_result"
    }
   ],
   "source": [
    "lm.pvalues"
   ]
  },
  {
   "cell_type": "code",
   "execution_count": 7,
   "metadata": {},
   "outputs": [
    {
     "data": {
      "text/html": [
       "<div>\n",
       "<style scoped>\n",
       "    .dataframe tbody tr th:only-of-type {\n",
       "        vertical-align: middle;\n",
       "    }\n",
       "\n",
       "    .dataframe tbody tr th {\n",
       "        vertical-align: top;\n",
       "    }\n",
       "\n",
       "    .dataframe thead th {\n",
       "        text-align: right;\n",
       "    }\n",
       "</style>\n",
       "<table border=\"1\" class=\"dataframe\">\n",
       "  <thead>\n",
       "    <tr style=\"text-align: right;\">\n",
       "      <th></th>\n",
       "      <th>0</th>\n",
       "      <th>1</th>\n",
       "    </tr>\n",
       "  </thead>\n",
       "  <tbody>\n",
       "    <tr>\n",
       "      <th>Intercept</th>\n",
       "      <td>-1.110124</td>\n",
       "      <td>-0.705793</td>\n",
       "    </tr>\n",
       "    <tr>\n",
       "      <th>Population</th>\n",
       "      <td>-0.105568</td>\n",
       "      <td>0.585248</td>\n",
       "    </tr>\n",
       "    <tr>\n",
       "      <th>Murder</th>\n",
       "      <td>-0.000001</td>\n",
       "      <td>0.000012</td>\n",
       "    </tr>\n",
       "    <tr>\n",
       "      <th>Robbery</th>\n",
       "      <td>0.083130</td>\n",
       "      <td>0.123306</td>\n",
       "    </tr>\n",
       "    <tr>\n",
       "      <th>Population2</th>\n",
       "      <td>0.005601</td>\n",
       "      <td>0.245688</td>\n",
       "    </tr>\n",
       "  </tbody>\n",
       "</table>\n",
       "</div>"
      ],
      "text/plain": [
       "                    0         1\n",
       "Intercept   -1.110124 -0.705793\n",
       "Population  -0.105568  0.585248\n",
       "Murder      -0.000001  0.000012\n",
       "Robbery      0.083130  0.123306\n",
       "Population2  0.005601  0.245688"
      ]
     },
     "execution_count": 7,
     "metadata": {},
     "output_type": "execute_result"
    }
   ],
   "source": [
    "lm.conf_int()"
   ]
  },
  {
   "cell_type": "code",
   "execution_count": 8,
   "metadata": {},
   "outputs": [
    {
     "data": {
      "text/plain": [
       "0.8150006601593579"
      ]
     },
     "execution_count": 8,
     "metadata": {},
     "output_type": "execute_result"
    }
   ],
   "source": [
    "lm.rsquared"
   ]
  },
  {
   "cell_type": "markdown",
   "metadata": {},
   "source": [
    "## California Crime Data (Validating New York Regression Model)"
   ]
  },
  {
   "cell_type": "code",
   "execution_count": 9,
   "metadata": {},
   "outputs": [
    {
     "data": {
      "text/html": [
       "<div>\n",
       "<style scoped>\n",
       "    .dataframe tbody tr th:only-of-type {\n",
       "        vertical-align: middle;\n",
       "    }\n",
       "\n",
       "    .dataframe tbody tr th {\n",
       "        vertical-align: top;\n",
       "    }\n",
       "\n",
       "    .dataframe thead th {\n",
       "        text-align: right;\n",
       "    }\n",
       "</style>\n",
       "<table border=\"1\" class=\"dataframe\">\n",
       "  <thead>\n",
       "    <tr style=\"text-align: right;\">\n",
       "      <th></th>\n",
       "      <th>City</th>\n",
       "      <th>Population</th>\n",
       "      <th>Violent\n",
       "crime</th>\n",
       "      <th>Murder and\n",
       "nonnegligent\n",
       "manslaughter</th>\n",
       "      <th>Rape\n",
       "(revised\n",
       "definition)1</th>\n",
       "      <th>Rape\n",
       "(legacy\n",
       "definition)2</th>\n",
       "      <th>Robbery</th>\n",
       "      <th>Aggravated\n",
       "assault</th>\n",
       "      <th>Property\n",
       "crime</th>\n",
       "      <th>Burglary</th>\n",
       "      <th>Larceny-\n",
       "theft</th>\n",
       "      <th>Motor\n",
       "vehicle\n",
       "theft</th>\n",
       "      <th>Arson</th>\n",
       "    </tr>\n",
       "  </thead>\n",
       "  <tbody>\n",
       "    <tr>\n",
       "      <th>0</th>\n",
       "      <td>Adelanto</td>\n",
       "      <td>31165.0</td>\n",
       "      <td>198.0</td>\n",
       "      <td>2.0</td>\n",
       "      <td>NaN</td>\n",
       "      <td>15.0</td>\n",
       "      <td>52.0</td>\n",
       "      <td>129.0</td>\n",
       "      <td>886.0</td>\n",
       "      <td>381.0</td>\n",
       "      <td>372.0</td>\n",
       "      <td>133.0</td>\n",
       "      <td>17.0</td>\n",
       "    </tr>\n",
       "    <tr>\n",
       "      <th>1</th>\n",
       "      <td>Agoura Hills</td>\n",
       "      <td>20762.0</td>\n",
       "      <td>19.0</td>\n",
       "      <td>0.0</td>\n",
       "      <td>NaN</td>\n",
       "      <td>2.0</td>\n",
       "      <td>10.0</td>\n",
       "      <td>7.0</td>\n",
       "      <td>306.0</td>\n",
       "      <td>109.0</td>\n",
       "      <td>185.0</td>\n",
       "      <td>12.0</td>\n",
       "      <td>7.0</td>\n",
       "    </tr>\n",
       "    <tr>\n",
       "      <th>2</th>\n",
       "      <td>Alameda</td>\n",
       "      <td>76206.0</td>\n",
       "      <td>158.0</td>\n",
       "      <td>0.0</td>\n",
       "      <td>NaN</td>\n",
       "      <td>10.0</td>\n",
       "      <td>85.0</td>\n",
       "      <td>63.0</td>\n",
       "      <td>1902.0</td>\n",
       "      <td>287.0</td>\n",
       "      <td>1285.0</td>\n",
       "      <td>330.0</td>\n",
       "      <td>17.0</td>\n",
       "    </tr>\n",
       "    <tr>\n",
       "      <th>3</th>\n",
       "      <td>Albany</td>\n",
       "      <td>19104.0</td>\n",
       "      <td>29.0</td>\n",
       "      <td>0.0</td>\n",
       "      <td>NaN</td>\n",
       "      <td>1.0</td>\n",
       "      <td>24.0</td>\n",
       "      <td>4.0</td>\n",
       "      <td>557.0</td>\n",
       "      <td>94.0</td>\n",
       "      <td>388.0</td>\n",
       "      <td>75.0</td>\n",
       "      <td>7.0</td>\n",
       "    </tr>\n",
       "    <tr>\n",
       "      <th>4</th>\n",
       "      <td>Alhambra</td>\n",
       "      <td>84710.0</td>\n",
       "      <td>163.0</td>\n",
       "      <td>1.0</td>\n",
       "      <td>NaN</td>\n",
       "      <td>9.0</td>\n",
       "      <td>81.0</td>\n",
       "      <td>72.0</td>\n",
       "      <td>1774.0</td>\n",
       "      <td>344.0</td>\n",
       "      <td>1196.0</td>\n",
       "      <td>234.0</td>\n",
       "      <td>7.0</td>\n",
       "    </tr>\n",
       "  </tbody>\n",
       "</table>\n",
       "</div>"
      ],
      "text/plain": [
       "           City  Population  Violent\\ncrime  \\\n",
       "0      Adelanto     31165.0           198.0   \n",
       "1  Agoura Hills     20762.0            19.0   \n",
       "2       Alameda     76206.0           158.0   \n",
       "3        Albany     19104.0            29.0   \n",
       "4      Alhambra     84710.0           163.0   \n",
       "\n",
       "   Murder and\\nnonnegligent\\nmanslaughter  Rape\\n(revised\\ndefinition)1  \\\n",
       "0                                     2.0                           NaN   \n",
       "1                                     0.0                           NaN   \n",
       "2                                     0.0                           NaN   \n",
       "3                                     0.0                           NaN   \n",
       "4                                     1.0                           NaN   \n",
       "\n",
       "   Rape\\n(legacy\\ndefinition)2  Robbery  Aggravated\\nassault  Property\\ncrime  \\\n",
       "0                         15.0     52.0                129.0            886.0   \n",
       "1                          2.0     10.0                  7.0            306.0   \n",
       "2                         10.0     85.0                 63.0           1902.0   \n",
       "3                          1.0     24.0                  4.0            557.0   \n",
       "4                          9.0     81.0                 72.0           1774.0   \n",
       "\n",
       "   Burglary  Larceny-\\ntheft  Motor\\nvehicle\\ntheft  Arson  \n",
       "0     381.0            372.0                  133.0   17.0  \n",
       "1     109.0            185.0                   12.0    7.0  \n",
       "2     287.0           1285.0                  330.0   17.0  \n",
       "3      94.0            388.0                   75.0    7.0  \n",
       "4     344.0           1196.0                  234.0    7.0  "
      ]
     },
     "execution_count": 9,
     "metadata": {},
     "output_type": "execute_result"
    }
   ],
   "source": [
    "# test accuracy of model using California crime dataset\n",
    "ca_data = pd.read_excel(\"table_8_offenses_known_to_law_enforcement_california_by_city_2013.xls\",skiprows=4)\n",
    "ca_data.head(5)"
   ]
  },
  {
   "cell_type": "code",
   "execution_count": 10,
   "metadata": {},
   "outputs": [],
   "source": [
    "ca_data[\"Population2\"] = np.square(ca_data[\"Population\"])"
   ]
  },
  {
   "cell_type": "code",
   "execution_count": 11,
   "metadata": {},
   "outputs": [
    {
     "data": {
      "text/plain": [
       "City                                        0\n",
       "Population                                  2\n",
       "Violent\\ncrime                              2\n",
       "Murder and\\nnonnegligent\\nmanslaughter      2\n",
       "Rape\\n(revised\\ndefinition)1              464\n",
       "Rape\\n(legacy\\ndefinition)2                 2\n",
       "Robbery                                     2\n",
       "Aggravated\\nassault                         2\n",
       "Property\\ncrime                             2\n",
       "Burglary                                    2\n",
       "Larceny-\\ntheft                             2\n",
       "Motor\\nvehicle\\ntheft                       2\n",
       "Arson                                       2\n",
       "Population2                                 2\n",
       "dtype: int64"
      ]
     },
     "execution_count": 11,
     "metadata": {},
     "output_type": "execute_result"
    }
   ],
   "source": [
    "ca_data.isnull().sum()"
   ]
  },
  {
   "cell_type": "code",
   "execution_count": 12,
   "metadata": {},
   "outputs": [],
   "source": [
    "ca_data = ca_data.rename(columns={\"Property\\ncrime\":\"Property Crime\",\"Murder and\\nnonnegligent\\nmanslaughter\":\"Murder\"})"
   ]
  },
  {
   "cell_type": "code",
   "execution_count": 13,
   "metadata": {},
   "outputs": [
    {
     "data": {
      "text/html": [
       "<div>\n",
       "<style scoped>\n",
       "    .dataframe tbody tr th:only-of-type {\n",
       "        vertical-align: middle;\n",
       "    }\n",
       "\n",
       "    .dataframe tbody tr th {\n",
       "        vertical-align: top;\n",
       "    }\n",
       "\n",
       "    .dataframe thead th {\n",
       "        text-align: right;\n",
       "    }\n",
       "</style>\n",
       "<table border=\"1\" class=\"dataframe\">\n",
       "  <thead>\n",
       "    <tr style=\"text-align: right;\">\n",
       "      <th></th>\n",
       "      <th>Property Crime</th>\n",
       "      <th>Population</th>\n",
       "      <th>Murder</th>\n",
       "      <th>Robbery</th>\n",
       "      <th>Population2</th>\n",
       "    </tr>\n",
       "  </thead>\n",
       "  <tbody>\n",
       "    <tr>\n",
       "      <th>0</th>\n",
       "      <td>886.0</td>\n",
       "      <td>31165.0</td>\n",
       "      <td>2.0</td>\n",
       "      <td>52.0</td>\n",
       "      <td>9.712572e+08</td>\n",
       "    </tr>\n",
       "    <tr>\n",
       "      <th>1</th>\n",
       "      <td>306.0</td>\n",
       "      <td>20762.0</td>\n",
       "      <td>0.0</td>\n",
       "      <td>10.0</td>\n",
       "      <td>4.310606e+08</td>\n",
       "    </tr>\n",
       "    <tr>\n",
       "      <th>2</th>\n",
       "      <td>1902.0</td>\n",
       "      <td>76206.0</td>\n",
       "      <td>0.0</td>\n",
       "      <td>85.0</td>\n",
       "      <td>5.807354e+09</td>\n",
       "    </tr>\n",
       "    <tr>\n",
       "      <th>3</th>\n",
       "      <td>557.0</td>\n",
       "      <td>19104.0</td>\n",
       "      <td>0.0</td>\n",
       "      <td>24.0</td>\n",
       "      <td>3.649628e+08</td>\n",
       "    </tr>\n",
       "    <tr>\n",
       "      <th>4</th>\n",
       "      <td>1774.0</td>\n",
       "      <td>84710.0</td>\n",
       "      <td>1.0</td>\n",
       "      <td>81.0</td>\n",
       "      <td>7.175784e+09</td>\n",
       "    </tr>\n",
       "  </tbody>\n",
       "</table>\n",
       "</div>"
      ],
      "text/plain": [
       "   Property Crime  Population  Murder  Robbery   Population2\n",
       "0           886.0     31165.0     2.0     52.0  9.712572e+08\n",
       "1           306.0     20762.0     0.0     10.0  4.310606e+08\n",
       "2          1902.0     76206.0     0.0     85.0  5.807354e+09\n",
       "3           557.0     19104.0     0.0     24.0  3.649628e+08\n",
       "4          1774.0     84710.0     1.0     81.0  7.175784e+09"
      ]
     },
     "execution_count": 13,
     "metadata": {},
     "output_type": "execute_result"
    }
   ],
   "source": [
    "col_list = [\"Property Crime\",\"Population\",\"Murder\",\"Robbery\",\"Population2\"]\n",
    "ca_crime = pd.DataFrame(columns=col_list)\n",
    "for col in col_list:\n",
    "    ca_crime[col] = ca_data[col]\n",
    "ca_crime.head(5)"
   ]
  },
  {
   "cell_type": "code",
   "execution_count": 14,
   "metadata": {},
   "outputs": [
    {
     "data": {
      "text/plain": [
       "Property Crime    2\n",
       "Population        2\n",
       "Murder            2\n",
       "Robbery           2\n",
       "Population2       2\n",
       "dtype: int64"
      ]
     },
     "execution_count": 14,
     "metadata": {},
     "output_type": "execute_result"
    }
   ],
   "source": [
    "ca_crime.isnull().sum()"
   ]
  },
  {
   "cell_type": "code",
   "execution_count": 15,
   "metadata": {},
   "outputs": [
    {
     "data": {
      "text/plain": [
       "Property Crime    0\n",
       "Population        0\n",
       "Murder            0\n",
       "Robbery           0\n",
       "Population2       0\n",
       "dtype: int64"
      ]
     },
     "execution_count": 15,
     "metadata": {},
     "output_type": "execute_result"
    }
   ],
   "source": [
    "ca_crime = ca_crime.dropna(how=\"all\")\n",
    "ca_crime.isnull().sum()"
   ]
  },
  {
   "cell_type": "markdown",
   "metadata": {},
   "source": [
    "## Validate NY Regression Model using CA data"
   ]
  },
  {
   "cell_type": "code",
   "execution_count": 16,
   "metadata": {},
   "outputs": [
    {
     "name": "stdout",
     "output_type": "stream",
     "text": [
      "Coefficients:\n",
      " [ 2.43162820e-02 -2.55207539e+01  5.44672640e+00 -2.97874436e-09]\n",
      "\n",
      "Intercept:\n",
      " -132.53343034154477\n",
      "\n",
      "R-squared: \n",
      "0.9713660340651297\n"
     ]
    }
   ],
   "source": [
    "Y2 = ca_crime[\"Property Crime\"]\n",
    "X2 = ca_crime[[\"Population\",\"Murder\",\"Robbery\",\"Population2\"]]\n",
    "cacrime_regr = linear_model.LinearRegression()\n",
    "cacrime_regr.fit(X2,Y2)\n",
    "print(\"Coefficients:\\n\",cacrime_regr.coef_)\n",
    "print(\"\\nIntercept:\\n\",cacrime_regr.intercept_)\n",
    "print(\"\\nR-squared: \")\n",
    "print(cacrime_regr.score(X2,Y2))"
   ]
  },
  {
   "cell_type": "markdown",
   "metadata": {},
   "source": [
    "R2 value appears to be extremely high for CA data, may be sign of overfitting. Will attempt to apply cross validation."
   ]
  },
  {
   "cell_type": "code",
   "execution_count": 17,
   "metadata": {},
   "outputs": [
    {
     "name": "stdout",
     "output_type": "stream",
     "text": [
      "With 30% Holdout: 0.8689123792579931\n",
      "Testing on Sample: 0.9713660340651297\n"
     ]
    }
   ],
   "source": [
    "from sklearn.model_selection import train_test_split\n",
    "X_train,X_test,y_train,y_test = train_test_split(X2,Y2,test_size=0.3,random_state=20)\n",
    "print(\"With 30% Holdout: \" + str(cacrime_regr.fit(X_train,y_train).score(X_test,y_test)))\n",
    "print(\"Testing on Sample: \" + str(cacrime_regr.fit(X2,Y2).score(X2,Y2)))"
   ]
  },
  {
   "cell_type": "code",
   "execution_count": 18,
   "metadata": {},
   "outputs": [
    {
     "data": {
      "text/plain": [
       "array([0.90357622, 0.85401115, 0.76939114, 0.85637489, 0.86123624,\n",
       "       0.98387317, 0.15836641, 0.90909367, 0.84438614, 0.86853378])"
      ]
     },
     "execution_count": 18,
     "metadata": {},
     "output_type": "execute_result"
    }
   ],
   "source": [
    "from sklearn.model_selection import cross_val_score\n",
    "cross_val_score(cacrime_regr,X2,Y2,cv=10)"
   ]
  },
  {
   "cell_type": "code",
   "execution_count": 19,
   "metadata": {},
   "outputs": [
    {
     "name": "stdout",
     "output_type": "stream",
     "text": [
      "Cross-Predicted Accuracy:  0.9713660340651297\n"
     ]
    }
   ],
   "source": [
    "from sklearn import metrics\n",
    "Y2_predict = cacrime_regr.predict(X2)\n",
    "accuracy = metrics.r2_score(Y2,Y2_predict)\n",
    "print(\"Cross-Predicted Accuracy: \",accuracy)"
   ]
  },
  {
   "cell_type": "markdown",
   "metadata": {},
   "source": [
    "## F-test for CA regression model and T-test features "
   ]
  },
  {
   "cell_type": "code",
   "execution_count": 20,
   "metadata": {},
   "outputs": [
    {
     "name": "stdout",
     "output_type": "stream",
     "text": [
      "F-values [3602.25899303 2282.03165776 3143.29555902  761.79011449]\n",
      "p-values [1.03288688e-219 1.93930300e-180 9.84401798e-208 1.25147348e-099]\n"
     ]
    }
   ],
   "source": [
    "f_val,p_val = f_regression(X2,Y2)\n",
    "print(\"F-values {}\".format(f_val))\n",
    "print(\"p-values {}\".format(p_val))"
   ]
  },
  {
   "cell_type": "code",
   "execution_count": 22,
   "metadata": {},
   "outputs": [],
   "source": [
    "ca_crime = ca_crime.rename(columns={\"Property Crime\":\"PropertyCrime\"})\n",
    "lm = smf.ols(formula=linear_formula,data=ca_crime).fit()"
   ]
  },
  {
   "cell_type": "code",
   "execution_count": 23,
   "metadata": {},
   "outputs": [
    {
     "data": {
      "text/plain": [
       "Intercept     -1.325341e+02\n",
       "Population     2.431629e-02\n",
       "Murder        -2.552068e+01\n",
       "Robbery        5.446725e+00\n",
       "Population2   -2.978748e-09\n",
       "dtype: float64"
      ]
     },
     "execution_count": 23,
     "metadata": {},
     "output_type": "execute_result"
    }
   ],
   "source": [
    "lm.params"
   ]
  },
  {
   "cell_type": "code",
   "execution_count": 24,
   "metadata": {},
   "outputs": [
    {
     "data": {
      "text/plain": [
       "Intercept       1.157538e-02\n",
       "Population     2.131235e-139\n",
       "Murder          3.652474e-02\n",
       "Robbery         5.890408e-70\n",
       "Population2     2.098127e-57\n",
       "dtype: float64"
      ]
     },
     "execution_count": 24,
     "metadata": {},
     "output_type": "execute_result"
    }
   ],
   "source": [
    "lm.pvalues"
   ]
  },
  {
   "cell_type": "code",
   "execution_count": 25,
   "metadata": {},
   "outputs": [
    {
     "data": {
      "text/html": [
       "<div>\n",
       "<style scoped>\n",
       "    .dataframe tbody tr th:only-of-type {\n",
       "        vertical-align: middle;\n",
       "    }\n",
       "\n",
       "    .dataframe tbody tr th {\n",
       "        vertical-align: top;\n",
       "    }\n",
       "\n",
       "    .dataframe thead th {\n",
       "        text-align: right;\n",
       "    }\n",
       "</style>\n",
       "<table border=\"1\" class=\"dataframe\">\n",
       "  <thead>\n",
       "    <tr style=\"text-align: right;\">\n",
       "      <th></th>\n",
       "      <th>0</th>\n",
       "      <th>1</th>\n",
       "    </tr>\n",
       "  </thead>\n",
       "  <tbody>\n",
       "    <tr>\n",
       "      <th>Intercept</th>\n",
       "      <td>-2.352741e+02</td>\n",
       "      <td>-2.979404e+01</td>\n",
       "    </tr>\n",
       "    <tr>\n",
       "      <th>Population</th>\n",
       "      <td>2.302343e-02</td>\n",
       "      <td>2.560916e-02</td>\n",
       "    </tr>\n",
       "    <tr>\n",
       "      <th>Murder</th>\n",
       "      <td>-4.943467e+01</td>\n",
       "      <td>-1.606684e+00</td>\n",
       "    </tr>\n",
       "    <tr>\n",
       "      <th>Robbery</th>\n",
       "      <td>4.941790e+00</td>\n",
       "      <td>5.951660e+00</td>\n",
       "    </tr>\n",
       "    <tr>\n",
       "      <th>Population2</th>\n",
       "      <td>-3.295313e-09</td>\n",
       "      <td>-2.662184e-09</td>\n",
       "    </tr>\n",
       "  </tbody>\n",
       "</table>\n",
       "</div>"
      ],
      "text/plain": [
       "                        0             1\n",
       "Intercept   -2.352741e+02 -2.979404e+01\n",
       "Population   2.302343e-02  2.560916e-02\n",
       "Murder      -4.943467e+01 -1.606684e+00\n",
       "Robbery      4.941790e+00  5.951660e+00\n",
       "Population2 -3.295313e-09 -2.662184e-09"
      ]
     },
     "execution_count": 25,
     "metadata": {},
     "output_type": "execute_result"
    }
   ],
   "source": [
    "lm.conf_int()"
   ]
  },
  {
   "cell_type": "code",
   "execution_count": 26,
   "metadata": {},
   "outputs": [
    {
     "data": {
      "text/plain": [
       "0.9713660340651649"
      ]
     },
     "execution_count": 26,
     "metadata": {},
     "output_type": "execute_result"
    }
   ],
   "source": [
    "lm.rsquared"
   ]
  },
  {
   "cell_type": "markdown",
   "metadata": {},
   "source": [
    "## The p-value for Population and Murder appear to be greater than significance level (0.05), will try to drop these features to revise model. "
   ]
  },
  {
   "cell_type": "code",
   "execution_count": 21,
   "metadata": {},
   "outputs": [
    {
     "name": "stdout",
     "output_type": "stream",
     "text": [
      "Coefficients:\n",
      " [0.10713909 0.21173059]\n",
      "\n",
      "Intercept:\n",
      " -1.054280330833529\n",
      "\n",
      "R-squared: \n",
      "0.8123270777813576\n"
     ]
    }
   ],
   "source": [
    "Y = ny.crime_model[\"PropertyCrime\"]\n",
    "X = ny.crime_model[[\"Robbery\",\"Population2\"]]\n",
    "ny.crime_regr.fit(X,Y)\n",
    "print(\"Coefficients:\\n\",ny.crime_regr.coef_)\n",
    "print(\"\\nIntercept:\\n\",ny.crime_regr.intercept_)\n",
    "print(\"\\nR-squared: \")\n",
    "print(ny.crime_regr.score(X,Y))"
   ]
  },
  {
   "cell_type": "markdown",
   "metadata": {},
   "source": [
    "Rsquared value seems to have decreased slightly as a result of dropping Population and Murder Features (not signficantly adverse?)"
   ]
  }
 ],
 "metadata": {
  "kernelspec": {
   "display_name": "Python 3",
   "language": "python",
   "name": "python3"
  },
  "language_info": {
   "codemirror_mode": {
    "name": "ipython",
    "version": 3
   },
   "file_extension": ".py",
   "mimetype": "text/x-python",
   "name": "python",
   "nbconvert_exporter": "python",
   "pygments_lexer": "ipython3",
   "version": "3.6.4"
  }
 },
 "nbformat": 4,
 "nbformat_minor": 2
}
