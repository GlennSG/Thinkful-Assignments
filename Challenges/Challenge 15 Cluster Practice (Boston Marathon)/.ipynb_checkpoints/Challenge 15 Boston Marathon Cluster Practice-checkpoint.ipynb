{
 "cells": [
  {
   "cell_type": "code",
   "execution_count": 593,
   "metadata": {
    "scrolled": false
   },
   "outputs": [],
   "source": [
    "import numpy as np\n",
    "import pandas as pd\n",
    "import matplotlib.pyplot as plt\n",
    "%matplotlib inline"
   ]
  },
  {
   "cell_type": "code",
   "execution_count": 594,
   "metadata": {
    "scrolled": false
   },
   "outputs": [
    {
     "data": {
      "text/plain": [
       "Index(['10k', 'name', 'division', '25k', 'gender', 'age', 'official', 'bib',\n",
       "       'genderdiv', 'ctz', '35k', 'overall', 'pace', 'state', '30k', '5k',\n",
       "       'half', '20k', 'country', 'city', '40k'],\n",
       "      dtype='object')"
      ]
     },
     "execution_count": 594,
     "metadata": {},
     "output_type": "execute_result"
    }
   ],
   "source": [
    "url = \"https://raw.githubusercontent.com/llimllib/bostonmarathon/master/results/2014/results.csv\"\n",
    "data = pd.read_csv(url)\n",
    "data.columns"
   ]
  },
  {
   "cell_type": "markdown",
   "metadata": {},
   "source": [
    "### Column Headers Meaning:\n",
    "10k,25k,35k,30k,5k,20k,40k,half : time splits for each distance (k)"
   ]
  },
  {
   "cell_type": "code",
   "execution_count": 595,
   "metadata": {
    "scrolled": false
   },
   "outputs": [
    {
     "data": {
      "text/html": [
       "<div>\n",
       "<style scoped>\n",
       "    .dataframe tbody tr th:only-of-type {\n",
       "        vertical-align: middle;\n",
       "    }\n",
       "\n",
       "    .dataframe tbody tr th {\n",
       "        vertical-align: top;\n",
       "    }\n",
       "\n",
       "    .dataframe thead th {\n",
       "        text-align: right;\n",
       "    }\n",
       "</style>\n",
       "<table border=\"1\" class=\"dataframe\">\n",
       "  <thead>\n",
       "    <tr style=\"text-align: right;\">\n",
       "      <th></th>\n",
       "      <th>10k</th>\n",
       "      <th>name</th>\n",
       "      <th>division</th>\n",
       "      <th>25k</th>\n",
       "      <th>gender</th>\n",
       "      <th>age</th>\n",
       "      <th>official</th>\n",
       "      <th>bib</th>\n",
       "      <th>genderdiv</th>\n",
       "      <th>ctz</th>\n",
       "      <th>...</th>\n",
       "      <th>overall</th>\n",
       "      <th>pace</th>\n",
       "      <th>state</th>\n",
       "      <th>30k</th>\n",
       "      <th>5k</th>\n",
       "      <th>half</th>\n",
       "      <th>20k</th>\n",
       "      <th>country</th>\n",
       "      <th>city</th>\n",
       "      <th>40k</th>\n",
       "    </tr>\n",
       "  </thead>\n",
       "  <tbody>\n",
       "    <tr>\n",
       "      <th>0</th>\n",
       "      <td>17.37</td>\n",
       "      <td>Yamamoto, Hiroyuki</td>\n",
       "      <td>8</td>\n",
       "      <td>47.67</td>\n",
       "      <td>M</td>\n",
       "      <td>47</td>\n",
       "      <td>85.25</td>\n",
       "      <td>W1</td>\n",
       "      <td>8</td>\n",
       "      <td>NaN</td>\n",
       "      <td>...</td>\n",
       "      <td>8</td>\n",
       "      <td>3.27</td>\n",
       "      <td>NaN</td>\n",
       "      <td>59.18</td>\n",
       "      <td>8.02</td>\n",
       "      <td>39.72</td>\n",
       "      <td>37.65</td>\n",
       "      <td>JPN</td>\n",
       "      <td>Fukuoka</td>\n",
       "      <td>80.43</td>\n",
       "    </tr>\n",
       "    <tr>\n",
       "      <th>1</th>\n",
       "      <td>32.58</td>\n",
       "      <td>Jeptoo, Rita</td>\n",
       "      <td>1</td>\n",
       "      <td>82.43</td>\n",
       "      <td>F</td>\n",
       "      <td>33</td>\n",
       "      <td>138.95</td>\n",
       "      <td>F1</td>\n",
       "      <td>1</td>\n",
       "      <td>NaN</td>\n",
       "      <td>...</td>\n",
       "      <td>21</td>\n",
       "      <td>5.30</td>\n",
       "      <td>NaN</td>\n",
       "      <td>99.33</td>\n",
       "      <td>16.22</td>\n",
       "      <td>69.47</td>\n",
       "      <td>65.83</td>\n",
       "      <td>KEN</td>\n",
       "      <td>Eldoret</td>\n",
       "      <td>132.10</td>\n",
       "    </tr>\n",
       "    <tr>\n",
       "      <th>2</th>\n",
       "      <td>16.62</td>\n",
       "      <td>Van Dyk, Ernst F.</td>\n",
       "      <td>1</td>\n",
       "      <td>45.80</td>\n",
       "      <td>M</td>\n",
       "      <td>41</td>\n",
       "      <td>80.60</td>\n",
       "      <td>W2</td>\n",
       "      <td>1</td>\n",
       "      <td>NaN</td>\n",
       "      <td>...</td>\n",
       "      <td>1</td>\n",
       "      <td>3.08</td>\n",
       "      <td>NaN</td>\n",
       "      <td>56.45</td>\n",
       "      <td>7.75</td>\n",
       "      <td>38.03</td>\n",
       "      <td>36.10</td>\n",
       "      <td>RSA</td>\n",
       "      <td>Paarl</td>\n",
       "      <td>76.10</td>\n",
       "    </tr>\n",
       "    <tr>\n",
       "      <th>3</th>\n",
       "      <td>32.57</td>\n",
       "      <td>Dibaba, Mare</td>\n",
       "      <td>3</td>\n",
       "      <td>82.43</td>\n",
       "      <td>F</td>\n",
       "      <td>24</td>\n",
       "      <td>140.58</td>\n",
       "      <td>F2</td>\n",
       "      <td>3</td>\n",
       "      <td>NaN</td>\n",
       "      <td>...</td>\n",
       "      <td>27</td>\n",
       "      <td>5.37</td>\n",
       "      <td>NaN</td>\n",
       "      <td>99.33</td>\n",
       "      <td>16.20</td>\n",
       "      <td>69.47</td>\n",
       "      <td>65.83</td>\n",
       "      <td>ETH</td>\n",
       "      <td>Shoa</td>\n",
       "      <td>132.95</td>\n",
       "    </tr>\n",
       "    <tr>\n",
       "      <th>4</th>\n",
       "      <td>17.12</td>\n",
       "      <td>Hokinoue, Kota</td>\n",
       "      <td>2</td>\n",
       "      <td>46.37</td>\n",
       "      <td>M</td>\n",
       "      <td>40</td>\n",
       "      <td>81.23</td>\n",
       "      <td>W3</td>\n",
       "      <td>2</td>\n",
       "      <td>NaN</td>\n",
       "      <td>...</td>\n",
       "      <td>2</td>\n",
       "      <td>3.10</td>\n",
       "      <td>NaN</td>\n",
       "      <td>57.03</td>\n",
       "      <td>8.02</td>\n",
       "      <td>38.60</td>\n",
       "      <td>36.58</td>\n",
       "      <td>JPN</td>\n",
       "      <td>Nogata Fukuoka</td>\n",
       "      <td>76.72</td>\n",
       "    </tr>\n",
       "  </tbody>\n",
       "</table>\n",
       "<p>5 rows × 21 columns</p>\n",
       "</div>"
      ],
      "text/plain": [
       "     10k                name  division    25k gender  age  official bib  \\\n",
       "0  17.37  Yamamoto, Hiroyuki         8  47.67      M   47     85.25  W1   \n",
       "1  32.58        Jeptoo, Rita         1  82.43      F   33    138.95  F1   \n",
       "2  16.62   Van Dyk, Ernst F.         1  45.80      M   41     80.60  W2   \n",
       "3  32.57        Dibaba, Mare         3  82.43      F   24    140.58  F2   \n",
       "4  17.12      Hokinoue, Kota         2  46.37      M   40     81.23  W3   \n",
       "\n",
       "   genderdiv  ctz   ...   overall  pace  state    30k     5k   half    20k  \\\n",
       "0          8  NaN   ...         8  3.27    NaN  59.18   8.02  39.72  37.65   \n",
       "1          1  NaN   ...        21  5.30    NaN  99.33  16.22  69.47  65.83   \n",
       "2          1  NaN   ...         1  3.08    NaN  56.45   7.75  38.03  36.10   \n",
       "3          3  NaN   ...        27  5.37    NaN  99.33  16.20  69.47  65.83   \n",
       "4          2  NaN   ...         2  3.10    NaN  57.03   8.02  38.60  36.58   \n",
       "\n",
       "  country            city     40k  \n",
       "0     JPN         Fukuoka   80.43  \n",
       "1     KEN         Eldoret  132.10  \n",
       "2     RSA           Paarl   76.10  \n",
       "3     ETH            Shoa  132.95  \n",
       "4     JPN  Nogata Fukuoka   76.72  \n",
       "\n",
       "[5 rows x 21 columns]"
      ]
     },
     "execution_count": 595,
     "metadata": {},
     "output_type": "execute_result"
    }
   ],
   "source": [
    "data.head(5)"
   ]
  },
  {
   "cell_type": "code",
   "execution_count": 596,
   "metadata": {
    "scrolled": false
   },
   "outputs": [
    {
     "data": {
      "text/plain": [
       "10k              0\n",
       "name             0\n",
       "division         0\n",
       "25k              0\n",
       "gender           0\n",
       "age              0\n",
       "official         0\n",
       "bib              0\n",
       "genderdiv        0\n",
       "ctz          30740\n",
       "35k              0\n",
       "overall          0\n",
       "pace             0\n",
       "state         2576\n",
       "30k              0\n",
       "5k               0\n",
       "half             0\n",
       "20k              0\n",
       "country          0\n",
       "city             1\n",
       "40k              0\n",
       "dtype: int64"
      ]
     },
     "execution_count": 596,
     "metadata": {},
     "output_type": "execute_result"
    }
   ],
   "source": [
    "data.isnull().sum()"
   ]
  },
  {
   "cell_type": "code",
   "execution_count": 597,
   "metadata": {
    "scrolled": false
   },
   "outputs": [
    {
     "data": {
      "text/plain": [
       "10k          0\n",
       "name         0\n",
       "division     0\n",
       "25k          0\n",
       "gender       0\n",
       "age          0\n",
       "official     0\n",
       "bib          0\n",
       "genderdiv    0\n",
       "35k          0\n",
       "overall      0\n",
       "pace         0\n",
       "30k          0\n",
       "5k           0\n",
       "half         0\n",
       "20k          0\n",
       "country      0\n",
       "40k          0\n",
       "dtype: int64"
      ]
     },
     "execution_count": 597,
     "metadata": {},
     "output_type": "execute_result"
    }
   ],
   "source": [
    "# drop columns containing missing data\n",
    "data_col = list(data.columns)\n",
    "for col in data_col:\n",
    "    if col == \"ctz\" or col == \"state\" or col == \"city\":\n",
    "        data = data.drop([col],axis=1)\n",
    "data.isnull().sum()"
   ]
  },
  {
   "cell_type": "code",
   "execution_count": 598,
   "metadata": {
    "scrolled": false
   },
   "outputs": [
    {
     "data": {
      "text/plain": [
       "(31984, 18)"
      ]
     },
     "execution_count": 598,
     "metadata": {},
     "output_type": "execute_result"
    }
   ],
   "source": [
    "data.shape"
   ]
  },
  {
   "cell_type": "code",
   "execution_count": 599,
   "metadata": {
    "scrolled": false
   },
   "outputs": [
    {
     "data": {
      "text/plain": [
       "10k           object\n",
       "name          object\n",
       "division       int64\n",
       "25k           object\n",
       "gender        object\n",
       "age            int64\n",
       "official     float64\n",
       "bib           object\n",
       "genderdiv      int64\n",
       "35k           object\n",
       "overall        int64\n",
       "pace         float64\n",
       "30k           object\n",
       "5k            object\n",
       "half          object\n",
       "20k           object\n",
       "country       object\n",
       "40k           object\n",
       "dtype: object"
      ]
     },
     "execution_count": 599,
     "metadata": {},
     "output_type": "execute_result"
    }
   ],
   "source": [
    "data.dtypes"
   ]
  },
  {
   "cell_type": "code",
   "execution_count": 600,
   "metadata": {
    "scrolled": false
   },
   "outputs": [
    {
     "data": {
      "text/plain": [
       "True"
      ]
     },
     "execution_count": 600,
     "metadata": {},
     "output_type": "execute_result"
    }
   ],
   "source": [
    "data[\"10k\"].dtype == \"object\""
   ]
  },
  {
   "cell_type": "code",
   "execution_count": 601,
   "metadata": {
    "scrolled": false
   },
   "outputs": [
    {
     "data": {
      "text/html": [
       "<div>\n",
       "<style scoped>\n",
       "    .dataframe tbody tr th:only-of-type {\n",
       "        vertical-align: middle;\n",
       "    }\n",
       "\n",
       "    .dataframe tbody tr th {\n",
       "        vertical-align: top;\n",
       "    }\n",
       "\n",
       "    .dataframe thead th {\n",
       "        text-align: right;\n",
       "    }\n",
       "</style>\n",
       "<table border=\"1\" class=\"dataframe\">\n",
       "  <thead>\n",
       "    <tr style=\"text-align: right;\">\n",
       "      <th></th>\n",
       "      <th>10k</th>\n",
       "      <th>name</th>\n",
       "      <th>division</th>\n",
       "      <th>25k</th>\n",
       "      <th>gender</th>\n",
       "      <th>age</th>\n",
       "      <th>official</th>\n",
       "      <th>bib</th>\n",
       "      <th>genderdiv</th>\n",
       "      <th>35k</th>\n",
       "      <th>overall</th>\n",
       "      <th>pace</th>\n",
       "      <th>30k</th>\n",
       "      <th>5k</th>\n",
       "      <th>half</th>\n",
       "      <th>20k</th>\n",
       "      <th>country</th>\n",
       "      <th>40k</th>\n",
       "    </tr>\n",
       "  </thead>\n",
       "  <tbody>\n",
       "    <tr>\n",
       "      <th>0</th>\n",
       "      <td>17.37</td>\n",
       "      <td>Yamamoto, Hiroyuki</td>\n",
       "      <td>8</td>\n",
       "      <td>47.67</td>\n",
       "      <td>M</td>\n",
       "      <td>47</td>\n",
       "      <td>85.25</td>\n",
       "      <td>W1</td>\n",
       "      <td>8</td>\n",
       "      <td>71.40</td>\n",
       "      <td>8</td>\n",
       "      <td>3.27</td>\n",
       "      <td>59.18</td>\n",
       "      <td>8.02</td>\n",
       "      <td>39.72</td>\n",
       "      <td>37.65</td>\n",
       "      <td>JPN</td>\n",
       "      <td>80.43</td>\n",
       "    </tr>\n",
       "    <tr>\n",
       "      <th>1</th>\n",
       "      <td>32.58</td>\n",
       "      <td>Jeptoo, Rita</td>\n",
       "      <td>1</td>\n",
       "      <td>82.43</td>\n",
       "      <td>F</td>\n",
       "      <td>33</td>\n",
       "      <td>138.95</td>\n",
       "      <td>F1</td>\n",
       "      <td>1</td>\n",
       "      <td>116.37</td>\n",
       "      <td>21</td>\n",
       "      <td>5.30</td>\n",
       "      <td>99.33</td>\n",
       "      <td>16.22</td>\n",
       "      <td>69.47</td>\n",
       "      <td>65.83</td>\n",
       "      <td>KEN</td>\n",
       "      <td>132.10</td>\n",
       "    </tr>\n",
       "    <tr>\n",
       "      <th>2</th>\n",
       "      <td>16.62</td>\n",
       "      <td>Van Dyk, Ernst F.</td>\n",
       "      <td>1</td>\n",
       "      <td>45.80</td>\n",
       "      <td>M</td>\n",
       "      <td>41</td>\n",
       "      <td>80.60</td>\n",
       "      <td>W2</td>\n",
       "      <td>1</td>\n",
       "      <td>67.42</td>\n",
       "      <td>1</td>\n",
       "      <td>3.08</td>\n",
       "      <td>56.45</td>\n",
       "      <td>7.75</td>\n",
       "      <td>38.03</td>\n",
       "      <td>36.10</td>\n",
       "      <td>RSA</td>\n",
       "      <td>76.10</td>\n",
       "    </tr>\n",
       "    <tr>\n",
       "      <th>3</th>\n",
       "      <td>32.57</td>\n",
       "      <td>Dibaba, Mare</td>\n",
       "      <td>3</td>\n",
       "      <td>82.43</td>\n",
       "      <td>F</td>\n",
       "      <td>24</td>\n",
       "      <td>140.58</td>\n",
       "      <td>F2</td>\n",
       "      <td>3</td>\n",
       "      <td>116.37</td>\n",
       "      <td>27</td>\n",
       "      <td>5.37</td>\n",
       "      <td>99.33</td>\n",
       "      <td>16.20</td>\n",
       "      <td>69.47</td>\n",
       "      <td>65.83</td>\n",
       "      <td>ETH</td>\n",
       "      <td>132.95</td>\n",
       "    </tr>\n",
       "    <tr>\n",
       "      <th>4</th>\n",
       "      <td>17.12</td>\n",
       "      <td>Hokinoue, Kota</td>\n",
       "      <td>2</td>\n",
       "      <td>46.37</td>\n",
       "      <td>M</td>\n",
       "      <td>40</td>\n",
       "      <td>81.23</td>\n",
       "      <td>W3</td>\n",
       "      <td>2</td>\n",
       "      <td>67.83</td>\n",
       "      <td>2</td>\n",
       "      <td>3.10</td>\n",
       "      <td>57.03</td>\n",
       "      <td>8.02</td>\n",
       "      <td>38.60</td>\n",
       "      <td>36.58</td>\n",
       "      <td>JPN</td>\n",
       "      <td>76.72</td>\n",
       "    </tr>\n",
       "  </tbody>\n",
       "</table>\n",
       "</div>"
      ],
      "text/plain": [
       "     10k                name  division    25k gender  age  official bib  \\\n",
       "0  17.37  Yamamoto, Hiroyuki         8  47.67      M   47     85.25  W1   \n",
       "1  32.58        Jeptoo, Rita         1  82.43      F   33    138.95  F1   \n",
       "2  16.62   Van Dyk, Ernst F.         1  45.80      M   41     80.60  W2   \n",
       "3  32.57        Dibaba, Mare         3  82.43      F   24    140.58  F2   \n",
       "4  17.12      Hokinoue, Kota         2  46.37      M   40     81.23  W3   \n",
       "\n",
       "   genderdiv     35k  overall  pace    30k     5k   half    20k country  \\\n",
       "0          8   71.40        8  3.27  59.18   8.02  39.72  37.65     JPN   \n",
       "1          1  116.37       21  5.30  99.33  16.22  69.47  65.83     KEN   \n",
       "2          1   67.42        1  3.08  56.45   7.75  38.03  36.10     RSA   \n",
       "3          3  116.37       27  5.37  99.33  16.20  69.47  65.83     ETH   \n",
       "4          2   67.83        2  3.10  57.03   8.02  38.60  36.58     JPN   \n",
       "\n",
       "      40k  \n",
       "0   80.43  \n",
       "1  132.10  \n",
       "2   76.10  \n",
       "3  132.95  \n",
       "4   76.72  "
      ]
     },
     "execution_count": 601,
     "metadata": {},
     "output_type": "execute_result"
    }
   ],
   "source": [
    "data.head(5)"
   ]
  },
  {
   "cell_type": "code",
   "execution_count": 602,
   "metadata": {
    "scrolled": false
   },
   "outputs": [
    {
     "data": {
      "text/plain": [
       "['10k',\n",
       " 'name',\n",
       " 'division',\n",
       " '25k',\n",
       " 'gender',\n",
       " 'age',\n",
       " 'official',\n",
       " 'bib',\n",
       " 'genderdiv',\n",
       " '35k',\n",
       " 'overall',\n",
       " 'pace',\n",
       " '30k',\n",
       " '5k',\n",
       " 'half',\n",
       " '20k',\n",
       " 'country',\n",
       " '40k']"
      ]
     },
     "execution_count": 602,
     "metadata": {},
     "output_type": "execute_result"
    }
   ],
   "source": [
    "data_col = list(data.columns)\n",
    "data_col"
   ]
  },
  {
   "cell_type": "code",
   "execution_count": 603,
   "metadata": {
    "scrolled": false
   },
   "outputs": [
    {
     "data": {
      "text/html": [
       "<div>\n",
       "<style scoped>\n",
       "    .dataframe tbody tr th:only-of-type {\n",
       "        vertical-align: middle;\n",
       "    }\n",
       "\n",
       "    .dataframe tbody tr th {\n",
       "        vertical-align: top;\n",
       "    }\n",
       "\n",
       "    .dataframe thead th {\n",
       "        text-align: right;\n",
       "    }\n",
       "</style>\n",
       "<table border=\"1\" class=\"dataframe\">\n",
       "  <thead>\n",
       "    <tr style=\"text-align: right;\">\n",
       "      <th></th>\n",
       "      <th>10k</th>\n",
       "      <th>25k</th>\n",
       "      <th>age</th>\n",
       "      <th>official</th>\n",
       "      <th>genderdiv</th>\n",
       "      <th>35k</th>\n",
       "      <th>overall</th>\n",
       "      <th>pace</th>\n",
       "      <th>30k</th>\n",
       "      <th>5k</th>\n",
       "      <th>half</th>\n",
       "      <th>20k</th>\n",
       "      <th>40k</th>\n",
       "    </tr>\n",
       "  </thead>\n",
       "  <tbody>\n",
       "    <tr>\n",
       "      <th>0</th>\n",
       "      <td>17.37</td>\n",
       "      <td>47.67</td>\n",
       "      <td>47</td>\n",
       "      <td>85.25</td>\n",
       "      <td>8</td>\n",
       "      <td>71.40</td>\n",
       "      <td>8</td>\n",
       "      <td>3.27</td>\n",
       "      <td>59.18</td>\n",
       "      <td>8.02</td>\n",
       "      <td>39.72</td>\n",
       "      <td>37.65</td>\n",
       "      <td>80.43</td>\n",
       "    </tr>\n",
       "    <tr>\n",
       "      <th>1</th>\n",
       "      <td>32.58</td>\n",
       "      <td>82.43</td>\n",
       "      <td>33</td>\n",
       "      <td>138.95</td>\n",
       "      <td>1</td>\n",
       "      <td>116.37</td>\n",
       "      <td>21</td>\n",
       "      <td>5.30</td>\n",
       "      <td>99.33</td>\n",
       "      <td>16.22</td>\n",
       "      <td>69.47</td>\n",
       "      <td>65.83</td>\n",
       "      <td>132.10</td>\n",
       "    </tr>\n",
       "    <tr>\n",
       "      <th>2</th>\n",
       "      <td>16.62</td>\n",
       "      <td>45.80</td>\n",
       "      <td>41</td>\n",
       "      <td>80.60</td>\n",
       "      <td>1</td>\n",
       "      <td>67.42</td>\n",
       "      <td>1</td>\n",
       "      <td>3.08</td>\n",
       "      <td>56.45</td>\n",
       "      <td>7.75</td>\n",
       "      <td>38.03</td>\n",
       "      <td>36.10</td>\n",
       "      <td>76.10</td>\n",
       "    </tr>\n",
       "    <tr>\n",
       "      <th>3</th>\n",
       "      <td>32.57</td>\n",
       "      <td>82.43</td>\n",
       "      <td>24</td>\n",
       "      <td>140.58</td>\n",
       "      <td>3</td>\n",
       "      <td>116.37</td>\n",
       "      <td>27</td>\n",
       "      <td>5.37</td>\n",
       "      <td>99.33</td>\n",
       "      <td>16.20</td>\n",
       "      <td>69.47</td>\n",
       "      <td>65.83</td>\n",
       "      <td>132.95</td>\n",
       "    </tr>\n",
       "    <tr>\n",
       "      <th>4</th>\n",
       "      <td>17.12</td>\n",
       "      <td>46.37</td>\n",
       "      <td>40</td>\n",
       "      <td>81.23</td>\n",
       "      <td>2</td>\n",
       "      <td>67.83</td>\n",
       "      <td>2</td>\n",
       "      <td>3.10</td>\n",
       "      <td>57.03</td>\n",
       "      <td>8.02</td>\n",
       "      <td>38.60</td>\n",
       "      <td>36.58</td>\n",
       "      <td>76.72</td>\n",
       "    </tr>\n",
       "  </tbody>\n",
       "</table>\n",
       "</div>"
      ],
      "text/plain": [
       "     10k    25k  age  official  genderdiv     35k  overall  pace    30k  \\\n",
       "0  17.37  47.67   47     85.25          8   71.40        8  3.27  59.18   \n",
       "1  32.58  82.43   33    138.95          1  116.37       21  5.30  99.33   \n",
       "2  16.62  45.80   41     80.60          1   67.42        1  3.08  56.45   \n",
       "3  32.57  82.43   24    140.58          3  116.37       27  5.37  99.33   \n",
       "4  17.12  46.37   40     81.23          2   67.83        2  3.10  57.03   \n",
       "\n",
       "      5k   half    20k     40k  \n",
       "0   8.02  39.72  37.65   80.43  \n",
       "1  16.22  69.47  65.83  132.10  \n",
       "2   7.75  38.03  36.10   76.10  \n",
       "3  16.20  69.47  65.83  132.95  \n",
       "4   8.02  38.60  36.58   76.72  "
      ]
     },
     "execution_count": 603,
     "metadata": {},
     "output_type": "execute_result"
    }
   ],
   "source": [
    "marathon_data = pd.DataFrame()\n",
    "marathon_data = data[[col for col in data_col if col != \"name\" and col != \"gender\" and col != \"bib\" and col != \"country\" and col != \"division\"]]\n",
    "marathon_data.head(5)"
   ]
  },
  {
   "cell_type": "code",
   "execution_count": 604,
   "metadata": {
    "scrolled": false
   },
   "outputs": [
    {
     "data": {
      "text/plain": [
       "array([0], dtype=object)"
      ]
     },
     "execution_count": 604,
     "metadata": {},
     "output_type": "execute_result"
    }
   ],
   "source": [
    "marathon_data = marathon_data.replace(to_replace=\"-\",value=0)\n",
    "marathon_data.iloc[[3189]][\"10k\"].values"
   ]
  },
  {
   "cell_type": "code",
   "execution_count": 605,
   "metadata": {
    "scrolled": false
   },
   "outputs": [
    {
     "data": {
      "text/plain": [
       "Index(['10k', '25k', 'age', 'official', 'genderdiv', '35k', 'overall', 'pace',\n",
       "       '30k', '5k', 'half', '20k', '40k'],\n",
       "      dtype='object')"
      ]
     },
     "execution_count": 605,
     "metadata": {},
     "output_type": "execute_result"
    }
   ],
   "source": [
    "marathon_data.columns"
   ]
  },
  {
   "cell_type": "code",
   "execution_count": 606,
   "metadata": {
    "scrolled": false
   },
   "outputs": [],
   "source": [
    "marathon_data = marathon_data.apply(pd.to_numeric)"
   ]
  },
  {
   "cell_type": "code",
   "execution_count": 607,
   "metadata": {
    "scrolled": false
   },
   "outputs": [
    {
     "data": {
      "text/plain": [
       "10k          float64\n",
       "25k          float64\n",
       "age            int64\n",
       "official     float64\n",
       "genderdiv      int64\n",
       "35k          float64\n",
       "overall        int64\n",
       "pace         float64\n",
       "30k          float64\n",
       "5k           float64\n",
       "half         float64\n",
       "20k          float64\n",
       "40k          float64\n",
       "dtype: object"
      ]
     },
     "execution_count": 607,
     "metadata": {},
     "output_type": "execute_result"
    }
   ],
   "source": [
    "marathon_data.dtypes"
   ]
  },
  {
   "cell_type": "code",
   "execution_count": 608,
   "metadata": {
    "scrolled": false
   },
   "outputs": [
    {
     "data": {
      "text/html": [
       "<div>\n",
       "<style scoped>\n",
       "    .dataframe tbody tr th:only-of-type {\n",
       "        vertical-align: middle;\n",
       "    }\n",
       "\n",
       "    .dataframe tbody tr th {\n",
       "        vertical-align: top;\n",
       "    }\n",
       "\n",
       "    .dataframe thead th {\n",
       "        text-align: right;\n",
       "    }\n",
       "</style>\n",
       "<table border=\"1\" class=\"dataframe\">\n",
       "  <thead>\n",
       "    <tr style=\"text-align: right;\">\n",
       "      <th></th>\n",
       "      <th>10k</th>\n",
       "      <th>25k</th>\n",
       "      <th>age</th>\n",
       "      <th>official</th>\n",
       "      <th>genderdiv</th>\n",
       "      <th>35k</th>\n",
       "      <th>overall</th>\n",
       "      <th>pace</th>\n",
       "      <th>30k</th>\n",
       "      <th>5k</th>\n",
       "      <th>half</th>\n",
       "      <th>20k</th>\n",
       "      <th>40k</th>\n",
       "      <th>gender</th>\n",
       "    </tr>\n",
       "  </thead>\n",
       "  <tbody>\n",
       "    <tr>\n",
       "      <th>0</th>\n",
       "      <td>17.37</td>\n",
       "      <td>47.67</td>\n",
       "      <td>47</td>\n",
       "      <td>85.25</td>\n",
       "      <td>8</td>\n",
       "      <td>71.40</td>\n",
       "      <td>8</td>\n",
       "      <td>3.27</td>\n",
       "      <td>59.18</td>\n",
       "      <td>8.02</td>\n",
       "      <td>39.72</td>\n",
       "      <td>37.65</td>\n",
       "      <td>80.43</td>\n",
       "      <td>M</td>\n",
       "    </tr>\n",
       "    <tr>\n",
       "      <th>1</th>\n",
       "      <td>32.58</td>\n",
       "      <td>82.43</td>\n",
       "      <td>33</td>\n",
       "      <td>138.95</td>\n",
       "      <td>1</td>\n",
       "      <td>116.37</td>\n",
       "      <td>21</td>\n",
       "      <td>5.30</td>\n",
       "      <td>99.33</td>\n",
       "      <td>16.22</td>\n",
       "      <td>69.47</td>\n",
       "      <td>65.83</td>\n",
       "      <td>132.10</td>\n",
       "      <td>F</td>\n",
       "    </tr>\n",
       "    <tr>\n",
       "      <th>2</th>\n",
       "      <td>16.62</td>\n",
       "      <td>45.80</td>\n",
       "      <td>41</td>\n",
       "      <td>80.60</td>\n",
       "      <td>1</td>\n",
       "      <td>67.42</td>\n",
       "      <td>1</td>\n",
       "      <td>3.08</td>\n",
       "      <td>56.45</td>\n",
       "      <td>7.75</td>\n",
       "      <td>38.03</td>\n",
       "      <td>36.10</td>\n",
       "      <td>76.10</td>\n",
       "      <td>M</td>\n",
       "    </tr>\n",
       "  </tbody>\n",
       "</table>\n",
       "</div>"
      ],
      "text/plain": [
       "     10k    25k  age  official  genderdiv     35k  overall  pace    30k  \\\n",
       "0  17.37  47.67   47     85.25          8   71.40        8  3.27  59.18   \n",
       "1  32.58  82.43   33    138.95          1  116.37       21  5.30  99.33   \n",
       "2  16.62  45.80   41     80.60          1   67.42        1  3.08  56.45   \n",
       "\n",
       "      5k   half    20k     40k gender  \n",
       "0   8.02  39.72  37.65   80.43      M  \n",
       "1  16.22  69.47  65.83  132.10      F  \n",
       "2   7.75  38.03  36.10   76.10      M  "
      ]
     },
     "execution_count": 608,
     "metadata": {},
     "output_type": "execute_result"
    }
   ],
   "source": [
    "marathon_data[\"gender\"] = data[\"gender\"]\n",
    "marathon_data.head(3)"
   ]
  },
  {
   "cell_type": "code",
   "execution_count": 609,
   "metadata": {
    "scrolled": false
   },
   "outputs": [
    {
     "data": {
      "text/plain": [
       "10k          0\n",
       "25k          0\n",
       "age          0\n",
       "official     0\n",
       "genderdiv    0\n",
       "35k          0\n",
       "overall      0\n",
       "pace         0\n",
       "30k          0\n",
       "5k           0\n",
       "half         0\n",
       "20k          0\n",
       "40k          0\n",
       "gender       0\n",
       "dtype: int64"
      ]
     },
     "execution_count": 609,
     "metadata": {},
     "output_type": "execute_result"
    }
   ],
   "source": [
    "marathon_data.isnull().sum()"
   ]
  },
  {
   "cell_type": "markdown",
   "metadata": {},
   "source": [
    "## Focus for clusters\n",
    "\n",
    "So I've heard about 5k marathons more often than any other distance run event. So let's do a cluster on 5k runtimes and the pace for each contestant in the 5k marathon event to see if we can distinguish groupings in our contestants."
   ]
  },
  {
   "cell_type": "code",
   "execution_count": 610,
   "metadata": {},
   "outputs": [
    {
     "data": {
      "text/html": [
       "<div>\n",
       "<style scoped>\n",
       "    .dataframe tbody tr th:only-of-type {\n",
       "        vertical-align: middle;\n",
       "    }\n",
       "\n",
       "    .dataframe tbody tr th {\n",
       "        vertical-align: top;\n",
       "    }\n",
       "\n",
       "    .dataframe thead th {\n",
       "        text-align: right;\n",
       "    }\n",
       "</style>\n",
       "<table border=\"1\" class=\"dataframe\">\n",
       "  <thead>\n",
       "    <tr style=\"text-align: right;\">\n",
       "      <th></th>\n",
       "      <th>division</th>\n",
       "      <th>age</th>\n",
       "      <th>official</th>\n",
       "      <th>genderdiv</th>\n",
       "      <th>overall</th>\n",
       "      <th>pace</th>\n",
       "    </tr>\n",
       "  </thead>\n",
       "  <tbody>\n",
       "    <tr>\n",
       "      <th>count</th>\n",
       "      <td>31984.000000</td>\n",
       "      <td>31984.000000</td>\n",
       "      <td>31984.000000</td>\n",
       "      <td>31984.000000</td>\n",
       "      <td>31984.000000</td>\n",
       "      <td>31984.000000</td>\n",
       "    </tr>\n",
       "    <tr>\n",
       "      <th>mean</th>\n",
       "      <td>1932.563032</td>\n",
       "      <td>42.407079</td>\n",
       "      <td>242.997314</td>\n",
       "      <td>8051.044741</td>\n",
       "      <td>15939.587825</td>\n",
       "      <td>9.275658</td>\n",
       "    </tr>\n",
       "    <tr>\n",
       "      <th>std</th>\n",
       "      <td>1715.228694</td>\n",
       "      <td>11.316496</td>\n",
       "      <td>52.300431</td>\n",
       "      <td>4754.005626</td>\n",
       "      <td>9232.978224</td>\n",
       "      <td>1.992486</td>\n",
       "    </tr>\n",
       "    <tr>\n",
       "      <th>min</th>\n",
       "      <td>1.000000</td>\n",
       "      <td>18.000000</td>\n",
       "      <td>80.600000</td>\n",
       "      <td>1.000000</td>\n",
       "      <td>1.000000</td>\n",
       "      <td>3.080000</td>\n",
       "    </tr>\n",
       "    <tr>\n",
       "      <th>25%</th>\n",
       "      <td>610.000000</td>\n",
       "      <td>33.000000</td>\n",
       "      <td>205.527500</td>\n",
       "      <td>3972.000000</td>\n",
       "      <td>7943.750000</td>\n",
       "      <td>7.850000</td>\n",
       "    </tr>\n",
       "    <tr>\n",
       "      <th>50%</th>\n",
       "      <td>1425.000000</td>\n",
       "      <td>42.000000</td>\n",
       "      <td>232.370000</td>\n",
       "      <td>7970.000000</td>\n",
       "      <td>15939.500000</td>\n",
       "      <td>8.870000</td>\n",
       "    </tr>\n",
       "    <tr>\n",
       "      <th>75%</th>\n",
       "      <td>2611.000000</td>\n",
       "      <td>50.000000</td>\n",
       "      <td>273.235000</td>\n",
       "      <td>11968.000000</td>\n",
       "      <td>23935.250000</td>\n",
       "      <td>10.430000</td>\n",
       "    </tr>\n",
       "    <tr>\n",
       "      <th>max</th>\n",
       "      <td>6979.000000</td>\n",
       "      <td>81.000000</td>\n",
       "      <td>538.880000</td>\n",
       "      <td>17575.000000</td>\n",
       "      <td>31931.000000</td>\n",
       "      <td>20.570000</td>\n",
       "    </tr>\n",
       "  </tbody>\n",
       "</table>\n",
       "</div>"
      ],
      "text/plain": [
       "           division           age      official     genderdiv       overall  \\\n",
       "count  31984.000000  31984.000000  31984.000000  31984.000000  31984.000000   \n",
       "mean    1932.563032     42.407079    242.997314   8051.044741  15939.587825   \n",
       "std     1715.228694     11.316496     52.300431   4754.005626   9232.978224   \n",
       "min        1.000000     18.000000     80.600000      1.000000      1.000000   \n",
       "25%      610.000000     33.000000    205.527500   3972.000000   7943.750000   \n",
       "50%     1425.000000     42.000000    232.370000   7970.000000  15939.500000   \n",
       "75%     2611.000000     50.000000    273.235000  11968.000000  23935.250000   \n",
       "max     6979.000000     81.000000    538.880000  17575.000000  31931.000000   \n",
       "\n",
       "               pace  \n",
       "count  31984.000000  \n",
       "mean       9.275658  \n",
       "std        1.992486  \n",
       "min        3.080000  \n",
       "25%        7.850000  \n",
       "50%        8.870000  \n",
       "75%       10.430000  \n",
       "max       20.570000  "
      ]
     },
     "execution_count": 610,
     "metadata": {},
     "output_type": "execute_result"
    }
   ],
   "source": [
    "data.describe()"
   ]
  },
  {
   "cell_type": "markdown",
   "metadata": {},
   "source": [
    "## Fit data to clusters"
   ]
  },
  {
   "cell_type": "markdown",
   "metadata": {},
   "source": [
    "### K-means"
   ]
  },
  {
   "cell_type": "code",
   "execution_count": 611,
   "metadata": {
    "scrolled": false
   },
   "outputs": [
    {
     "data": {
      "text/html": [
       "<div>\n",
       "<style scoped>\n",
       "    .dataframe tbody tr th:only-of-type {\n",
       "        vertical-align: middle;\n",
       "    }\n",
       "\n",
       "    .dataframe tbody tr th {\n",
       "        vertical-align: top;\n",
       "    }\n",
       "\n",
       "    .dataframe thead th {\n",
       "        text-align: right;\n",
       "    }\n",
       "</style>\n",
       "<table border=\"1\" class=\"dataframe\">\n",
       "  <thead>\n",
       "    <tr style=\"text-align: right;\">\n",
       "      <th></th>\n",
       "      <th>division</th>\n",
       "      <th>age</th>\n",
       "      <th>official</th>\n",
       "      <th>genderdiv</th>\n",
       "      <th>overall</th>\n",
       "      <th>pace</th>\n",
       "      <th>5k</th>\n",
       "    </tr>\n",
       "  </thead>\n",
       "  <tbody>\n",
       "    <tr>\n",
       "      <th>count</th>\n",
       "      <td>31932.000000</td>\n",
       "      <td>31932.000000</td>\n",
       "      <td>31932.000000</td>\n",
       "      <td>31932.000000</td>\n",
       "      <td>31932.000000</td>\n",
       "      <td>31932.000000</td>\n",
       "      <td>31932.000000</td>\n",
       "    </tr>\n",
       "    <tr>\n",
       "      <th>mean</th>\n",
       "      <td>1931.875485</td>\n",
       "      <td>42.408368</td>\n",
       "      <td>242.968838</td>\n",
       "      <td>8049.560973</td>\n",
       "      <td>15933.980646</td>\n",
       "      <td>9.274576</td>\n",
       "      <td>25.755559</td>\n",
       "    </tr>\n",
       "    <tr>\n",
       "      <th>std</th>\n",
       "      <td>1714.944285</td>\n",
       "      <td>11.318843</td>\n",
       "      <td>52.299452</td>\n",
       "      <td>4754.591417</td>\n",
       "      <td>9233.077584</td>\n",
       "      <td>1.992453</td>\n",
       "      <td>4.327830</td>\n",
       "    </tr>\n",
       "    <tr>\n",
       "      <th>min</th>\n",
       "      <td>1.000000</td>\n",
       "      <td>18.000000</td>\n",
       "      <td>80.600000</td>\n",
       "      <td>1.000000</td>\n",
       "      <td>1.000000</td>\n",
       "      <td>3.080000</td>\n",
       "      <td>7.750000</td>\n",
       "    </tr>\n",
       "    <tr>\n",
       "      <th>25%</th>\n",
       "      <td>610.000000</td>\n",
       "      <td>33.000000</td>\n",
       "      <td>205.480000</td>\n",
       "      <td>3968.750000</td>\n",
       "      <td>7939.750000</td>\n",
       "      <td>7.850000</td>\n",
       "      <td>22.650000</td>\n",
       "    </tr>\n",
       "    <tr>\n",
       "      <th>50%</th>\n",
       "      <td>1424.000000</td>\n",
       "      <td>42.000000</td>\n",
       "      <td>232.340000</td>\n",
       "      <td>7967.000000</td>\n",
       "      <td>15932.500000</td>\n",
       "      <td>8.870000</td>\n",
       "      <td>25.080000</td>\n",
       "    </tr>\n",
       "    <tr>\n",
       "      <th>75%</th>\n",
       "      <td>2609.000000</td>\n",
       "      <td>50.000000</td>\n",
       "      <td>273.185000</td>\n",
       "      <td>11966.250000</td>\n",
       "      <td>23927.250000</td>\n",
       "      <td>10.430000</td>\n",
       "      <td>28.470000</td>\n",
       "    </tr>\n",
       "    <tr>\n",
       "      <th>max</th>\n",
       "      <td>6979.000000</td>\n",
       "      <td>81.000000</td>\n",
       "      <td>538.880000</td>\n",
       "      <td>17575.000000</td>\n",
       "      <td>31931.000000</td>\n",
       "      <td>20.570000</td>\n",
       "      <td>86.950000</td>\n",
       "    </tr>\n",
       "  </tbody>\n",
       "</table>\n",
       "</div>"
      ],
      "text/plain": [
       "           division           age      official     genderdiv       overall  \\\n",
       "count  31932.000000  31932.000000  31932.000000  31932.000000  31932.000000   \n",
       "mean    1931.875485     42.408368    242.968838   8049.560973  15933.980646   \n",
       "std     1714.944285     11.318843     52.299452   4754.591417   9233.077584   \n",
       "min        1.000000     18.000000     80.600000      1.000000      1.000000   \n",
       "25%      610.000000     33.000000    205.480000   3968.750000   7939.750000   \n",
       "50%     1424.000000     42.000000    232.340000   7967.000000  15932.500000   \n",
       "75%     2609.000000     50.000000    273.185000  11966.250000  23927.250000   \n",
       "max     6979.000000     81.000000    538.880000  17575.000000  31931.000000   \n",
       "\n",
       "               pace            5k  \n",
       "count  31932.000000  31932.000000  \n",
       "mean       9.274576     25.755559  \n",
       "std        1.992453      4.327830  \n",
       "min        3.080000      7.750000  \n",
       "25%        7.850000     22.650000  \n",
       "50%        8.870000     25.080000  \n",
       "75%       10.430000     28.470000  \n",
       "max       20.570000     86.950000  "
      ]
     },
     "execution_count": 611,
     "metadata": {},
     "output_type": "execute_result"
    }
   ],
   "source": [
    "# modify 5k and pace columns\n",
    "data = data.replace(to_replace=\"-\",value=0)\n",
    "data[\"5k\"] = pd.to_numeric(data[\"5k\"])\n",
    "data[\"pace\"] = pd.to_numeric(data[\"pace\"])\n",
    "\n",
    "data = data[data[\"5k\"] != 0]\n",
    "data.describe()"
   ]
  },
  {
   "cell_type": "code",
   "execution_count": 612,
   "metadata": {
    "scrolled": false
   },
   "outputs": [],
   "source": [
    "#from sklearn.preprocessing import normalize\n",
    "from sklearn.model_selection import train_test_split\n",
    "X = data.iloc[:,[11,13]].values\n",
    "#X_norm = normalize(X)\n",
    "X_train,X_test = train_test_split(X,test_size=0.2,random_state=42)"
   ]
  },
  {
   "cell_type": "code",
   "execution_count": 613,
   "metadata": {
    "scrolled": false
   },
   "outputs": [
    {
     "data": {
      "text/plain": [
       "array([[ 3.27,  8.02],\n",
       "       [ 5.3 , 16.22],\n",
       "       [ 3.08,  7.75],\n",
       "       ...,\n",
       "       [10.77, 28.18],\n",
       "       [11.55, 30.98],\n",
       "       [ 8.72, 26.92]])"
      ]
     },
     "metadata": {},
     "output_type": "display_data"
    }
   ],
   "source": [
    "display(X)"
   ]
  },
  {
   "cell_type": "code",
   "execution_count": 614,
   "metadata": {
    "scrolled": false
   },
   "outputs": [],
   "source": [
    "# find optimal clusters\n",
    "from sklearn.cluster import KMeans\n",
    "\n",
    "wcss = []\n",
    "for i in range(1,11):\n",
    "    kmeans = KMeans(n_clusters=i,init=\"k-means++\",max_iter=300,n_init=10,random_state=42)\n",
    "    kmeans.fit(X_train)\n",
    "    wcss.append(kmeans.inertia_)"
   ]
  },
  {
   "cell_type": "code",
   "execution_count": 615,
   "metadata": {
    "scrolled": false
   },
   "outputs": [
    {
     "data": {
      "image/png": "[encoded data removed]",
      "text/plain": [
       "<matplotlib.figure.Figure at 0x7f20a91f6588>"
      ]
     },
     "metadata": {},
     "output_type": "display_data"
    }
   ],
   "source": [
    "plt.rcParams[\"figure.figsize\"] = (23,13)\n",
    "plt.plot(range(1,11),wcss)\n",
    "plt.xlabel(\"Number of Clusters\")\n",
    "plt.ylabel(\"WCSS\")\n",
    "plt.xticks(range(1,11))\n",
    "plt.show()"
   ]
  },
  {
   "cell_type": "markdown",
   "metadata": {},
   "source": [
    "It appears the optimal number of clusters is around 3"
   ]
  },
  {
   "cell_type": "code",
   "execution_count": 616,
   "metadata": {
    "scrolled": false
   },
   "outputs": [],
   "source": [
    "kmeans = KMeans(n_clusters = 3, init=\"k-means++\",max_iter=300,n_init=10,random_state=42)\n",
    "y_kmeans = kmeans.fit_predict(X_train)"
   ]
  },
  {
   "cell_type": "code",
   "execution_count": 621,
   "metadata": {
    "scrolled": false
   },
   "outputs": [
    {
     "data": {
      "image/png": "[encoded data removed]",
      "text/plain": [
       "<matplotlib.figure.Figure at 0x7f20a99916d8>"
      ]
     },
     "metadata": {},
     "output_type": "display_data"
    }
   ],
   "source": [
    "colors = [\"red\",\"blue\",\"green\"]\n",
    "labels = [\"Average\",\"Fast\",\"Slow\"]\n",
    "for i,j,k in zip(range(0,3),colors,labels):\n",
    "    plt.scatter(X_train[y_kmeans==i,0],X_train[y_kmeans==i,1],s=100,c=j,label=(\"{}\".format(k)))\n",
    "plt.scatter(kmeans.cluster_centers_[:,0],kmeans.cluster_centers_[:,1],s=300,c=\"yellow\",label=\"centroids\")\n",
    "plt.title(\"Clusters of marathon runners\")\n",
    "plt.xlabel(\"5k Time\")\n",
    "plt.ylabel(\"Pace\")\n",
    "plt.legend()\n",
    "plt.show()"
   ]
  }
 ],
 "metadata": {
  "kernelspec": {
   "display_name": "Python 3",
   "language": "python",
   "name": "python3"
  },
  "language_info": {
   "codemirror_mode": {
    "name": "ipython",
    "version": 3
   },
   "file_extension": ".py",
   "mimetype": "text/x-python",
   "name": "python",
   "nbconvert_exporter": "python",
   "pygments_lexer": "ipython3",
   "version": "3.6.4"
  }
 },
 "nbformat": 4,
 "nbformat_minor": 2
}
