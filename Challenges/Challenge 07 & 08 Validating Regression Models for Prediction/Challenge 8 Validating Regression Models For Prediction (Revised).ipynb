{
 "cells": [
  {
   "cell_type": "code",
   "execution_count": 63,
   "metadata": {},
   "outputs": [],
   "source": [
    "import numpy as np\n",
    "import pandas as pd\n",
    "import matplotlib.pyplot as plt\n",
    "import seaborn as sns\n",
    "import scipy\n",
    "from sklearn import linear_model\n",
    "from sklearn.feature_selection import f_regression\n",
    "import statsmodels.formula.api as smf\n",
    "import ny_crime2013 as ny"
   ]
  },
  {
   "cell_type": "markdown",
   "metadata": {},
   "source": [
    "## California Crime Dataset"
   ]
  },
  {
   "cell_type": "code",
   "execution_count": 64,
   "metadata": {},
   "outputs": [
    {
     "data": {
      "text/html": [
       "<div>\n",
       "<style scoped>\n",
       "    .dataframe tbody tr th:only-of-type {\n",
       "        vertical-align: middle;\n",
       "    }\n",
       "\n",
       "    .dataframe tbody tr th {\n",
       "        vertical-align: top;\n",
       "    }\n",
       "\n",
       "    .dataframe thead th {\n",
       "        text-align: right;\n",
       "    }\n",
       "</style>\n",
       "<table border=\"1\" class=\"dataframe\">\n",
       "  <thead>\n",
       "    <tr style=\"text-align: right;\">\n",
       "      <th></th>\n",
       "      <th>City</th>\n",
       "      <th>Population</th>\n",
       "      <th>Violent\n",
       "crime</th>\n",
       "      <th>Murder and\n",
       "nonnegligent\n",
       "manslaughter</th>\n",
       "      <th>Rape\n",
       "(revised\n",
       "definition)1</th>\n",
       "      <th>Rape\n",
       "(legacy\n",
       "definition)2</th>\n",
       "      <th>Robbery</th>\n",
       "      <th>Aggravated\n",
       "assault</th>\n",
       "      <th>Property\n",
       "crime</th>\n",
       "      <th>Burglary</th>\n",
       "      <th>Larceny-\n",
       "theft</th>\n",
       "      <th>Motor\n",
       "vehicle\n",
       "theft</th>\n",
       "      <th>Arson</th>\n",
       "    </tr>\n",
       "  </thead>\n",
       "  <tbody>\n",
       "    <tr>\n",
       "      <th>0</th>\n",
       "      <td>Adelanto</td>\n",
       "      <td>31165.0</td>\n",
       "      <td>198.0</td>\n",
       "      <td>2.0</td>\n",
       "      <td>NaN</td>\n",
       "      <td>15.0</td>\n",
       "      <td>52.0</td>\n",
       "      <td>129.0</td>\n",
       "      <td>886.0</td>\n",
       "      <td>381.0</td>\n",
       "      <td>372.0</td>\n",
       "      <td>133.0</td>\n",
       "      <td>17.0</td>\n",
       "    </tr>\n",
       "    <tr>\n",
       "      <th>1</th>\n",
       "      <td>Agoura Hills</td>\n",
       "      <td>20762.0</td>\n",
       "      <td>19.0</td>\n",
       "      <td>0.0</td>\n",
       "      <td>NaN</td>\n",
       "      <td>2.0</td>\n",
       "      <td>10.0</td>\n",
       "      <td>7.0</td>\n",
       "      <td>306.0</td>\n",
       "      <td>109.0</td>\n",
       "      <td>185.0</td>\n",
       "      <td>12.0</td>\n",
       "      <td>7.0</td>\n",
       "    </tr>\n",
       "    <tr>\n",
       "      <th>2</th>\n",
       "      <td>Alameda</td>\n",
       "      <td>76206.0</td>\n",
       "      <td>158.0</td>\n",
       "      <td>0.0</td>\n",
       "      <td>NaN</td>\n",
       "      <td>10.0</td>\n",
       "      <td>85.0</td>\n",
       "      <td>63.0</td>\n",
       "      <td>1902.0</td>\n",
       "      <td>287.0</td>\n",
       "      <td>1285.0</td>\n",
       "      <td>330.0</td>\n",
       "      <td>17.0</td>\n",
       "    </tr>\n",
       "    <tr>\n",
       "      <th>3</th>\n",
       "      <td>Albany</td>\n",
       "      <td>19104.0</td>\n",
       "      <td>29.0</td>\n",
       "      <td>0.0</td>\n",
       "      <td>NaN</td>\n",
       "      <td>1.0</td>\n",
       "      <td>24.0</td>\n",
       "      <td>4.0</td>\n",
       "      <td>557.0</td>\n",
       "      <td>94.0</td>\n",
       "      <td>388.0</td>\n",
       "      <td>75.0</td>\n",
       "      <td>7.0</td>\n",
       "    </tr>\n",
       "    <tr>\n",
       "      <th>4</th>\n",
       "      <td>Alhambra</td>\n",
       "      <td>84710.0</td>\n",
       "      <td>163.0</td>\n",
       "      <td>1.0</td>\n",
       "      <td>NaN</td>\n",
       "      <td>9.0</td>\n",
       "      <td>81.0</td>\n",
       "      <td>72.0</td>\n",
       "      <td>1774.0</td>\n",
       "      <td>344.0</td>\n",
       "      <td>1196.0</td>\n",
       "      <td>234.0</td>\n",
       "      <td>7.0</td>\n",
       "    </tr>\n",
       "  </tbody>\n",
       "</table>\n",
       "</div>"
      ],
      "text/plain": [
       "           City  Population  Violent\\ncrime  \\\n",
       "0      Adelanto     31165.0           198.0   \n",
       "1  Agoura Hills     20762.0            19.0   \n",
       "2       Alameda     76206.0           158.0   \n",
       "3        Albany     19104.0            29.0   \n",
       "4      Alhambra     84710.0           163.0   \n",
       "\n",
       "   Murder and\\nnonnegligent\\nmanslaughter  Rape\\n(revised\\ndefinition)1  \\\n",
       "0                                     2.0                           NaN   \n",
       "1                                     0.0                           NaN   \n",
       "2                                     0.0                           NaN   \n",
       "3                                     0.0                           NaN   \n",
       "4                                     1.0                           NaN   \n",
       "\n",
       "   Rape\\n(legacy\\ndefinition)2  Robbery  Aggravated\\nassault  Property\\ncrime  \\\n",
       "0                         15.0     52.0                129.0            886.0   \n",
       "1                          2.0     10.0                  7.0            306.0   \n",
       "2                         10.0     85.0                 63.0           1902.0   \n",
       "3                          1.0     24.0                  4.0            557.0   \n",
       "4                          9.0     81.0                 72.0           1774.0   \n",
       "\n",
       "   Burglary  Larceny-\\ntheft  Motor\\nvehicle\\ntheft  Arson  \n",
       "0     381.0            372.0                  133.0   17.0  \n",
       "1     109.0            185.0                   12.0    7.0  \n",
       "2     287.0           1285.0                  330.0   17.0  \n",
       "3      94.0            388.0                   75.0    7.0  \n",
       "4     344.0           1196.0                  234.0    7.0  "
      ]
     },
     "execution_count": 64,
     "metadata": {},
     "output_type": "execute_result"
    }
   ],
   "source": [
    "ca_data = pd.read_excel(\"table_8_offenses_known_to_law_enforcement_california_by_city_2013.xls\",skiprows=4)\n",
    "ca_data.head(5)"
   ]
  },
  {
   "cell_type": "code",
   "execution_count": 65,
   "metadata": {},
   "outputs": [],
   "source": [
    "ca_data[\"Population2\"] = np.square(ca_data[\"Population\"])"
   ]
  },
  {
   "cell_type": "code",
   "execution_count": 66,
   "metadata": {},
   "outputs": [],
   "source": [
    "ca_data = ca_data.rename(columns={\"Property\\ncrime\":\"PropertyCrime\",\"Murder and\\nnonnegligent\\nmanslaughter\":\"Murder\"})"
   ]
  },
  {
   "cell_type": "code",
   "execution_count": 67,
   "metadata": {},
   "outputs": [
    {
     "data": {
      "text/html": [
       "<div>\n",
       "<style scoped>\n",
       "    .dataframe tbody tr th:only-of-type {\n",
       "        vertical-align: middle;\n",
       "    }\n",
       "\n",
       "    .dataframe tbody tr th {\n",
       "        vertical-align: top;\n",
       "    }\n",
       "\n",
       "    .dataframe thead th {\n",
       "        text-align: right;\n",
       "    }\n",
       "</style>\n",
       "<table border=\"1\" class=\"dataframe\">\n",
       "  <thead>\n",
       "    <tr style=\"text-align: right;\">\n",
       "      <th></th>\n",
       "      <th>PropertyCrime</th>\n",
       "      <th>Population</th>\n",
       "      <th>Murder</th>\n",
       "      <th>Robbery</th>\n",
       "      <th>Population2</th>\n",
       "    </tr>\n",
       "  </thead>\n",
       "  <tbody>\n",
       "    <tr>\n",
       "      <th>0</th>\n",
       "      <td>886.0</td>\n",
       "      <td>31165.0</td>\n",
       "      <td>2.0</td>\n",
       "      <td>52.0</td>\n",
       "      <td>9.712572e+08</td>\n",
       "    </tr>\n",
       "    <tr>\n",
       "      <th>1</th>\n",
       "      <td>306.0</td>\n",
       "      <td>20762.0</td>\n",
       "      <td>0.0</td>\n",
       "      <td>10.0</td>\n",
       "      <td>4.310606e+08</td>\n",
       "    </tr>\n",
       "    <tr>\n",
       "      <th>2</th>\n",
       "      <td>1902.0</td>\n",
       "      <td>76206.0</td>\n",
       "      <td>0.0</td>\n",
       "      <td>85.0</td>\n",
       "      <td>5.807354e+09</td>\n",
       "    </tr>\n",
       "    <tr>\n",
       "      <th>3</th>\n",
       "      <td>557.0</td>\n",
       "      <td>19104.0</td>\n",
       "      <td>0.0</td>\n",
       "      <td>24.0</td>\n",
       "      <td>3.649628e+08</td>\n",
       "    </tr>\n",
       "    <tr>\n",
       "      <th>4</th>\n",
       "      <td>1774.0</td>\n",
       "      <td>84710.0</td>\n",
       "      <td>1.0</td>\n",
       "      <td>81.0</td>\n",
       "      <td>7.175784e+09</td>\n",
       "    </tr>\n",
       "  </tbody>\n",
       "</table>\n",
       "</div>"
      ],
      "text/plain": [
       "   PropertyCrime  Population  Murder  Robbery   Population2\n",
       "0          886.0     31165.0     2.0     52.0  9.712572e+08\n",
       "1          306.0     20762.0     0.0     10.0  4.310606e+08\n",
       "2         1902.0     76206.0     0.0     85.0  5.807354e+09\n",
       "3          557.0     19104.0     0.0     24.0  3.649628e+08\n",
       "4         1774.0     84710.0     1.0     81.0  7.175784e+09"
      ]
     },
     "execution_count": 67,
     "metadata": {},
     "output_type": "execute_result"
    }
   ],
   "source": [
    "# isolate select features to match NY model\n",
    "ca_crime = pd.DataFrame()\n",
    "ca_crime = ca_data[[\"PropertyCrime\",\"Population\",\"Murder\",\"Robbery\",\"Population2\"]]\n",
    "ca_crime.head(5)"
   ]
  },
  {
   "cell_type": "code",
   "execution_count": 68,
   "metadata": {},
   "outputs": [
    {
     "data": {
      "text/plain": [
       "PropertyCrime    2\n",
       "Population       2\n",
       "Murder           2\n",
       "Robbery          2\n",
       "Population2      2\n",
       "dtype: int64"
      ]
     },
     "execution_count": 68,
     "metadata": {},
     "output_type": "execute_result"
    }
   ],
   "source": [
    "# check and remove null values\n",
    "ca_crime.isnull().sum()"
   ]
  },
  {
   "cell_type": "code",
   "execution_count": 69,
   "metadata": {},
   "outputs": [
    {
     "data": {
      "text/plain": [
       "PropertyCrime    0\n",
       "Population       0\n",
       "Murder           0\n",
       "Robbery          0\n",
       "Population2      0\n",
       "dtype: int64"
      ]
     },
     "execution_count": 69,
     "metadata": {},
     "output_type": "execute_result"
    }
   ],
   "source": [
    "ca_crime = ca_crime.dropna(how=\"all\")\n",
    "ca_crime.isnull().sum()"
   ]
  },
  {
   "cell_type": "markdown",
   "metadata": {},
   "source": [
    "## Re-run NY crime dataset "
   ]
  },
  {
   "cell_type": "code",
   "execution_count": 74,
   "metadata": {},
   "outputs": [
    {
     "name": "stdout",
     "output_type": "stream",
     "text": [
      "Cross Validated Scores (NY):  [0.89280965 0.70669796 0.5787358  0.74799954 0.80088199 0.80309054]\n"
     ]
    }
   ],
   "source": [
    "# need to retrain model using training and test sets\n",
    "from sklearn.cross_validation import cross_val_score,cross_val_predict\n",
    "from sklearn import metrics\n",
    "\n",
    "ny_col = [\"Population\",\"Murder\",\"Robbery\",\"Population^2\"]\n",
    "\n",
    "# create model and fit training set to model\n",
    "ny_lm = linear_model.LinearRegression()\n",
    "X = ny.crime_model[ny_col]\n",
    "y = ny.crime_model[\"Property Crime\"]\n",
    "ny_lm.fit(X,y)\n",
    "\n",
    "\n",
    "ny_scores = cross_val_score(ny_lm,X,y,cv=6)\n",
    "print(\"Cross Validated Scores (NY): \",ny_scores)"
   ]
  },
  {
   "cell_type": "code",
   "execution_count": 75,
   "metadata": {},
   "outputs": [
    {
     "name": "stdout",
     "output_type": "stream",
     "text": [
      "Cross-Predicted Accuracy (R-squared,NY):  0.7741292753071796\n"
     ]
    }
   ],
   "source": [
    "# accuracy of ny model \n",
    "ny_pred = cross_val_predict(ny_lm,X,y,cv=6)\n",
    "ny_accuracy = metrics.r2_score(y,ny_pred)\n",
    "print(\"Cross-Predicted Accuracy (R-squared,NY): \",ny_accuracy)"
   ]
  },
  {
   "cell_type": "markdown",
   "metadata": {},
   "source": [
    "## Validate NY crime model with CA data (Cross-Validation)"
   ]
  },
  {
   "cell_type": "code",
   "execution_count": 76,
   "metadata": {},
   "outputs": [
    {
     "name": "stdout",
     "output_type": "stream",
     "text": [
      "Cross-Predicted Accuracy (R-squared,CA):  0.8788907986651734\n"
     ]
    }
   ],
   "source": [
    "ca_col = [\"Population\",\"Murder\",\"Robbery\",\"Population2\"]\n",
    "X2 = ca_crime[ca_col]\n",
    "y2 = ca_crime[\"PropertyCrime\"]\n",
    "\n",
    "ca_pred = cross_val_predict(ny_model,X2,y2,cv=6)\n",
    "ca_accuracy = metrics.r2_score(y2,ca_pred)\n",
    "print(\"Cross-Predicted Accuracy (R-squared,CA): \",ca_accuracy)"
   ]
  },
  {
   "cell_type": "code",
   "execution_count": null,
   "metadata": {},
   "outputs": [],
   "source": []
  }
 ],
 "metadata": {
  "kernelspec": {
   "display_name": "Python 3",
   "language": "python",
   "name": "python3"
  },
  "language_info": {
   "codemirror_mode": {
    "name": "ipython",
    "version": 3
   },
   "file_extension": ".py",
   "mimetype": "text/x-python",
   "name": "python",
   "nbconvert_exporter": "python",
   "pygments_lexer": "ipython3",
   "version": "3.6.4"
  }
 },
 "nbformat": 4,
 "nbformat_minor": 2
}
