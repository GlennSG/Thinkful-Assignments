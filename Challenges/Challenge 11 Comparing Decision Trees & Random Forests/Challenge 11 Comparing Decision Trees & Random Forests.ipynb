{
 "cells": [
  {
   "cell_type": "code",
   "execution_count": 25,
   "metadata": {},
   "outputs": [],
   "source": [
    "import numpy as np\n",
    "import pandas as pd\n",
    "import time\n",
    "import ny_crime2013 as ny"
   ]
  },
  {
   "cell_type": "code",
   "execution_count": 16,
   "metadata": {},
   "outputs": [
    {
     "data": {
      "text/plain": [
       "(350, 12)"
      ]
     },
     "execution_count": 16,
     "metadata": {},
     "output_type": "execute_result"
    }
   ],
   "source": [
    "ny_crime = pd.DataFrame(columns=ny.crime_data.columns)\n",
    "for col in ny_crime.columns:\n",
    "    ny_crime[col] = ny.crime_data[col]\n",
    "ny_crime.shape"
   ]
  },
  {
   "cell_type": "code",
   "execution_count": 17,
   "metadata": {},
   "outputs": [
    {
     "data": {
      "text/plain": [
       "City                           0\n",
       "Population                     3\n",
       "Violent\\ncrime                 3\n",
       "Murder                         3\n",
       "Rape\\n(legacy\\ndefinition)2    3\n",
       "Robbery                        3\n",
       "Aggravated\\nassault            3\n",
       "Property Crime                 3\n",
       "Burglary                       3\n",
       "Larceny-\\ntheft                3\n",
       "Motor\\nvehicle\\ntheft          3\n",
       "Population^2                   3\n",
       "dtype: int64"
      ]
     },
     "execution_count": 17,
     "metadata": {},
     "output_type": "execute_result"
    }
   ],
   "source": [
    "ny_crime.isnull().sum()"
   ]
  },
  {
   "cell_type": "code",
   "execution_count": 21,
   "metadata": {},
   "outputs": [
    {
     "data": {
      "text/html": [
       "<div>\n",
       "<style scoped>\n",
       "    .dataframe tbody tr th:only-of-type {\n",
       "        vertical-align: middle;\n",
       "    }\n",
       "\n",
       "    .dataframe tbody tr th {\n",
       "        vertical-align: top;\n",
       "    }\n",
       "\n",
       "    .dataframe thead th {\n",
       "        text-align: right;\n",
       "    }\n",
       "</style>\n",
       "<table border=\"1\" class=\"dataframe\">\n",
       "  <thead>\n",
       "    <tr style=\"text-align: right;\">\n",
       "      <th></th>\n",
       "      <th>City</th>\n",
       "      <th>Population</th>\n",
       "      <th>Violent\n",
       "crime</th>\n",
       "      <th>Murder</th>\n",
       "      <th>Rape\n",
       "(legacy\n",
       "definition)2</th>\n",
       "      <th>Robbery</th>\n",
       "      <th>Aggravated\n",
       "assault</th>\n",
       "      <th>Property Crime</th>\n",
       "      <th>Burglary</th>\n",
       "      <th>Larceny-\n",
       "theft</th>\n",
       "      <th>Motor\n",
       "vehicle\n",
       "theft</th>\n",
       "      <th>Population^2</th>\n",
       "    </tr>\n",
       "  </thead>\n",
       "  <tbody>\n",
       "    <tr>\n",
       "      <th>0</th>\n",
       "      <td>Adams Village</td>\n",
       "      <td>1861.0</td>\n",
       "      <td>0.0</td>\n",
       "      <td>0.0</td>\n",
       "      <td>0.0</td>\n",
       "      <td>0.0</td>\n",
       "      <td>0.0</td>\n",
       "      <td>12.0</td>\n",
       "      <td>2.0</td>\n",
       "      <td>10.0</td>\n",
       "      <td>0.0</td>\n",
       "      <td>3463321.0</td>\n",
       "    </tr>\n",
       "    <tr>\n",
       "      <th>1</th>\n",
       "      <td>Addison Town and Village</td>\n",
       "      <td>2577.0</td>\n",
       "      <td>3.0</td>\n",
       "      <td>0.0</td>\n",
       "      <td>0.0</td>\n",
       "      <td>0.0</td>\n",
       "      <td>3.0</td>\n",
       "      <td>24.0</td>\n",
       "      <td>3.0</td>\n",
       "      <td>20.0</td>\n",
       "      <td>1.0</td>\n",
       "      <td>6640929.0</td>\n",
       "    </tr>\n",
       "    <tr>\n",
       "      <th>2</th>\n",
       "      <td>Akron Village</td>\n",
       "      <td>2846.0</td>\n",
       "      <td>3.0</td>\n",
       "      <td>0.0</td>\n",
       "      <td>0.0</td>\n",
       "      <td>0.0</td>\n",
       "      <td>3.0</td>\n",
       "      <td>16.0</td>\n",
       "      <td>1.0</td>\n",
       "      <td>15.0</td>\n",
       "      <td>0.0</td>\n",
       "      <td>8099716.0</td>\n",
       "    </tr>\n",
       "  </tbody>\n",
       "</table>\n",
       "</div>"
      ],
      "text/plain": [
       "                       City  Population  Violent\\ncrime  Murder  \\\n",
       "0             Adams Village      1861.0             0.0     0.0   \n",
       "1  Addison Town and Village      2577.0             3.0     0.0   \n",
       "2             Akron Village      2846.0             3.0     0.0   \n",
       "\n",
       "   Rape\\n(legacy\\ndefinition)2  Robbery  Aggravated\\nassault  Property Crime  \\\n",
       "0                          0.0      0.0                  0.0            12.0   \n",
       "1                          0.0      0.0                  3.0            24.0   \n",
       "2                          0.0      0.0                  3.0            16.0   \n",
       "\n",
       "   Burglary  Larceny-\\ntheft  Motor\\nvehicle\\ntheft  Population^2  \n",
       "0       2.0             10.0                    0.0     3463321.0  \n",
       "1       3.0             20.0                    1.0     6640929.0  \n",
       "2       1.0             15.0                    0.0     8099716.0  "
      ]
     },
     "execution_count": 21,
     "metadata": {},
     "output_type": "execute_result"
    }
   ],
   "source": [
    "ny_crime.head(3)"
   ]
  },
  {
   "cell_type": "code",
   "execution_count": 22,
   "metadata": {},
   "outputs": [
    {
     "data": {
      "text/plain": [
       "City                           0\n",
       "Population                     0\n",
       "Violent\\ncrime                 0\n",
       "Murder                         0\n",
       "Rape\\n(legacy\\ndefinition)2    0\n",
       "Robbery                        0\n",
       "Aggravated\\nassault            0\n",
       "Property Crime                 0\n",
       "Burglary                       0\n",
       "Larceny-\\ntheft                0\n",
       "Motor\\nvehicle\\ntheft          0\n",
       "Population^2                   0\n",
       "dtype: int64"
      ]
     },
     "execution_count": 22,
     "metadata": {},
     "output_type": "execute_result"
    }
   ],
   "source": [
    "ny_crime = ny_crime.dropna(how=\"any\")\n",
    "ny_crime.isnull().sum()"
   ]
  },
  {
   "cell_type": "code",
   "execution_count": 23,
   "metadata": {},
   "outputs": [
    {
     "data": {
      "text/plain": [
       "(347, 12)"
      ]
     },
     "execution_count": 23,
     "metadata": {},
     "output_type": "execute_result"
    }
   ],
   "source": [
    "ny_crime.shape"
   ]
  },
  {
   "cell_type": "code",
   "execution_count": 24,
   "metadata": {},
   "outputs": [
    {
     "data": {
      "text/plain": [
       "City                            object\n",
       "Population                     float64\n",
       "Violent\\ncrime                 float64\n",
       "Murder                         float64\n",
       "Rape\\n(legacy\\ndefinition)2    float64\n",
       "Robbery                        float64\n",
       "Aggravated\\nassault            float64\n",
       "Property Crime                 float64\n",
       "Burglary                       float64\n",
       "Larceny-\\ntheft                float64\n",
       "Motor\\nvehicle\\ntheft          float64\n",
       "Population^2                   float64\n",
       "dtype: object"
      ]
     },
     "execution_count": 24,
     "metadata": {},
     "output_type": "execute_result"
    }
   ],
   "source": [
    "ny_crime.dtypes"
   ]
  },
  {
   "cell_type": "markdown",
   "metadata": {},
   "source": [
    "## Decision Tree"
   ]
  },
  {
   "cell_type": "code",
   "execution_count": 28,
   "metadata": {},
   "outputs": [
    {
     "name": "stdout",
     "output_type": "stream",
     "text": [
      "Decision Tree Runtime:  0.006930351257324219\n"
     ]
    }
   ],
   "source": [
    "from sklearn import tree\n",
    "\n",
    "start = time.time()\n",
    "\n",
    "decision_tree = tree.DecisionTreeRegressor(criterion='mse',max_features=1,max_depth=4,random_state=50)\n",
    "\n",
    "X = ny_crime.drop(\"Property Crime\",1)\n",
    "X = pd.get_dummies(X)\n",
    "y = ny_crime[\"Property Crime\"]\n",
    "\n",
    "decision_tree.fit(X,y)\n",
    "\n",
    "end = time.time()\n",
    "\n",
    "print(\"Decision Tree Runtime: \",(end-start))"
   ]
  },
  {
   "cell_type": "markdown",
   "metadata": {},
   "source": [
    "## Random Forest"
   ]
  },
  {
   "cell_type": "code",
   "execution_count": 29,
   "metadata": {},
   "outputs": [
    {
     "name": "stdout",
     "output_type": "stream",
     "text": [
      "Random Forest Runtime:  0.051982879638671875\n"
     ]
    }
   ],
   "source": [
    "from sklearn import ensemble\n",
    "\n",
    "start = time.time()\n",
    "\n",
    "rfc = ensemble.RandomForestRegressor()\n",
    "\n",
    "rfc.fit(X,y)\n",
    "\n",
    "end = time.time()\n",
    "\n",
    "print(\"Random Forest Runtime: \",(end-start))"
   ]
  }
 ],
 "metadata": {
  "kernelspec": {
   "display_name": "Python 3",
   "language": "python",
   "name": "python3"
  },
  "language_info": {
   "codemirror_mode": {
    "name": "ipython",
    "version": 3
   },
   "file_extension": ".py",
   "mimetype": "text/x-python",
   "name": "python",
   "nbconvert_exporter": "python",
   "pygments_lexer": "ipython3",
   "version": "3.6.4"
  }
 },
 "nbformat": 4,
 "nbformat_minor": 2
}
