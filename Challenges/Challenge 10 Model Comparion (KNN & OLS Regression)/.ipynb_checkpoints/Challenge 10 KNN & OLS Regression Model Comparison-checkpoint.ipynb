{
 "cells": [
  {
   "cell_type": "code",
   "execution_count": 1,
   "metadata": {},
   "outputs": [],
   "source": [
    "import pandas as pd\n",
    "import numpy as np\n",
    "import scipy\n",
    "import matplotlib.pyplot as plt\n",
    "%matplotlib inline\n",
    "\n",
    "music = pd.DataFrame()\n",
    "music['duration'] = [184, 134, 243, 186, 122, 197, 294, 382, 102, 264, \n",
    "                     205, 110, 307, 110, 397, 153, 190, 192, 210, 403,\n",
    "                     164, 198, 204, 253, 234, 190, 182, 401, 376, 102]\n",
    "music['loudness'] = [18, 34, 43, 36, 22, 9, 29, 22, 10, 24, \n",
    "                     20, 10, 17, 51, 7, 13, 19, 12, 21, 22,\n",
    "                     16, 18, 4, 23, 34, 19, 14, 11, 37, 42]\n",
    "music['bpm'] = [ 105, 90, 78, 75, 120, 110, 80, 100, 105, 60,\n",
    "                  70, 105, 95, 70, 90, 105, 70, 75, 102, 100,\n",
    "                  100, 95, 90, 80, 90, 80, 100, 105, 70, 65]"
   ]
  },
  {
   "cell_type": "markdown",
   "metadata": {},
   "source": [
    "## KNN Regression "
   ]
  },
  {
   "cell_type": "code",
   "execution_count": 2,
   "metadata": {},
   "outputs": [
    {
     "name": "stdout",
     "output_type": "stream",
     "text": [
      "KNN Cross Validated Scores:  [ 0.04504854  0.18762645 -0.11782338  0.23504446 -0.12381251 -0.23693566]\n"
     ]
    }
   ],
   "source": [
    "from sklearn import neighbors\n",
    "from sklearn import metrics\n",
    "from sklearn.model_selection import cross_val_score,cross_val_predict\n",
    "\n",
    "knn = neighbors.KNeighborsRegressor(n_neighbors=10,weights=\"distance\")\n",
    "X = music[[\"duration\",\"loudness\"]]\n",
    "Y = music[\"bpm\"].values.reshape(-1,1)\n",
    "knn_model = knn.fit(X,Y)\n",
    "\n",
    "knn_scores = cross_val_score(knn_model,X,Y,cv=6)\n",
    "print(\"KNN Cross Validated Scores: \",knn_scores)"
   ]
  },
  {
   "cell_type": "code",
   "execution_count": 3,
   "metadata": {},
   "outputs": [
    {
     "name": "stdout",
     "output_type": "stream",
     "text": [
      "Cross-Predicted Accuracy (R-squared):  0.07457754793350957\n"
     ]
    }
   ],
   "source": [
    "knn_pred = cross_val_predict(knn_model,X,Y,cv=6)\n",
    "knn_accuracy = metrics.r2_score(Y,knn_pred)\n",
    "print(\"Cross-Predicted Accuracy (R-squared): \",knn_accuracy)"
   ]
  },
  {
   "cell_type": "markdown",
   "metadata": {},
   "source": [
    "## OLS Regression"
   ]
  },
  {
   "cell_type": "code",
   "execution_count": 5,
   "metadata": {},
   "outputs": [
    {
     "name": "stdout",
     "output_type": "stream",
     "text": [
      "OLS Regression Cross Validated Scores:  [-0.09633617  0.35699376  0.36708781 -0.38979445 -0.92832333  0.48886169]\n"
     ]
    }
   ],
   "source": [
    "from sklearn import linear_model\n",
    "\n",
    "regr = linear_model.LinearRegression()\n",
    "regr_model = regr.fit(X,Y)\n",
    "\n",
    "regr_scores = cross_val_score(regr_model,X,Y,cv=6)\n",
    "print(\"OLS Regression Cross Validated Scores: \",regr_scores)"
   ]
  },
  {
   "cell_type": "code",
   "execution_count": 6,
   "metadata": {},
   "outputs": [
    {
     "name": "stdout",
     "output_type": "stream",
     "text": [
      "Cross-Predicted Accuracy (R-squared):  0.16302373136435722\n"
     ]
    }
   ],
   "source": [
    "regr_pred = cross_val_predict(regr_model,X,Y,cv=6)\n",
    "regr_accuracy = metrics.r2_score(Y,regr_pred)\n",
    "print(\"Cross-Predicted Accuracy (R-squared): \",regr_accuracy)"
   ]
  },
  {
   "cell_type": "markdown",
   "metadata": {},
   "source": [
    "Based on the scores, it would appear that OLS Regression is more accurate model than KNN using the \"music\" dataset. KNN would probably be a better classifier than a regressor since similarities between data values may be a stronger tool in classifying unknowns. The data used in this experiment was primarily continuous, OLS regression would be particularly effective in making predictions using this dataset. "
   ]
  },
  {
   "cell_type": "code",
   "execution_count": null,
   "metadata": {},
   "outputs": [],
   "source": []
  }
 ],
 "metadata": {
  "kernelspec": {
   "display_name": "Python 3",
   "language": "python",
   "name": "python3"
  },
  "language_info": {
   "codemirror_mode": {
    "name": "ipython",
    "version": 3
   },
   "file_extension": ".py",
   "mimetype": "text/x-python",
   "name": "python",
   "nbconvert_exporter": "python",
   "pygments_lexer": "ipython3",
   "version": "3.6.4"
  }
 },
 "nbformat": 4,
 "nbformat_minor": 2
}
