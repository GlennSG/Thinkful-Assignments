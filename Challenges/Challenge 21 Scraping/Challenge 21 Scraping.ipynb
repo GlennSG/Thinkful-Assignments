{
 "cells": [
  {
   "cell_type": "markdown",
   "metadata": {},
   "source": [
    "Do a little scraping or API-calling of your own. Pick a new website and see what you can get out of it. Expect that you'll run into bugs and blind alleys, and rely on your mentor to help you get through.\n",
    "\n",
    "Formally, your goal is to write a scraper that will:\n",
    "\n",
    "1) Return specific pieces of information (rather than just downloading a whole page)\n",
    "\n",
    "2) Iterate over multiple pages/queries\n",
    "\n",
    "3) Save the data to your computer\n",
    "\n",
    "Once you have your data, compute some statistical summaries and/or visualizations that give you some new insights into your scraping topic of interest. Write up a report from scraping code to summary and share it with your mentor."
   ]
  },
  {
   "cell_type": "code",
   "execution_count": 37,
   "metadata": {},
   "outputs": [],
   "source": [
    "import os\n",
    "from bs4 import BeautifulSoup\n",
    "from selenium import webdriver\n",
    "from selenium.webdriver.common.keys import Keys\n",
    "from selenium.webdriver.common.by import By\n",
    "import time\n",
    "import sys\n",
    "import numpy as np\n",
    "import pandas as pd\n",
    "import regex as re"
   ]
  },
  {
   "cell_type": "code",
   "execution_count": 38,
   "metadata": {},
   "outputs": [],
   "source": [
    "def get_house_links(url,driver,pages=20):\n",
    "    house_links = []\n",
    "    driver.get(url)\n",
    "    for i in range(pages):\n",
    "        soup = BeautifulSoup(driver.page_source,'html.parser')\n",
    "        listings = soup.find_all(\"a\",class_=\"zsg-photo-card-overlay-link\")\n",
    "        page_data = [\"https://www.zillow.com\" + row[\"href\"] for row in listings]\n",
    "        house_links.append(page_data)\n",
    "        time.sleep(np.random.lognormal(0,1))\n",
    "        next_button = soup.find_all(\"a\",class_=\"on\")\n",
    "        next_button_link = [\"https://www.zillow.com\" + row[\"href\"] for row in next_button]\n",
    "        \n",
    "        if i < 19:\n",
    "            driver.get(next_button_link[0])\n",
    "    \n",
    "    return house_links\n",
    "\n",
    "def get_html_data(url,driver):\n",
    "    driver.get(url)\n",
    "    time.sleep(np.random.lognormal(0,1))\n",
    "    soup = BeautifulSoup(driver.page_source, 'html.parser')\n",
    "    return soup\n",
    "\n",
    "\n",
    "def get_price(soup):\n",
    "    try:\n",
    "        for element in soup.find_all(class_='estimates'):\n",
    "            price = element.find_all(\"span\")[1].text\n",
    "        price = price.replace(\",\", \"\").replace(\"+\", \"\").replace(\"$\", \"\").lower()\n",
    "        return int(price)\n",
    "    except:\n",
    "        return np.nan\n",
    "    \n",
    "def get_sale_date(soup):\n",
    "    try:\n",
    "        for element in soup.find_all(class_='estimates'):\n",
    "            sale_date = element.find_all(\"span\")[3].text\n",
    "        sale_date = sale_date.strip()\n",
    "        return sale_date\n",
    "    except:\n",
    "        return 'None'\n",
    "    \n",
    "def get_lot_size(soup):\n",
    "    try:\n",
    "        lot_size_regex = re.compile('Lot:')\n",
    "        obj = soup.find(text=lot_size_regex).find_next()\n",
    "        return obj.text\n",
    "    except:\n",
    "        return 'None'\n",
    "def get_address(soup):\n",
    "    try:\n",
    "        obj = soup.find(\"header\",class_=\"zsg-content-header addr\").text.split(',')\n",
    "        address = obj[0]\n",
    "        return address\n",
    "    except:\n",
    "        return 'None'\n",
    "def get_city(soup):\n",
    "    try:\n",
    "        obj = soup.find(\"header\",class_=\"zsg-content-header addr\").text.split(',')\n",
    "        city = obj[1]\n",
    "        return city\n",
    "    except:\n",
    "        return 'None'\n",
    "    \n",
    "def get_zip(soup):\n",
    "    try:\n",
    "        obj = soup.find(\"header\",class_=\"zsg-content-header addr\").text.split(',')\n",
    "        list = obj[2].split()\n",
    "        zip_code = list[1]\n",
    "        return zip_code\n",
    "    except:\n",
    "        return 'None'\n",
    "def get_num_beds(soup):\n",
    "    try:\n",
    "        obj = soup.find_all(\"span\",class_='addr_bbs')\n",
    "        beds = obj[0].text.split()[0]\n",
    "        return beds\n",
    "    except:\n",
    "        return 'None'\n",
    "    \n",
    "def get_num_baths(soup):\n",
    "    try:\n",
    "        obj = soup.find_all(\"span\",class_='addr_bbs')\n",
    "        beds = obj[1].text.split()[0]\n",
    "        return beds\n",
    "    except:\n",
    "        return 'None'\n",
    "    \n",
    "def get_floor_size(soup):\n",
    "    try:\n",
    "        obj = soup.find_all(\"span\",class_='addr_bbs')\n",
    "        floor_size_string = obj[2].text.split()[0]\n",
    "        floor_size = floor_size_string.replace(\",\",\"\")\n",
    "        return floor_size\n",
    "    except:\n",
    "        return 'None'\n",
    "    \n",
    "def get_year_built(soup):\n",
    "    try:\n",
    "        objs = soup.find_all(\"span\",class_='hdp-fact-value')\n",
    "        built_in_regex = re.compile('Built in')\n",
    "        for obj in objs:\n",
    "            out = obj.find(text=built_in_regex)\n",
    "            if out is not None:\n",
    "                return out\n",
    "    except:\n",
    "        return 'None'\n",
    "\n",
    "def flatten_list(house_links):\n",
    "    house_links_flat=[]\n",
    "    for sublist in house_links:\n",
    "        for item in sublist:\n",
    "            house_links_flat.append(item)\n",
    "    return house_links_flat\n",
    "\n",
    "def get_house_data(driver,house_links_flat):\n",
    "    house_data = []\n",
    "    for link in house_links_flat:\n",
    "        soup = get_html_data(link,driver)\n",
    "        address = get_address(soup)\n",
    "        city = get_city(soup)\n",
    "        zip_code = get_zip(soup)\n",
    "        beds = get_num_beds(soup)\n",
    "        baths = get_num_baths(soup)\n",
    "        floor_size = get_floor_size(soup)\n",
    "        lot_size = get_lot_size(soup)\n",
    "        year_built = get_year_built(soup)\n",
    "        sale_date = get_sale_date(soup)\n",
    "        price = get_price(soup)\n",
    "        house_data.append([address,city,zip_code,beds,baths,floor_size,lot_size,year_built,sale_date,price])\n",
    "        \n",
    "    return house_data"
   ]
  },
  {
   "cell_type": "code",
   "execution_count": 39,
   "metadata": {},
   "outputs": [
    {
     "name": "stdout",
     "output_type": "stream",
     "text": [
      "chromedriver path: /home/glenn/Downloads/chromedriver\n"
     ]
    }
   ],
   "source": [
    "os.environ[\"LANG\"] = \"en_US.UTF-8\"\n",
    "chromedriver = \"/home/glenn/Downloads/chromedriver\"\n",
    "chromedriver = os.path.expanduser(chromedriver)\n",
    "print('chromedriver path: {}'.format(chromedriver))\n",
    "sys.path.append(chromedriver)\n",
    "\n",
    "driver = webdriver.Chrome(chromedriver)"
   ]
  },
  {
   "cell_type": "code",
   "execution_count": 40,
   "metadata": {},
   "outputs": [],
   "source": [
    "zillow_hayward_url = \"https://www.zillow.com/homes/Hayward-CA_rb/\"\n",
    "driver.get(zillow_hayward_url)"
   ]
  },
  {
   "cell_type": "code",
   "execution_count": 41,
   "metadata": {},
   "outputs": [
    {
     "data": {
      "text/plain": [
       "[<a class=\"zsg-photo-card-overlay-link routable hdp-link routable mask hdp-link\" href=\"/community/mission-crossing/2087913238_zpid/\"></a>,\n",
       " <a class=\"zsg-photo-card-overlay-link routable hdp-link routable mask hdp-link\" href=\"/homedetails/23207-Ernest-Ct-Hayward-CA-94541/24967298_zpid/\"></a>,\n",
       " <a class=\"zsg-photo-card-overlay-link routable hdp-link routable mask hdp-link\" href=\"/homedetails/928-Fletcher-Ln-APT-7-Hayward-CA-94544/2109627309_zpid/\"></a>,\n",
       " <a class=\"zsg-photo-card-overlay-link routable hdp-link routable mask hdp-link\" href=\"/homedetails/685-Dartmore-Ln-APT-267-Hayward-CA-94544/68030897_zpid/\"></a>,\n",
       " <a class=\"zsg-photo-card-overlay-link routable hdp-link routable mask hdp-link\" href=\"/homedetails/1017-Imperial-Pl-Hayward-CA-94541/24972505_zpid/\"></a>]"
      ]
     },
     "execution_count": 41,
     "metadata": {},
     "output_type": "execute_result"
    }
   ],
   "source": [
    "soup = BeautifulSoup(driver.page_source,'html.parser')\n",
    "listings = soup.find_all(\"a\",class_='zsg-photo-card-overlay-link')\n",
    "listings[:5]"
   ]
  },
  {
   "cell_type": "code",
   "execution_count": 42,
   "metadata": {},
   "outputs": [],
   "source": [
    "house_links = [\"https://www.zillow.com\" + row['href'] for row in listings]"
   ]
  },
  {
   "cell_type": "code",
   "execution_count": 43,
   "metadata": {},
   "outputs": [],
   "source": [
    "next_button = soup.find_all(\"a\",class_=\"on\")\n",
    "next_link = [\"https://www.zillow.com\" + row[\"href\"] for row in next_button]"
   ]
  },
  {
   "cell_type": "code",
   "execution_count": 44,
   "metadata": {},
   "outputs": [],
   "source": [
    "house_links = get_house_links(zillow_hayward_url,driver,pages=10)\n",
    "house_links_flat = flatten_list(house_links)\n",
    "house_data = get_house_data(driver,house_links_flat)"
   ]
  },
  {
   "cell_type": "code",
   "execution_count": 46,
   "metadata": {},
   "outputs": [],
   "source": [
    "file_name = \"%s_%s.csv\" % (str(time.strftime(\"%Y-%m-%d\")), \n",
    "                           str(time.strftime(\"%H%M%S\")))\n",
    "columns = [\"address\", \"city\", \"zip\", \"bedrooms\", \"bathrooms\", \"floor_size\", \"lot_size\", \"year_built\", \"sale_date\", \"sale_price\"]\n",
    "pd.DataFrame(house_data, columns = columns).to_csv(\n",
    "    file_name, index = False, encoding = \"UTF-8\"\n",
    ")"
   ]
  },
  {
   "cell_type": "code",
   "execution_count": 53,
   "metadata": {},
   "outputs": [],
   "source": [
    "hayward_listing = pd.read_csv(file_name)"
   ]
  },
  {
   "cell_type": "code",
   "execution_count": 54,
   "metadata": {},
   "outputs": [
    {
     "data": {
      "text/html": [
       "<div>\n",
       "<style scoped>\n",
       "    .dataframe tbody tr th:only-of-type {\n",
       "        vertical-align: middle;\n",
       "    }\n",
       "\n",
       "    .dataframe tbody tr th {\n",
       "        vertical-align: top;\n",
       "    }\n",
       "\n",
       "    .dataframe thead th {\n",
       "        text-align: right;\n",
       "    }\n",
       "</style>\n",
       "<table border=\"1\" class=\"dataframe\">\n",
       "  <thead>\n",
       "    <tr style=\"text-align: right;\">\n",
       "      <th></th>\n",
       "      <th>address</th>\n",
       "      <th>city</th>\n",
       "      <th>zip</th>\n",
       "      <th>bedrooms</th>\n",
       "      <th>bathrooms</th>\n",
       "      <th>floor_size</th>\n",
       "      <th>lot_size</th>\n",
       "      <th>year_built</th>\n",
       "      <th>sale_date</th>\n",
       "      <th>sale_price</th>\n",
       "    </tr>\n",
       "  </thead>\n",
       "  <tbody>\n",
       "    <tr>\n",
       "      <th>0</th>\n",
       "      <td>None</td>\n",
       "      <td>None</td>\n",
       "      <td>None</td>\n",
       "      <td>None</td>\n",
       "      <td>None</td>\n",
       "      <td>None</td>\n",
       "      <td>None</td>\n",
       "      <td>NaN</td>\n",
       "      <td>None</td>\n",
       "      <td>NaN</td>\n",
       "    </tr>\n",
       "    <tr>\n",
       "      <th>1</th>\n",
       "      <td>None</td>\n",
       "      <td>None</td>\n",
       "      <td>None</td>\n",
       "      <td>None</td>\n",
       "      <td>None</td>\n",
       "      <td>None</td>\n",
       "      <td>5,553 sqft</td>\n",
       "      <td>NaN</td>\n",
       "      <td>Zestimate®</td>\n",
       "      <td>780000.0</td>\n",
       "    </tr>\n",
       "    <tr>\n",
       "      <th>2</th>\n",
       "      <td>928 Fletcher Ln APT 7</td>\n",
       "      <td>Hayward</td>\n",
       "      <td>94544</td>\n",
       "      <td>2</td>\n",
       "      <td>1</td>\n",
       "      <td>800</td>\n",
       "      <td>None</td>\n",
       "      <td>NaN</td>\n",
       "      <td>$2,095  /mo</td>\n",
       "      <td>NaN</td>\n",
       "    </tr>\n",
       "  </tbody>\n",
       "</table>\n",
       "</div>"
      ],
      "text/plain": [
       "                  address      city    zip bedrooms bathrooms floor_size  \\\n",
       "0                    None      None   None     None      None       None   \n",
       "1                    None      None   None     None      None       None   \n",
       "2   928 Fletcher Ln APT 7   Hayward  94544        2         1        800   \n",
       "\n",
       "     lot_size year_built    sale_date  sale_price  \n",
       "0        None        NaN         None         NaN  \n",
       "1  5,553 sqft        NaN   Zestimate®    780000.0  \n",
       "2        None        NaN  $2,095  /mo         NaN  "
      ]
     },
     "execution_count": 54,
     "metadata": {},
     "output_type": "execute_result"
    }
   ],
   "source": [
    "hayward_listing.head(3)"
   ]
  }
 ],
 "metadata": {
  "kernelspec": {
   "display_name": "Python 3",
   "language": "python",
   "name": "python3"
  },
  "language_info": {
   "codemirror_mode": {
    "name": "ipython",
    "version": 3
   },
   "file_extension": ".py",
   "mimetype": "text/x-python",
   "name": "python",
   "nbconvert_exporter": "python",
   "pygments_lexer": "ipython3",
   "version": "3.6.5"
  }
 },
 "nbformat": 4,
 "nbformat_minor": 2
}
