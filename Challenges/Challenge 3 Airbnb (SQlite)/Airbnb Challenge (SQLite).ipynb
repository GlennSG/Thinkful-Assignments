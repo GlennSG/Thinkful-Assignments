{
 "cells": [
  {
   "cell_type": "markdown",
   "metadata": {},
   "source": [
    "sqlite3\n",
    "\n",
    ".mode csv\n",
    "\n",
    ".import c:/sqlite/listings.csv amsterdam\n",
    "\n",
    ".schema"
   ]
  },
  {
   "cell_type": "markdown",
   "metadata": {},
   "source": [
    "### 1) What's the most expensive listing? What else can you tell me about the listing?"
   ]
  },
  {
   "cell_type": "markdown",
   "metadata": {},
   "source": [
    "SELECT\n",
    "\n",
    "    max(price),name,host_name\n",
    "\n",
    "FROM\n",
    "\n",
    "    amsterdam;"
   ]
  },
  {
   "cell_type": "code",
   "execution_count": null,
   "metadata": {},
   "outputs": [],
   "source": [
    "name                                 host_name   max(price)\n",
    "-----------------------------------  ----------  ----------\n",
    "?Central Canal House - Whole House?  Max         999"
   ]
  },
  {
   "cell_type": "markdown",
   "metadata": {},
   "source": [
    "### 2) What neighborhoods seem to be the most popular?"
   ]
  },
  {
   "cell_type": "markdown",
   "metadata": {},
   "source": [
    "SELECT\n",
    "\n",
    "    neighbourhood,number_of_reviews,reviews_per_month,calculated_host_listings_count\n",
    "\n",
    "FROM\n",
    "\n",
    "    amsterdam\n",
    "    \n",
    "GROUP BY neighbourhood;"
   ]
  },
  {
   "cell_type": "code",
   "execution_count": null,
   "metadata": {},
   "outputs": [],
   "source": [
    "neighbourhood    number_of_reviews  reviews_per_month  calculated_host_listings_count\n",
    "---------------  -----------------  -----------------  ------------------------------\n",
    "Bijlmer-Centrum  0                                     1\n",
    "Bijlmer-Oost     2                  0.30               3\n",
    "Bos en Lommer    1                  1                  3\n",
    "Buitenveldert -  0                                     1\n",
    "Centrum-Oost     5                  0.09               6\n",
    "Centrum-West     29                 1.30               1\n",
    "De Aker - Nieuw  2                  2                  1\n",
    "De Baarsjes - O  0                                     2\n",
    "De Pijp - Rivie  0                                     1\n",
    "Gaasperdam - Dr  0                                     7\n",
    "Geuzenveld - Sl  9                  0.55               1\n",
    "IJburg - Zeebur  4                  0.36               1\n",
    "Noord-Oost       0                                     2\n",
    "Noord-West       0                                     1\n",
    "Oostelijk Haven  5                  1.50               1\n",
    "Osdorp           2                  2                  1\n",
    "Oud-Noord        0                                     5\n",
    "Oud-Oost         2                  0.18               1\n",
    "Slotervaart      31                 1.27               1\n",
    "Watergraafsmeer  0                                     1\n",
    "Westerpark       2                  0.57               112\n",
    "Zuid             3                  3                  1"
   ]
  },
  {
   "cell_type": "markdown",
   "metadata": {},
   "source": [
    "Appears Slotervaart, Centrum-West, and Oostelijk Haven are the most popular neighborhoods by reviews."
   ]
  },
  {
   "cell_type": "markdown",
   "metadata": {},
   "source": [
    "### 3) What time of year is the cheapest time to go to your city? What about the busiest?"
   ]
  },
  {
   "cell_type": "markdown",
   "metadata": {},
   "source": [
    "with avg_price as(\n",
    "\n",
    "    select neighbourhood, avg(price) price_avg\n",
    "    \n",
    "    FROM\n",
    "    \n",
    "        amsterdam\n",
    "    \n",
    "    GROUP BY neighbourhood)\n",
    "\n",
    "SELECT\n",
    "\n",
    "    avg_price.price_avg,amsterdam.neighbourhood,amsterdam_reviews.date,count(*) listing_count\n",
    "\n",
    "FROM\n",
    "\n",
    "    avg_price\n",
    "\n",
    "JOIN \n",
    "\n",
    "    amsterdam\n",
    "\n",
    "ON\n",
    "\n",
    "    avg_price.neighbourhood = amsterdam.neighbourhood\n",
    "\n",
    "JOIN\n",
    "\n",
    "    amsterdam.reviews\n",
    "\n",
    "ON \n",
    "   \n",
    "    amsterdam.id = amsterdam_reviews.listing_id\n",
    "\n",
    "GROUP BY avg_price.neighbourhood\n",
    "\n",
    "ORDER BY listing_count DESC;"
   ]
  },
  {
   "cell_type": "code",
   "execution_count": null,
   "metadata": {},
   "outputs": [],
   "source": [
    "price_avg,        neighbourhood, date,  listing_count\n",
    "176.995869664984,Centrum-West,2016-02-21,57798\n",
    "134.603745092117,\"De Baarsjes - Oud-West\",2017-10-29,56296\n",
    "144.363405336722,\"De Pijp - Rivierenbuurt\",2016-01-03,38462\n",
    "173.826086956522,Centrum-Oost,2017-11-13,37962\n",
    "133.20482809071,Westerpark,2017-11-08,23185\n",
    "158.912854030501,Zuid,2016-07-17,19749\n",
    "109.647572815534,\"Bos en Lommer\",2016-06-15,17171\n",
    "130.699490662139,Oud-Oost,2017-11-04,17091\n",
    "126.249173098126,\"Oostelijk Havengebied - Indische Buurt\",2017-11-08,14557\n",
    "139.94674556213,Oud-Noord,2016-02-22,9160\n",
    "133.957489878543,Watergraafsmeer,2016-01-05,6733\n",
    "112.720930232558,Slotervaart,2017-01-23,6498\n",
    "162.017632241814,\"IJburg - Zeeburgereiland\",2017-05-08,5769\n",
    "111.706106870229,Noord-West,2017-11-13,5324\n",
    "111.536697247706,Noord-Oost,2017-08-25,3916\n",
    "117.739495798319,\"De Aker - Nieuw Sloten\",2017-11-23,3611\n",
    "113.872340425532,\"Geuzenveld - Slotermeer\",2017-08-13,3585\n",
    "103.328859060403,Osdorp,2016-07-23,2860\n",
    "125.654166666667,\"Buitenveldert - Zuidas\",2015-12-08,2724\n",
    "82.5045045045045,\"Gaasperdam - Driemond\",2017-10-22,1857\n",
    "86.3469387755102,Bijlmer-Oost,2017-09-16,1780\n",
    "91.39,Bijlmer-Centrum,2017-11-27,1728"
   ]
  },
  {
   "cell_type": "markdown",
   "metadata": {},
   "source": [
    "Cheapest Time to go to Amsterdam: Late November (holidays?)\n",
    "Most Expensive Time to go to Amsterdam: Late February \n",
    "\n",
    "Data interpreted by listing counts. Higher number of listings indicates higher demand for AirBnB housing, there also appears to be a positive correlation between listing counts and housing prices. "
   ]
  }
 ],
 "metadata": {
  "kernelspec": {
   "display_name": "Python 3",
   "language": "python",
   "name": "python3"
  },
  "language_info": {
   "codemirror_mode": {
    "name": "ipython",
    "version": 3
   },
   "file_extension": ".py",
   "mimetype": "text/x-python",
   "name": "python",
   "nbconvert_exporter": "python",
   "pygments_lexer": "ipython3",
   "version": "3.6.3"
  }
 },
 "nbformat": 4,
 "nbformat_minor": 2
}
